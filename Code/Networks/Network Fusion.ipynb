{
 "cells": [
  {
   "cell_type": "markdown",
   "id": "23888e75-83a1-4815-91aa-bc87e55412bc",
   "metadata": {},
   "source": [
    "### Fused Network\n",
    "- Edge filtering: On edge weight, time window, and sentiment.\n",
    "- Node Pruning: on eigenvector centrality."
   ]
  },
  {
   "cell_type": "code",
   "execution_count": 1,
   "id": "c48d358d-0a1d-4524-80de-7d66ab9dea46",
   "metadata": {},
   "outputs": [],
   "source": [
    "import torch\n",
    "import pandas as pd\n",
    "import time\n",
    "import ast\n",
    "device = 'cuda' if torch.cuda.is_available() else 'cpu'"
   ]
  },
  {
   "cell_type": "code",
   "execution_count": 2,
   "id": "b50232f4-860d-4d36-ad12-a1eed5aefec5",
   "metadata": {},
   "outputs": [],
   "source": [
    "import pickle\n",
    "import networkx as nx\n"
   ]
  },
  {
   "cell_type": "code",
   "execution_count": 3,
   "id": "7880be54-fee4-470d-87b2-66757b7daef0",
   "metadata": {},
   "outputs": [],
   "source": [
    "en_text = nx.read_gexf(\"en_text_graph_new.gexf\") \n",
    "en_domain = nx.read_gexf(\"en_co_domain_network.gexf\") \n",
    "en_tag = nx.read_gexf(\"en_co_hashtag_graph_new.gexf\") \n"
   ]
  },
  {
   "cell_type": "code",
   "execution_count": 4,
   "id": "745c42a0-dcf7-4a45-afdb-b78525992ea5",
   "metadata": {},
   "outputs": [],
   "source": [
    "es_text = nx.read_gexf(\"es_text_graph.gexf\") \n",
    "es_domain = nx.read_gexf(\"es_co_domain_network.gexf\") \n",
    "es_tag = nx.read_gexf(\"es_co_hashtag_graph_new.gexf\") \n"
   ]
  },
  {
   "cell_type": "code",
   "execution_count": 5,
   "id": "a467ba4c-79a5-4676-8515-d734199fb02b",
   "metadata": {},
   "outputs": [],
   "source": [
    "en_data = pd.read_csv('en_sent.csv')\n",
    "es_data = pd.read_csv('es_sent.csv')\n"
   ]
  },
  {
   "cell_type": "code",
   "execution_count": 6,
   "id": "d3d73633-eae8-42db-aefd-464e8fb248df",
   "metadata": {},
   "outputs": [],
   "source": [
    "def convert_format(field):\n",
    "    return ast.literal_eval(field)\n",
    "\n",
    "en_data['hashtags'] = en_data['hashtags'].apply(convert_format)\n",
    "en_data['links'] = en_data['links'].apply(convert_format)\n",
    "en_data['mentionedUsers'] = en_data['mentionedUsers'].apply(convert_format)\n",
    "\n",
    "es_data['hashtags'] = es_data['hashtags'].apply(convert_format)\n",
    "es_data['links'] = es_data['links'].apply(convert_format)\n",
    "es_data['mentionedUsers'] = es_data['mentionedUsers'].apply(convert_format)\n"
   ]
  },
  {
   "cell_type": "markdown",
   "id": "5f27e582-810d-4dc1-b970-1dcfa36e487c",
   "metadata": {},
   "source": [
    "#### Measure the sentiment of each tweet for future usage"
   ]
  },
  {
   "cell_type": "code",
   "execution_count": 6,
   "id": "d3851e72-6764-476f-bf18-17b593a09759",
   "metadata": {},
   "outputs": [],
   "source": [
    "from transformers import AutoTokenizer, AutoModelForSequenceClassification\n",
    "\n",
    "# Load the sentiment model\n",
    "tokenizer = AutoTokenizer.from_pretrained(\"lxyuan/distilbert-base-multilingual-cased-sentiments-student\")\n",
    "model = AutoModelForSequenceClassification.from_pretrained(\"lxyuan/distilbert-base-multilingual-cased-sentiments-student\").to(device)\n"
   ]
  },
  {
   "cell_type": "code",
   "execution_count": 7,
   "id": "cc1770eb-d7c6-4d2f-bc37-7ccbb8554e83",
   "metadata": {},
   "outputs": [],
   "source": [
    "# def get_sentiment(text):\n",
    "#     inputs = tokenizer(text, return_tensors=\"pt\", truncation=True, max_length=512).to(device)\n",
    "#     outputs = model(**inputs)\n",
    "#     sentiment = torch.argmax(outputs.logits, dim=1).item()  # 0: negative, 1: neutral, 2: positive\n",
    "#     return sentiment\n"
   ]
  },
  {
   "cell_type": "code",
   "execution_count": null,
   "id": "e5b69160-206f-4bbf-8cd8-1b1defbd9b86",
   "metadata": {},
   "outputs": [],
   "source": [
    "def precompute_sentiments(dataframe):\n",
    "    \"\"\"\n",
    "    Adds a 'sentiment' column to the DataFrame with precomputed sentiment values in batch.\n",
    "\n",
    "    Parameters:\n",
    "    - dataframe: DataFrame containing tweet text in the 'text' column.\n",
    "\n",
    "    Returns:\n",
    "    - dataframe: Updated DataFrame with a new 'sentiment' column.\n",
    "    \"\"\"\n",
    "    # Prepare texts for sentiment analysis\n",
    "    texts = dataframe['text'].fillna(\"\").tolist()\n",
    "\n",
    "    # Tokenize and process in batches\n",
    "    sentiments = []\n",
    "    batch_size = 128\n",
    "    for i in range(0, len(texts), batch_size):\n",
    "        batch_texts = texts[i:i + batch_size]\n",
    "        inputs = tokenizer(batch_texts, return_tensors=\"pt\", padding=True, truncation=True, max_length=256).to(device)\n",
    "        outputs = model(**inputs)\n",
    "        batch_sentiments = torch.argmax(outputs.logits, dim=1).cpu().tolist()\n",
    "        sentiments.extend(batch_sentiments)\n",
    "\n",
    "    dataframe['sentiment'] = sentiments\n",
    "    return dataframe\n",
    "\n",
    "\n",
    "# Precompute sentiments for en_data\n",
    "en_data = precompute_sentiments(en_data)\n",
    "es_data = precompute_sentiments(es_data)\n"
   ]
  },
  {
   "cell_type": "code",
   "execution_count": 12,
   "id": "3a875f10-3484-45f1-831d-dfb78f4a516d",
   "metadata": {},
   "outputs": [],
   "source": [
    "# en_data.to_csv(\"en_sent.csv\",index=False)\n",
    "# es_data.to_csv(\"es_sent.csv\",index=False)\n"
   ]
  },
  {
   "cell_type": "markdown",
   "id": "4f01028a-3701-4810-9875-115a96dc7252",
   "metadata": {},
   "source": [
    "### 1. English"
   ]
  },
  {
   "cell_type": "code",
   "execution_count": 45,
   "id": "7d378c27-a87a-4477-8030-d37fc1cf78f6",
   "metadata": {},
   "outputs": [],
   "source": [
    "# Align node sets across networks (if node sets differ)\n",
    "en_all_nodes = set(en_text.nodes()) | set(en_domain.nodes()) | set(en_tag.nodes())\n",
    "for graph in [en_text, en_domain, en_tag]:\n",
    "    for node in en_all_nodes:\n",
    "        if node not in graph:\n",
    "            graph.add_node(node)\n"
   ]
  },
  {
   "cell_type": "code",
   "execution_count": 46,
   "id": "cf9b177b-b3c4-474f-90a7-a90bf938a965",
   "metadata": {},
   "outputs": [],
   "source": [
    "def construct_fused_network(graphs):\n",
    "    fused_graph = nx.Graph()\n",
    "    for graph in graphs:\n",
    "        for u, v, data in graph.edges(data=True):\n",
    "            if fused_graph.has_edge(u, v):\n",
    "                fused_graph[u][v]['weight'] += data.get('weight', 1)\n",
    "            else:\n",
    "                fused_graph.add_edge(u, v, weight=data.get('weight', 1))\n",
    "    return fused_graph\n"
   ]
  },
  {
   "cell_type": "code",
   "execution_count": 47,
   "id": "e361887c-feb3-4a22-a573-2e36af10b6ff",
   "metadata": {},
   "outputs": [],
   "source": [
    "# Construct fused network from individual networks\n",
    "en_fused_graph = construct_fused_network([en_text, en_domain, en_tag])"
   ]
  },
  {
   "cell_type": "code",
   "execution_count": 9,
   "id": "0b0fe4b1-cc6b-4b5c-89fe-ba765be7a06c",
   "metadata": {},
   "outputs": [],
   "source": [
    "def filter_edges_by_sentiment_and_time(dataframe, graph, time_window=3600):\n",
    "    filtered_graph = nx.Graph()\n",
    "    \n",
    "    sentiment_map = dataframe.set_index('text')['sentiment'].to_dict()\n",
    "    \n",
    "    for u, v, data in graph.edges(data=True):\n",
    "        u_tweets = dataframe[dataframe['id_str'] == u]\n",
    "        v_tweets = dataframe[dataframe['id_str'] == v]\n",
    "        \n",
    "        for _, u_row in u_tweets.iterrows():\n",
    "            for _, v_row in v_tweets.iterrows():\n",
    "                if abs(u_row['epoch'] - v_row['epoch']) <= time_window:\n",
    "                    u_sentiment = sentiment_map.get(u_row['text'])\n",
    "                    v_sentiment = sentiment_map.get(v_row['text'])\n",
    "                    \n",
    "                    if u_sentiment == v_sentiment:\n",
    "                        filtered_graph.add_edge(u, v, weight=data.get('weight', 1))\n",
    "                        break \n",
    "            else:\n",
    "                continue \n",
    "            break \n",
    "    return filtered_graph\n"
   ]
  },
  {
   "cell_type": "code",
   "execution_count": 10,
   "id": "582e58c9-447c-4fd1-83ab-1c5ecc0d664f",
   "metadata": {},
   "outputs": [],
   "source": [
    "def filter_edges_by_time(dataframe, graph, time_window=3600):\n",
    "    filtered_graph = nx.Graph()\n",
    "    for u, v, data in graph.edges(data=True):\n",
    "        u_tweets = dataframe[dataframe['id_str'] == u]\n",
    "        v_tweets = dataframe[dataframe['id_str'] == v]\n",
    "\n",
    "        for _, u_row in u_tweets.iterrows():\n",
    "            for _, v_row in v_tweets.iterrows():\n",
    "                if abs(u_row['epoch'] - v_row['epoch']) <= time_window:\n",
    "                    filtered_graph.add_edge(u, v, weight=data.get('weight', 1))\n",
    "                    break\n",
    "    return filtered_graph\n"
   ]
  },
  {
   "cell_type": "code",
   "execution_count": 52,
   "id": "53af76bc-23ce-4b94-9e36-120f3638b569",
   "metadata": {},
   "outputs": [],
   "source": [
    "def filter_edges_by_percentile(graph, percentile=50):\n",
    "    \"\"\"\n",
    "    Filters out the lowest percentile of edges by weight in the graph.\n",
    "\n",
    "    Parameters:\n",
    "    - graph: NetworkX graph to filter.\n",
    "    - percentile: Percentile threshold for edge weight filtering.\n",
    "\n",
    "    Returns:\n",
    "    - filtered_graph: A new graph with edges above the specified percentile retained.\n",
    "    \"\"\"\n",
    "    # Extract edge weights\n",
    "    edge_weights = [data['weight'] for _, _, data in graph.edges(data=True)]\n",
    "    \n",
    "    # Calculate the weight threshold for the given percentile\n",
    "    weight_threshold = np.percentile(edge_weights, percentile)\n",
    "    \n",
    "    # Create a new graph with filtered edges\n",
    "    filtered_graph = nx.Graph()\n",
    "    for u, v, data in graph.edges(data=True):\n",
    "        if data['weight'] > weight_threshold:\n",
    "            filtered_graph.add_edge(u, v, weight=data['weight'])\n",
    "    \n",
    "    return filtered_graph"
   ]
  },
  {
   "cell_type": "code",
   "execution_count": 43,
   "id": "3df7b99c-30cf-4ecc-b7b3-3ec805b0c8d6",
   "metadata": {},
   "outputs": [],
   "source": [
    "# Apply sentiment and time filtering\n",
    "en_filtered_graph = filter_edges_by_sentiment_and_time(en_data, en_fused_graph, time_window=3600)\n"
   ]
  },
  {
   "cell_type": "code",
   "execution_count": 16,
   "id": "4f46bf2e-edcb-4528-963e-5780867c24c7",
   "metadata": {},
   "outputs": [],
   "source": [
    "en_filtered_graph_time_only = filter_edges_by_time(en_data, en_fused_graph, time_window=3600)\n"
   ]
  },
  {
   "cell_type": "code",
   "execution_count": 11,
   "id": "2da3cdbe-39be-4536-9d12-ef4ca402d7fc",
   "metadata": {},
   "outputs": [],
   "source": [
    "def prune_nodes_by_centrality(graph, centrality_threshold=1e-2):\n",
    "    eigen_centrality = nx.eigenvector_centrality(graph, max_iter=1000)\n",
    "    nodes_to_keep = [node for node, centrality in eigen_centrality.items() if centrality >= centrality_threshold]\n",
    "    pruned_graph = graph.subgraph(nodes_to_keep).copy()\n",
    "    return pruned_graph, eigen_centrality\n",
    "\n"
   ]
  },
  {
   "cell_type": "code",
   "execution_count": null,
   "id": "2a2aa00c-6580-4619-bf6f-19f3326fe4e5",
   "metadata": {},
   "outputs": [],
   "source": [
    "# Prune nodes based on eigenvector centrality\n",
    "centrality_threshold = 1e-2\n",
    "en_pruned_graph, en_eigen_centrality = prune_nodes_by_centrality(en_filtered_graph, centrality_threshold)\n"
   ]
  },
  {
   "cell_type": "code",
   "execution_count": 12,
   "id": "0f158781-3ece-410a-9184-23eb4469c40e",
   "metadata": {},
   "outputs": [
    {
     "name": "stdout",
     "output_type": "stream",
     "text": [
      "Final graph - Nodes: 160, Edges: 1354\n",
      "Top 10 nodes by eigenvector centrality:\n",
      "Node: '1323861935385800705', Centrality: 0.2143737489673948\n",
      "Node: '390127278', Centrality: 0.21418328585022808\n",
      "Node: '1748465622965481472', Centrality: 0.1974944800674837\n",
      "Node: '1607179494267453440', Centrality: 0.19659510720756682\n",
      "Node: '4249328180', Centrality: 0.19409758980626754\n",
      "Node: '1759036487549480960', Centrality: 0.1846723776880097\n",
      "Node: '1518684152211537920', Centrality: 0.18145270024664986\n",
      "Node: '1518778017669033984', Centrality: 0.17843966691012528\n",
      "Node: '1463720040717602816', Centrality: 0.17490870463800323\n",
      "Node: '1574732175647412224', Centrality: 0.17431614018076474\n"
     ]
    }
   ],
   "source": [
    "# Print final graph statistics\n",
    "print(f\"Final graph - Nodes: {en_pruned_graph.number_of_nodes()}, Edges: {en_pruned_graph.number_of_edges()}\")\n",
    "\n",
    "# Identify top nodes by eigenvector centrality\n",
    "top_centrality = sorted(en_eigen_centrality.items(), key=lambda x: x[1], reverse=True)[:10]\n",
    "print(\"Top 10 nodes by eigenvector centrality:\")\n",
    "for node, centrality in top_centrality:\n",
    "    print(f\"Node: {node}, Centrality: {centrality}\")\n"
   ]
  },
  {
   "cell_type": "code",
   "execution_count": 13,
   "id": "8d8219ce-2527-4524-8d50-44cc2055615d",
   "metadata": {},
   "outputs": [],
   "source": [
    "# en_pruned_graph\n",
    "nx.write_gexf(en_pruned_graph, \"en_pruned_graph.gexf\")"
   ]
  },
  {
   "cell_type": "markdown",
   "id": "be575328-7097-4eaa-b484-61aea953c2c8",
   "metadata": {},
   "source": [
    "#### Baseline (Node pruning only, without edge filtering)"
   ]
  },
  {
   "cell_type": "code",
   "execution_count": 14,
   "id": "d05710d7-15f0-496b-bbb4-c83969216066",
   "metadata": {},
   "outputs": [],
   "source": [
    "en_pruned_baseline, en_eigen_centrality_baseline = prune_nodes_by_centrality(en_fused_graph, centrality_threshold)\n"
   ]
  },
  {
   "cell_type": "code",
   "execution_count": 15,
   "id": "7622c23f-050e-49f3-a947-6459ef827b4e",
   "metadata": {},
   "outputs": [
    {
     "name": "stdout",
     "output_type": "stream",
     "text": [
      "Final graph - Nodes: 216, Edges: 2114\n",
      "Top 10 nodes by eigenvector centrality:\n",
      "Node: '1607179494267453440', Centrality: 0.19864401750239835\n",
      "Node: '390127278', Centrality: 0.19795062705419925\n",
      "Node: '1323861935385800705', Centrality: 0.19785908615797626\n",
      "Node: '1748465622965481472', Centrality: 0.19679186906440013\n",
      "Node: '4249328180', Centrality: 0.18313791079290775\n",
      "Node: '1518684152211537920', Centrality: 0.18227892228721312\n",
      "Node: '1518778017669033984', Centrality: 0.1804338689400121\n",
      "Node: '1523440939594928128', Centrality: 0.17945337485992147\n",
      "Node: '1759036487549480960', Centrality: 0.17914986498330182\n",
      "Node: '1574732175647412224', Centrality: 0.17776157569993575\n"
     ]
    }
   ],
   "source": [
    "# Print final graph statistics\n",
    "print(f\"Final graph - Nodes: {en_pruned_baseline.number_of_nodes()}, Edges: {en_pruned_baseline.number_of_edges()}\")\n",
    "\n",
    "# Identify top nodes by eigenvector centrality\n",
    "top_centrality = sorted(en_eigen_centrality_baseline.items(), key=lambda x: x[1], reverse=True)[:10]\n",
    "print(\"Top 10 nodes by eigenvector centrality:\")\n",
    "for node, centrality in top_centrality:\n",
    "    print(f\"Node: {node}, Centrality: {centrality}\")\n"
   ]
  },
  {
   "cell_type": "code",
   "execution_count": 16,
   "id": "38faf95f-0f32-47db-90a8-79d4377f565b",
   "metadata": {},
   "outputs": [],
   "source": [
    "nx.write_gexf(en_pruned_baseline, \"en_pruned_baseline.gexf\")"
   ]
  },
  {
   "cell_type": "markdown",
   "id": "b0111c38-4a7e-47f0-9cf0-2752f8a6819c",
   "metadata": {},
   "source": [
    "#### Lower the time window"
   ]
  },
  {
   "cell_type": "code",
   "execution_count": 17,
   "id": "bf7c3d97-95ff-49a4-b5d3-d18874568845",
   "metadata": {},
   "outputs": [],
   "source": [
    "en_filtered_time_lower = filter_edges_by_sentiment_and_time(en_data, en_fused_graph, time_window=600)\n",
    "en_pruned_graph_time_lower, en_eigen_centrality_time_lower = prune_nodes_by_centrality(en_filtered_time_lower, centrality_threshold)\n"
   ]
  },
  {
   "cell_type": "code",
   "execution_count": 19,
   "id": "5fc5498e-cdd4-4564-83f0-e3904bfb30a6",
   "metadata": {},
   "outputs": [],
   "source": [
    "nx.write_gexf(en_pruned_graph_time_lower, \"en_pruned_graph_time_lower.gexf\")"
   ]
  },
  {
   "cell_type": "code",
   "execution_count": 18,
   "id": "d4c32a60-eb40-4806-b225-e9bbc728190a",
   "metadata": {},
   "outputs": [
    {
     "name": "stdout",
     "output_type": "stream",
     "text": [
      "Final graph - Nodes: 569, Edges: 1451\n",
      "Top 10 nodes by eigenvector centrality:\n",
      "Node: '390127278', Centrality: 0.3136516049005446\n",
      "Node: '1323861935385800705', Centrality: 0.30805036676340986\n",
      "Node: '1607179494267453440', Centrality: 0.21613576859689723\n",
      "Node: '4861982862', Centrality: 0.2104407320584874\n",
      "Node: '1518684152211537920', Centrality: 0.19838995990362873\n",
      "Node: '1463720040717602816', Centrality: 0.19406672668134312\n",
      "Node: '4249328180', Centrality: 0.19386027035134404\n",
      "Node: '1096037705790750721', Centrality: 0.16189420312652011\n",
      "Node: '234840640', Centrality: 0.15821915322288715\n",
      "Node: '22281138', Centrality: 0.1530995235999191\n"
     ]
    }
   ],
   "source": [
    "# Print final graph statistics\n",
    "print(f\"Final graph - Nodes: {en_filtered_time_lower.number_of_nodes()}, Edges: {en_filtered_time_lower.number_of_edges()}\")\n",
    "\n",
    "# Identify top nodes by eigenvector centrality\n",
    "top_centrality = sorted(en_eigen_centrality_time_lower.items(), key=lambda x: x[1], reverse=True)[:10]\n",
    "print(\"Top 10 nodes by eigenvector centrality:\")\n",
    "for node, centrality in top_centrality:\n",
    "    print(f\"Node: {node}, Centrality: {centrality}\")\n"
   ]
  },
  {
   "cell_type": "markdown",
   "id": "7e1e8832-06c4-4225-ad8f-d2556024f428",
   "metadata": {},
   "source": [
    "#### Time only"
   ]
  },
  {
   "cell_type": "code",
   "execution_count": 20,
   "id": "b4c17751-2d1e-4d68-9532-a389f1ea898b",
   "metadata": {},
   "outputs": [],
   "source": [
    "en_pruned_graph_time_only, en_eigen_centrality_time_only = prune_nodes_by_centrality(en_filtered_graph_time_only)\n"
   ]
  },
  {
   "cell_type": "code",
   "execution_count": 22,
   "id": "8753a722-e704-4177-a3e0-d4e37dcb932f",
   "metadata": {},
   "outputs": [],
   "source": [
    "nx.write_gexf(en_pruned_graph_time_only, \"en_pruned_graph_time_only.gexf\")"
   ]
  },
  {
   "cell_type": "markdown",
   "id": "6ce00675-f32d-4796-b15a-7c73ed24feb8",
   "metadata": {},
   "source": [
    "### Cluster analysis"
   ]
  },
  {
   "cell_type": "code",
   "execution_count": 12,
   "id": "f163ba93-fb72-4bac-a72e-0ae6525d7b02",
   "metadata": {},
   "outputs": [],
   "source": [
    "en_fused_no_filtering = pd.read_csv('en_fused_network.csv')\n"
   ]
  },
  {
   "cell_type": "code",
   "execution_count": 13,
   "id": "3f6a36ce-2486-4177-85bc-b1fb671ffe7e",
   "metadata": {},
   "outputs": [
    {
     "data": {
      "text/html": [
       "<div>\n",
       "<style scoped>\n",
       "    .dataframe tbody tr th:only-of-type {\n",
       "        vertical-align: middle;\n",
       "    }\n",
       "\n",
       "    .dataframe tbody tr th {\n",
       "        vertical-align: top;\n",
       "    }\n",
       "\n",
       "    .dataframe thead th {\n",
       "        text-align: right;\n",
       "    }\n",
       "</style>\n",
       "<table border=\"1\" class=\"dataframe\">\n",
       "  <thead>\n",
       "    <tr style=\"text-align: right;\">\n",
       "      <th></th>\n",
       "      <th>Id</th>\n",
       "      <th>Label</th>\n",
       "      <th>modularity_class</th>\n",
       "      <th>componentnumber</th>\n",
       "      <th>eigencentrality</th>\n",
       "      <th>Size</th>\n",
       "    </tr>\n",
       "  </thead>\n",
       "  <tbody>\n",
       "    <tr>\n",
       "      <th>0</th>\n",
       "      <td>'1759036487549480960'</td>\n",
       "      <td>'1759036487549480960'</td>\n",
       "      <td>2</td>\n",
       "      <td>0</td>\n",
       "      <td>0.896465</td>\n",
       "      <td>10</td>\n",
       "    </tr>\n",
       "    <tr>\n",
       "      <th>1</th>\n",
       "      <td>'142096963'</td>\n",
       "      <td>'142096963'</td>\n",
       "      <td>0</td>\n",
       "      <td>0</td>\n",
       "      <td>0.115737</td>\n",
       "      <td>10</td>\n",
       "    </tr>\n",
       "    <tr>\n",
       "      <th>2</th>\n",
       "      <td>'1663260936994471937'</td>\n",
       "      <td>'1663260936994471937'</td>\n",
       "      <td>0</td>\n",
       "      <td>0</td>\n",
       "      <td>0.115263</td>\n",
       "      <td>10</td>\n",
       "    </tr>\n",
       "    <tr>\n",
       "      <th>3</th>\n",
       "      <td>'21651982'</td>\n",
       "      <td>'21651982'</td>\n",
       "      <td>0</td>\n",
       "      <td>0</td>\n",
       "      <td>0.164033</td>\n",
       "      <td>10</td>\n",
       "    </tr>\n",
       "    <tr>\n",
       "      <th>4</th>\n",
       "      <td>'454432735'</td>\n",
       "      <td>'454432735'</td>\n",
       "      <td>0</td>\n",
       "      <td>0</td>\n",
       "      <td>0.135149</td>\n",
       "      <td>10</td>\n",
       "    </tr>\n",
       "    <tr>\n",
       "      <th>...</th>\n",
       "      <td>...</td>\n",
       "      <td>...</td>\n",
       "      <td>...</td>\n",
       "      <td>...</td>\n",
       "      <td>...</td>\n",
       "      <td>...</td>\n",
       "    </tr>\n",
       "    <tr>\n",
       "      <th>211</th>\n",
       "      <td>'1437932372876476422'</td>\n",
       "      <td>'1437932372876476422'</td>\n",
       "      <td>1</td>\n",
       "      <td>0</td>\n",
       "      <td>0.100063</td>\n",
       "      <td>10</td>\n",
       "    </tr>\n",
       "    <tr>\n",
       "      <th>212</th>\n",
       "      <td>'1601948775681085440'</td>\n",
       "      <td>'1601948775681085440'</td>\n",
       "      <td>3</td>\n",
       "      <td>0</td>\n",
       "      <td>0.022743</td>\n",
       "      <td>10</td>\n",
       "    </tr>\n",
       "    <tr>\n",
       "      <th>213</th>\n",
       "      <td>'2884771'</td>\n",
       "      <td>'2884771'</td>\n",
       "      <td>0</td>\n",
       "      <td>0</td>\n",
       "      <td>0.077815</td>\n",
       "      <td>10</td>\n",
       "    </tr>\n",
       "    <tr>\n",
       "      <th>214</th>\n",
       "      <td>'1594158299552878594'</td>\n",
       "      <td>'1594158299552878594'</td>\n",
       "      <td>1</td>\n",
       "      <td>0</td>\n",
       "      <td>0.068495</td>\n",
       "      <td>10</td>\n",
       "    </tr>\n",
       "    <tr>\n",
       "      <th>215</th>\n",
       "      <td>'1404423686459961345'</td>\n",
       "      <td>'1404423686459961345'</td>\n",
       "      <td>2</td>\n",
       "      <td>0</td>\n",
       "      <td>0.167302</td>\n",
       "      <td>10</td>\n",
       "    </tr>\n",
       "  </tbody>\n",
       "</table>\n",
       "<p>216 rows × 6 columns</p>\n",
       "</div>"
      ],
      "text/plain": [
       "                        Id                  Label  modularity_class  \\\n",
       "0    '1759036487549480960'  '1759036487549480960'                 2   \n",
       "1              '142096963'            '142096963'                 0   \n",
       "2    '1663260936994471937'  '1663260936994471937'                 0   \n",
       "3               '21651982'             '21651982'                 0   \n",
       "4              '454432735'            '454432735'                 0   \n",
       "..                     ...                    ...               ...   \n",
       "211  '1437932372876476422'  '1437932372876476422'                 1   \n",
       "212  '1601948775681085440'  '1601948775681085440'                 3   \n",
       "213              '2884771'              '2884771'                 0   \n",
       "214  '1594158299552878594'  '1594158299552878594'                 1   \n",
       "215  '1404423686459961345'  '1404423686459961345'                 2   \n",
       "\n",
       "     componentnumber  eigencentrality  Size  \n",
       "0                  0         0.896465    10  \n",
       "1                  0         0.115737    10  \n",
       "2                  0         0.115263    10  \n",
       "3                  0         0.164033    10  \n",
       "4                  0         0.135149    10  \n",
       "..               ...              ...   ...  \n",
       "211                0         0.100063    10  \n",
       "212                0         0.022743    10  \n",
       "213                0         0.077815    10  \n",
       "214                0         0.068495    10  \n",
       "215                0         0.167302    10  \n",
       "\n",
       "[216 rows x 6 columns]"
      ]
     },
     "execution_count": 13,
     "metadata": {},
     "output_type": "execute_result"
    }
   ],
   "source": [
    "en_fused_no_filtering"
   ]
  },
  {
   "cell_type": "code",
   "execution_count": 15,
   "id": "d889e343-097c-44e2-96a8-e49607b69f9c",
   "metadata": {},
   "outputs": [
    {
     "data": {
      "text/html": [
       "<div>\n",
       "<style scoped>\n",
       "    .dataframe tbody tr th:only-of-type {\n",
       "        vertical-align: middle;\n",
       "    }\n",
       "\n",
       "    .dataframe tbody tr th {\n",
       "        vertical-align: top;\n",
       "    }\n",
       "\n",
       "    .dataframe thead th {\n",
       "        text-align: right;\n",
       "    }\n",
       "</style>\n",
       "<table border=\"1\" class=\"dataframe\">\n",
       "  <thead>\n",
       "    <tr style=\"text-align: right;\">\n",
       "      <th></th>\n",
       "      <th>Id</th>\n",
       "      <th>Label</th>\n",
       "      <th>modularity_class</th>\n",
       "      <th>eigencentrality</th>\n",
       "      <th>Size</th>\n",
       "    </tr>\n",
       "  </thead>\n",
       "  <tbody>\n",
       "    <tr>\n",
       "      <th>0</th>\n",
       "      <td>'1759036487549480960'</td>\n",
       "      <td>'1759036487549480960'</td>\n",
       "      <td>3</td>\n",
       "      <td>0.862916</td>\n",
       "      <td>17.994017</td>\n",
       "    </tr>\n",
       "    <tr>\n",
       "      <th>1</th>\n",
       "      <td>'827361801192890368'</td>\n",
       "      <td>'827361801192890368'</td>\n",
       "      <td>3</td>\n",
       "      <td>0.161168</td>\n",
       "      <td>7.725148</td>\n",
       "    </tr>\n",
       "    <tr>\n",
       "      <th>2</th>\n",
       "      <td>'1798678161137270784'</td>\n",
       "      <td>'1798678161137270784'</td>\n",
       "      <td>1</td>\n",
       "      <td>0.120703</td>\n",
       "      <td>7.133018</td>\n",
       "    </tr>\n",
       "    <tr>\n",
       "      <th>3</th>\n",
       "      <td>'1587871546978320384'</td>\n",
       "      <td>'1587871546978320384'</td>\n",
       "      <td>3</td>\n",
       "      <td>0.319088</td>\n",
       "      <td>10.036034</td>\n",
       "    </tr>\n",
       "    <tr>\n",
       "      <th>4</th>\n",
       "      <td>'722832446798999552'</td>\n",
       "      <td>'722832446798999552'</td>\n",
       "      <td>2</td>\n",
       "      <td>0.091928</td>\n",
       "      <td>6.711946</td>\n",
       "    </tr>\n",
       "    <tr>\n",
       "      <th>...</th>\n",
       "      <td>...</td>\n",
       "      <td>...</td>\n",
       "      <td>...</td>\n",
       "      <td>...</td>\n",
       "      <td>...</td>\n",
       "    </tr>\n",
       "    <tr>\n",
       "      <th>155</th>\n",
       "      <td>'1769847288317251584'</td>\n",
       "      <td>'1769847288317251584'</td>\n",
       "      <td>1</td>\n",
       "      <td>0.049269</td>\n",
       "      <td>6.087699</td>\n",
       "    </tr>\n",
       "    <tr>\n",
       "      <th>156</th>\n",
       "      <td>'1437932372876476422'</td>\n",
       "      <td>'1437932372876476422'</td>\n",
       "      <td>2</td>\n",
       "      <td>0.105509</td>\n",
       "      <td>6.910685</td>\n",
       "    </tr>\n",
       "    <tr>\n",
       "      <th>157</th>\n",
       "      <td>'1594158299552878594'</td>\n",
       "      <td>'1594158299552878594'</td>\n",
       "      <td>1</td>\n",
       "      <td>0.071296</td>\n",
       "      <td>6.410036</td>\n",
       "    </tr>\n",
       "    <tr>\n",
       "      <th>158</th>\n",
       "      <td>'1404423686459961345'</td>\n",
       "      <td>'1404423686459961345'</td>\n",
       "      <td>3</td>\n",
       "      <td>0.173999</td>\n",
       "      <td>7.912906</td>\n",
       "    </tr>\n",
       "    <tr>\n",
       "      <th>159</th>\n",
       "      <td>'1679700955057594368'</td>\n",
       "      <td>'1679700955057594368'</td>\n",
       "      <td>3</td>\n",
       "      <td>0.049767</td>\n",
       "      <td>6.094997</td>\n",
       "    </tr>\n",
       "  </tbody>\n",
       "</table>\n",
       "<p>160 rows × 5 columns</p>\n",
       "</div>"
      ],
      "text/plain": [
       "                        Id                  Label  modularity_class  \\\n",
       "0    '1759036487549480960'  '1759036487549480960'                 3   \n",
       "1     '827361801192890368'   '827361801192890368'                 3   \n",
       "2    '1798678161137270784'  '1798678161137270784'                 1   \n",
       "3    '1587871546978320384'  '1587871546978320384'                 3   \n",
       "4     '722832446798999552'   '722832446798999552'                 2   \n",
       "..                     ...                    ...               ...   \n",
       "155  '1769847288317251584'  '1769847288317251584'                 1   \n",
       "156  '1437932372876476422'  '1437932372876476422'                 2   \n",
       "157  '1594158299552878594'  '1594158299552878594'                 1   \n",
       "158  '1404423686459961345'  '1404423686459961345'                 3   \n",
       "159  '1679700955057594368'  '1679700955057594368'                 3   \n",
       "\n",
       "     eigencentrality       Size  \n",
       "0           0.862916  17.994017  \n",
       "1           0.161168   7.725148  \n",
       "2           0.120703   7.133018  \n",
       "3           0.319088  10.036034  \n",
       "4           0.091928   6.711946  \n",
       "..               ...        ...  \n",
       "155         0.049269   6.087699  \n",
       "156         0.105509   6.910685  \n",
       "157         0.071296   6.410036  \n",
       "158         0.173999   7.912906  \n",
       "159         0.049767   6.094997  \n",
       "\n",
       "[160 rows x 5 columns]"
      ]
     },
     "execution_count": 15,
     "metadata": {},
     "output_type": "execute_result"
    }
   ],
   "source": [
    "en_all = pd.read_csv('en_fused_all.csv')\n",
    "en_all"
   ]
  },
  {
   "cell_type": "code",
   "execution_count": 33,
   "id": "9f458afb-d726-475f-94ed-b06c80d579c7",
   "metadata": {},
   "outputs": [
    {
     "data": {
      "text/html": [
       "<div>\n",
       "<style scoped>\n",
       "    .dataframe tbody tr th:only-of-type {\n",
       "        vertical-align: middle;\n",
       "    }\n",
       "\n",
       "    .dataframe tbody tr th {\n",
       "        vertical-align: top;\n",
       "    }\n",
       "\n",
       "    .dataframe thead th {\n",
       "        text-align: right;\n",
       "    }\n",
       "</style>\n",
       "<table border=\"1\" class=\"dataframe\">\n",
       "  <thead>\n",
       "    <tr style=\"text-align: right;\">\n",
       "      <th></th>\n",
       "      <th>Id</th>\n",
       "      <th>Label</th>\n",
       "      <th>modularity_class</th>\n",
       "      <th>eigencentrality</th>\n",
       "      <th>Size</th>\n",
       "    </tr>\n",
       "  </thead>\n",
       "  <tbody>\n",
       "    <tr>\n",
       "      <th>44</th>\n",
       "      <td>'390127278'</td>\n",
       "      <td>'390127278'</td>\n",
       "      <td>1</td>\n",
       "      <td>1.000000</td>\n",
       "      <td>20.000000</td>\n",
       "    </tr>\n",
       "    <tr>\n",
       "      <th>49</th>\n",
       "      <td>'1323861935385800705'</td>\n",
       "      <td>'1323861935385800705'</td>\n",
       "      <td>1</td>\n",
       "      <td>0.998083</td>\n",
       "      <td>19.971941</td>\n",
       "    </tr>\n",
       "    <tr>\n",
       "      <th>98</th>\n",
       "      <td>'1748465622965481472'</td>\n",
       "      <td>'1748465622965481472'</td>\n",
       "      <td>3</td>\n",
       "      <td>0.924451</td>\n",
       "      <td>18.894470</td>\n",
       "    </tr>\n",
       "    <tr>\n",
       "      <th>8</th>\n",
       "      <td>'1607179494267453440'</td>\n",
       "      <td>'1607179494267453440'</td>\n",
       "      <td>1</td>\n",
       "      <td>0.919964</td>\n",
       "      <td>18.828817</td>\n",
       "    </tr>\n",
       "    <tr>\n",
       "      <th>118</th>\n",
       "      <td>'4249328180'</td>\n",
       "      <td>'4249328180'</td>\n",
       "      <td>3</td>\n",
       "      <td>0.906999</td>\n",
       "      <td>18.639091</td>\n",
       "    </tr>\n",
       "    <tr>\n",
       "      <th>0</th>\n",
       "      <td>'1759036487549480960'</td>\n",
       "      <td>'1759036487549480960'</td>\n",
       "      <td>3</td>\n",
       "      <td>0.862916</td>\n",
       "      <td>17.994017</td>\n",
       "    </tr>\n",
       "    <tr>\n",
       "      <th>132</th>\n",
       "      <td>'1518684152211537920'</td>\n",
       "      <td>'1518684152211537920'</td>\n",
       "      <td>2</td>\n",
       "      <td>0.843880</td>\n",
       "      <td>17.715450</td>\n",
       "    </tr>\n",
       "    <tr>\n",
       "      <th>89</th>\n",
       "      <td>'1518778017669033984'</td>\n",
       "      <td>'1518778017669033984'</td>\n",
       "      <td>2</td>\n",
       "      <td>0.835776</td>\n",
       "      <td>17.596865</td>\n",
       "    </tr>\n",
       "    <tr>\n",
       "      <th>95</th>\n",
       "      <td>'1463720040717602816'</td>\n",
       "      <td>'1463720040717602816'</td>\n",
       "      <td>2</td>\n",
       "      <td>0.818683</td>\n",
       "      <td>17.346737</td>\n",
       "    </tr>\n",
       "    <tr>\n",
       "      <th>5</th>\n",
       "      <td>'1574732175647412224'</td>\n",
       "      <td>'1574732175647412224'</td>\n",
       "      <td>3</td>\n",
       "      <td>0.815715</td>\n",
       "      <td>17.303310</td>\n",
       "    </tr>\n",
       "  </tbody>\n",
       "</table>\n",
       "</div>"
      ],
      "text/plain": [
       "                        Id                  Label  modularity_class  \\\n",
       "44             '390127278'            '390127278'                 1   \n",
       "49   '1323861935385800705'  '1323861935385800705'                 1   \n",
       "98   '1748465622965481472'  '1748465622965481472'                 3   \n",
       "8    '1607179494267453440'  '1607179494267453440'                 1   \n",
       "118           '4249328180'           '4249328180'                 3   \n",
       "0    '1759036487549480960'  '1759036487549480960'                 3   \n",
       "132  '1518684152211537920'  '1518684152211537920'                 2   \n",
       "89   '1518778017669033984'  '1518778017669033984'                 2   \n",
       "95   '1463720040717602816'  '1463720040717602816'                 2   \n",
       "5    '1574732175647412224'  '1574732175647412224'                 3   \n",
       "\n",
       "     eigencentrality       Size  \n",
       "44          1.000000  20.000000  \n",
       "49          0.998083  19.971941  \n",
       "98          0.924451  18.894470  \n",
       "8           0.919964  18.828817  \n",
       "118         0.906999  18.639091  \n",
       "0           0.862916  17.994017  \n",
       "132         0.843880  17.715450  \n",
       "89          0.835776  17.596865  \n",
       "95          0.818683  17.346737  \n",
       "5           0.815715  17.303310  "
      ]
     },
     "execution_count": 33,
     "metadata": {},
     "output_type": "execute_result"
    }
   ],
   "source": [
    "en_all.sort_values(by='eigencentrality',ascending=False).head(10)"
   ]
  },
  {
   "cell_type": "code",
   "execution_count": 19,
   "id": "1f75621c-6219-48ad-9c61-37f941a6e3a4",
   "metadata": {},
   "outputs": [],
   "source": [
    "from collections import Counter\n",
    "\n",
    "def get_top_domains(df, data):\n",
    "    \"\"\"\n",
    "    Prints the 10 most common tags in a cluster of nodes.\n",
    "\n",
    "    Parameters:\n",
    "    - df: DataFrame representing the cluster, containing user IDs in the 'Id' column.\n",
    "    - data: DataFrame containing the raw tweet data for the respective language.\n",
    "    \"\"\"\n",
    "    tags = []\n",
    "\n",
    "    # Iterate over each user in the cluster\n",
    "    for i, r in df.iterrows():\n",
    "        user = r['Id'] \n",
    "        user_data = data[data['id_str'] == user] \n",
    "        \n",
    "        for _, row in user_data.iterrows():\n",
    "            hashtags = row['hashtags']\n",
    "            if isinstance(hashtags, list):\n",
    "                for tag in hashtags:\n",
    "                    if 'text' in tag:\n",
    "                        tags.append(tag['text'].lower())\n",
    "\n",
    "    print(Counter(tags).most_common(10))\n",
    "    print(f\"Cluster size: {df.shape[0]}\")\n",
    "    print(f\"Avg EC: {df['eigencentrality'].mean()}\")\n",
    "    print(f\"Max EC: {df.sort_values(by='eigencentrality', ascending=False).head(2)}\")\n"
   ]
  },
  {
   "cell_type": "code",
   "execution_count": null,
   "id": "19f48c90-f0d9-481d-8a1e-8282f2f7269e",
   "metadata": {},
   "outputs": [],
   "source": [
    "from bertopic import BERTopic\n",
    "from collections import Counter\n",
    "from bertopic.representation import KeyBERTInspired\n",
    "\n",
    "\n",
    "def get_top_topics(cluster_df, data_df):\n",
    "    \"\"\"\n",
    "    Analyzes the top topics in a cluster using BERTopic.\n",
    "\n",
    "    Parameters:\n",
    "    - cluster_df: DataFrame representing the cluster, containing user IDs in the 'Id' column and 'eigencentrality'.\n",
    "    - data_df: DataFrame containing the raw tweet data, with user IDs in 'id_str' and tweets in 'text'.\n",
    "    \"\"\"\n",
    "    # Extract tweets for users in the cluster\n",
    "    texts = []\n",
    "    for _, row in cluster_df.iterrows():\n",
    "        user = row['Id']\n",
    "        user_data = data_df[data_df['id_str'] == user]\n",
    "        \n",
    "        for _, tweet_row in user_data.iterrows():\n",
    "            tweet = tweet_row['text']\n",
    "            if isinstance(tweet, str) and len(tweet) > 0:\n",
    "                texts.append(tweet)\n",
    "\n",
    "    # Check if texts are non-empty\n",
    "    if not texts:\n",
    "        print(\"No texts available in this cluster.\")\n",
    "        return\n",
    "\n",
    "    # Apply BERTopic\n",
    "    representation_model = KeyBERTInspired()\n",
    "    topic_model = BERTopic(language=\"multilingual\", representation_model=representation_model)\n",
    "    topics, probs = topic_model.fit_transform(texts)\n",
    "\n",
    "    # Get the most common topics\n",
    "    print(topic_model.get_topic(10))\n",
    "    \n",
    "    # Cluster metrics\n",
    "    print(f\"\\nCluster size: {cluster_df.shape[0]}\")\n",
    "    print(f\"Avg Eigenvector Centrality (EC): {cluster_df['eigencentrality'].mean()}\")\n",
    "    print(\"Top 2 Nodes by EC:\")\n",
    "    print(cluster_df.nlargest(2, 'eigencentrality')[['Id', 'eigencentrality']])\n"
   ]
  },
  {
   "cell_type": "markdown",
   "id": "86cef9c6-0900-4ecb-8a08-391b65122d81",
   "metadata": {},
   "source": [
    "#### Edge filtered:"
   ]
  },
  {
   "cell_type": "code",
   "execution_count": 23,
   "id": "5622bbe1-3068-41f9-a26e-ef604ce5ad39",
   "metadata": {},
   "outputs": [
    {
     "name": "stdout",
     "output_type": "stream",
     "text": [
      "[('demsunited', 13), ('demvoice1', 13), ('resistanceunited', 13), ('proudblue', 11), ('project2025', 10), ('maga', 8), ('trump2024', 7), ('trump', 7), ('kamalaharris', 3), ('godblessamerica', 2)]\n",
      "Cluster size: 53\n",
      "Avg EC: 0.22796207547169806\n",
      "Max EC:                         Id                  Label  modularity_class  \\\n",
      "132  '1518684152211537920'  '1518684152211537920'                 2   \n",
      "89   '1518778017669033984'  '1518778017669033984'                 2   \n",
      "\n",
      "     eigencentrality       Size  \n",
      "132         0.843880  17.715450  \n",
      "89          0.835776  17.596865  \n"
     ]
    }
   ],
   "source": [
    "get_top_domains(en_all[en_all['modularity_class']==2], en_data)"
   ]
  },
  {
   "cell_type": "code",
   "execution_count": 24,
   "id": "232cd1fb-a14e-4381-94ac-87e1c5ed4aca",
   "metadata": {},
   "outputs": [
    {
     "name": "stdout",
     "output_type": "stream",
     "text": [
      "[('trump2024', 7), ('maga', 5), ('kamalaharris', 4), ('copycatkamala', 3), ('trump2024tosaveamerica', 2), ('scotus', 2), ('timwalz', 2), ('votetrumptosaveamerica', 2), ('specialreport', 1), ('kingcharles', 1)]\n",
      "Cluster size: 53\n",
      "Avg EC: 0.32825520754716975\n",
      "Max EC:                         Id                  Label  modularity_class  \\\n",
      "98   '1748465622965481472'  '1748465622965481472'                 3   \n",
      "118           '4249328180'           '4249328180'                 3   \n",
      "\n",
      "     eigencentrality       Size  \n",
      "98          0.924451  18.894470  \n",
      "118         0.906999  18.639091  \n"
     ]
    }
   ],
   "source": [
    "get_top_domains(en_all[en_all['modularity_class']==3], en_data)"
   ]
  },
  {
   "cell_type": "code",
   "execution_count": 25,
   "id": "0d727acc-9f9b-4417-b5a0-782c087fbe7e",
   "metadata": {},
   "outputs": [
    {
     "name": "stdout",
     "output_type": "stream",
     "text": [
      "[('maga', 17), ('bidenworstpresidentever', 9), ('trump2024tosaveamerica', 6), ('trump2024', 5), ('trump', 3), ('project2025', 3), ('trumpassasinationattempt', 3), ('bidensamerica', 3), ('godblessamerica', 3), ('dilleymemeteam', 3)]\n",
      "Cluster size: 44\n",
      "Avg EC: 0.2726176136363637\n",
      "Max EC:                        Id                  Label  modularity_class  \\\n",
      "44            '390127278'            '390127278'                 1   \n",
      "49  '1323861935385800705'  '1323861935385800705'                 1   \n",
      "\n",
      "    eigencentrality       Size  \n",
      "44         1.000000  20.000000  \n",
      "49         0.998083  19.971941  \n"
     ]
    }
   ],
   "source": [
    "get_top_domains(en_all[en_all['modularity_class']==1], en_data)"
   ]
  },
  {
   "cell_type": "code",
   "execution_count": 26,
   "id": "da42c6a9-8ff9-41ad-b610-df47b339fcc6",
   "metadata": {},
   "outputs": [
    {
     "name": "stdout",
     "output_type": "stream",
     "text": [
      "[('webackbidenharris', 2), ('falseflag', 2), ('harriswalz2024', 1), ('wearenotgoingback', 1), ('triggered', 1), ('trump2024maga', 1)]\n",
      "Cluster size: 10\n",
      "Avg EC: 0.2539861\n",
      "Max EC:                        Id                  Label  modularity_class  \\\n",
      "12             '22281138'             '22281138'                 0   \n",
      "72  '1439286507722924036'  '1439286507722924036'                 0   \n",
      "\n",
      "    eigencentrality       Size  \n",
      "12         0.798055  17.044889  \n",
      "72         0.315359   9.981466  \n"
     ]
    }
   ],
   "source": [
    "get_top_domains(en_all[en_all['modularity_class']==0], en_data)"
   ]
  },
  {
   "cell_type": "markdown",
   "id": "d93f5158-4ffb-4123-9051-54fb2400fd1b",
   "metadata": {},
   "source": [
    "#### No edge filtered"
   ]
  },
  {
   "cell_type": "code",
   "execution_count": 27,
   "id": "e64df9b0-2f88-4929-86e9-62e56715f3bd",
   "metadata": {},
   "outputs": [
    {
     "name": "stdout",
     "output_type": "stream",
     "text": [
      "[('maga', 14), ('bidenworstpresidentever', 9), ('trump2024tosaveamerica', 8), ('trump2024', 6), ('trumpassasinationattempt', 4), ('kamalaharris', 4), ('trumpvance2024', 3), ('bidensamerica', 3), ('godblessamerica', 3), ('copycatkamala', 3)]\n",
      "Cluster size: 83\n",
      "Avg EC: 0.346487421686747\n",
      "Max EC:                         Id                  Label  modularity_class  \\\n",
      "61             '390127278'            '390127278'                 2   \n",
      "136  '1748465622965481472'  '1748465622965481472'                 2   \n",
      "\n",
      "     componentnumber  eigencentrality  Size  \n",
      "61                 0         0.992112    10  \n",
      "136                0         0.990904    10  \n"
     ]
    }
   ],
   "source": [
    "get_top_domains(en_fused_no_filtering[en_fused_no_filtering['modularity_class']==2], en_data)"
   ]
  },
  {
   "cell_type": "code",
   "execution_count": 28,
   "id": "3a149b5e-1151-44ab-bc18-f7e43a4dd31e",
   "metadata": {},
   "outputs": [
    {
     "name": "stdout",
     "output_type": "stream",
     "text": [
      "[('foxnews', 7), ('kamala', 1), ('bidenharris', 1), ('impression', 1), ('comedy', 1)]\n",
      "Cluster size: 11\n",
      "Avg EC: 0.026395454545454545\n",
      "Max EC:                Id         Label  modularity_class  componentnumber  \\\n",
      "158  '4899465914'  '4899465914'                 3                0   \n",
      "98     '24841259'    '24841259'                 3                0   \n",
      "\n",
      "     eigencentrality  Size  \n",
      "158         0.044063    10  \n",
      "98          0.041991    10  \n"
     ]
    }
   ],
   "source": [
    "get_top_domains(en_fused_no_filtering[en_fused_no_filtering['modularity_class']==3], en_data)"
   ]
  },
  {
   "cell_type": "code",
   "execution_count": 29,
   "id": "30fdc7cb-f39c-4048-bd60-4ea51213d43b",
   "metadata": {},
   "outputs": [
    {
     "name": "stdout",
     "output_type": "stream",
     "text": [
      "[('maga', 16), ('project2025', 15), ('demsunited', 13), ('demvoice1', 13), ('resistanceunited', 13), ('trump2024', 11), ('proudblue', 11), ('trump', 8), ('wethepeople', 6), ('kamalaharris', 3)]\n",
      "Cluster size: 80\n",
      "Avg EC: 0.23382461249999995\n",
      "Max EC:                        Id                  Label  modularity_class  \\\n",
      "15  '1607179494267453440'  '1607179494267453440'                 1   \n",
      "67  '1323861935385800705'  '1323861935385800705'                 1   \n",
      "\n",
      "    componentnumber  eigencentrality  Size  \n",
      "15                0         1.000000    10  \n",
      "67                0         0.990745    10  \n"
     ]
    }
   ],
   "source": [
    "get_top_domains(en_fused_no_filtering[en_fused_no_filtering['modularity_class']==1], en_data)"
   ]
  },
  {
   "cell_type": "code",
   "execution_count": 30,
   "id": "678838ff-8245-49e3-994f-1bd1bce1beb9",
   "metadata": {},
   "outputs": [
    {
     "name": "stdout",
     "output_type": "stream",
     "text": [
      "[('trump2024', 310), ('biden', 60), ('breakingnews', 45), ('trump', 40), ('nahbabynah', 29), ('fnc', 22), ('jokes', 22), ('politics', 20), ('2024election', 17), ('gop', 14)]\n",
      "Cluster size: 42\n",
      "Avg EC: 0.10369207142857143\n",
      "Max EC:             Id       Label  modularity_class  componentnumber  \\\n",
      "3   '21651982'  '21651982'                 0                0   \n",
      "33  '55060090'  '55060090'                 0                0   \n",
      "\n",
      "    eigencentrality  Size  \n",
      "3          0.164033    10  \n",
      "33         0.159345    10  \n"
     ]
    }
   ],
   "source": [
    "get_top_domains(en_fused_no_filtering[en_fused_no_filtering['modularity_class']==0], en_data)"
   ]
  },
  {
   "cell_type": "code",
   "execution_count": null,
   "id": "f9708e74-e4e8-47d3-8eec-8f43d43a5e26",
   "metadata": {},
   "outputs": [],
   "source": []
  },
  {
   "cell_type": "markdown",
   "id": "57dae61d-b6d6-4b15-9d47-f75c7af5760b",
   "metadata": {},
   "source": [
    "### 2. Spanish:"
   ]
  },
  {
   "cell_type": "code",
   "execution_count": 48,
   "id": "1091a41b-8e75-4987-bb41-6a78c60b6a1c",
   "metadata": {},
   "outputs": [],
   "source": [
    "# Align node sets across networks (if node sets differ)\n",
    "es_all_nodes = set(es_text.nodes()) | set(es_domain.nodes()) | set(es_tag.nodes())\n",
    "for graph in [es_text, es_domain, es_tag]:\n",
    "    for node in es_all_nodes:\n",
    "        if node not in graph:\n",
    "            graph.add_node(node)\n"
   ]
  },
  {
   "cell_type": "code",
   "execution_count": 49,
   "id": "283d2cb0-84ec-4d40-af92-da1a0de71866",
   "metadata": {},
   "outputs": [],
   "source": [
    "es_fused_graph = construct_fused_network([es_text, es_domain, es_tag])\n"
   ]
  },
  {
   "cell_type": "code",
   "execution_count": 38,
   "id": "d44b3690-3860-45ed-9a1d-0e2844829c7c",
   "metadata": {},
   "outputs": [],
   "source": [
    "es_filtered_graph = filter_edges_by_sentiment_and_time(es_data, es_fused_graph, time_window=3600)\n"
   ]
  },
  {
   "cell_type": "code",
   "execution_count": 39,
   "id": "46dc1ae2-0737-44b1-b307-74afbf65181d",
   "metadata": {},
   "outputs": [],
   "source": [
    "centrality_threshold = 1e-2\n",
    "es_pruned_graph, es_eiges_centrality = prune_nodes_by_centrality(es_filtered_graph, centrality_threshold)\n"
   ]
  },
  {
   "cell_type": "code",
   "execution_count": 40,
   "id": "faeb1b68-f44e-4f4b-9849-46e6ad38cea9",
   "metadata": {},
   "outputs": [],
   "source": [
    "nx.write_gexf(es_pruned_graph, \"es_pruned_graph.gexf\")"
   ]
  },
  {
   "cell_type": "code",
   "execution_count": 41,
   "id": "e772e52d-e2a2-4c21-90bc-e5c24da83c12",
   "metadata": {},
   "outputs": [],
   "source": [
    "nx.write_gexf(es_filtered_graph, \"es_filtered_graph.gexf\")"
   ]
  },
  {
   "cell_type": "code",
   "execution_count": 44,
   "id": "10f08ed5-6f8c-49ca-983e-be0eb5b2a596",
   "metadata": {},
   "outputs": [],
   "source": [
    "nx.write_gexf(en_filtered_graph, \"en_filtered_graph.gexf\")"
   ]
  },
  {
   "cell_type": "code",
   "execution_count": 15,
   "id": "29272190-9885-4a75-a43e-7d1fedcdf0ff",
   "metadata": {},
   "outputs": [],
   "source": [
    "centrality_threshold = 1e-2\n",
    "es_pruned_baseline, es_eigen_centrality_baseline = prune_nodes_by_centrality(es_fused_graph, centrality_threshold)\n"
   ]
  },
  {
   "cell_type": "code",
   "execution_count": 16,
   "id": "c36ed963-95e7-48f8-a207-a047e8b53be4",
   "metadata": {},
   "outputs": [],
   "source": [
    "nx.write_gexf(es_pruned_baseline, \"es_pruned_baseline.gexf\")"
   ]
  },
  {
   "cell_type": "code",
   "execution_count": 13,
   "id": "d7d7cf39-5a22-4940-bdca-f58d9e02cc56",
   "metadata": {},
   "outputs": [],
   "source": [
    "# nx.write_gexf(es_pruned_graph, \"es_pruned_graph.gexf\")\n",
    "# nx.write_gexf(en_pruned_graph, \"en_pruned_graph.gexf\")"
   ]
  },
  {
   "cell_type": "code",
   "execution_count": 5,
   "id": "acc51a7b-e6e8-4a06-854e-f1ee1ea1c999",
   "metadata": {},
   "outputs": [],
   "source": [
    "# import pandas as pd\n",
    "# en_fusion = pd.read_csv(\"en_pruned.csv\")\n",
    "# es_fusion = pd.read_csv(\"es_pruned.csv\")\n"
   ]
  },
  {
   "cell_type": "code",
   "execution_count": 8,
   "id": "b2660c5e-6822-40b3-8f81-06f563dffbb1",
   "metadata": {},
   "outputs": [],
   "source": [
    "# en_fusion_cluster5 = en_fusion[en_fusion['modularity_class']==5]"
   ]
  },
  {
   "cell_type": "code",
   "execution_count": 53,
   "id": "895de681-aad3-49bc-9238-b78ecc55a237",
   "metadata": {},
   "outputs": [],
   "source": [
    "en_low_weight_filtered = filter_edges_by_percentile(en_fused_graph, 70)\n",
    "es_low_weight_filtered = filter_edges_by_percentile(es_fused_graph, 70)\n"
   ]
  },
  {
   "cell_type": "code",
   "execution_count": 54,
   "id": "2e0eb282-73d0-4987-af52-69938dd0629c",
   "metadata": {},
   "outputs": [],
   "source": [
    "nx.write_gexf(en_low_weight_filtered, \"en_low_weight_filtered.gexf\")\n",
    "nx.write_gexf(es_low_weight_filtered, \"es_low_weight_filtered.gexf\")"
   ]
  },
  {
   "cell_type": "code",
   "execution_count": 50,
   "id": "2b5d5b57-a78f-4e26-aaeb-497d708db663",
   "metadata": {},
   "outputs": [],
   "source": [
    "nx.write_gexf(es_fused_graph, \"es_fused_graph_nothing.gexf\")\n",
    "nx.write_gexf(en_fused_graph, \"en_fused_graph_nothing.gexf\")"
   ]
  },
  {
   "cell_type": "markdown",
   "id": "7ca93413-5a2e-4aca-ab97-8503025af03b",
   "metadata": {},
   "source": [
    "## 4. Evaluate\n",
    "#### Below, we evaluate edge filtering only, node pruning only, and edge filtering + node pruning. "
   ]
  },
  {
   "cell_type": "code",
   "execution_count": 8,
   "id": "4752616d-b138-4693-ac68-bc2b56b9386d",
   "metadata": {},
   "outputs": [],
   "source": [
    "import numpy as np\n",
    "from scipy.spatial.distance import jensenshannon\n",
    "from bertopic import BERTopic\n",
    "from bertopic.representation import KeyBERTInspired\n",
    "import pandas as pd\n",
    "import matplotlib.pyplot as plt\n",
    "import seaborn as sns\n",
    "from umap import UMAP\n"
   ]
  },
  {
   "cell_type": "code",
   "execution_count": 9,
   "id": "8395dcc3-f4f4-4d07-982e-a24ab7970eed",
   "metadata": {},
   "outputs": [],
   "source": [
    "def calculate_entropy(topic_counts):\n",
    "    proportions = topic_counts / np.sum(topic_counts)\n",
    "    if len(proportions) <= 1:  # Handle single-topic clusters\n",
    "        return 0  # Entropy is 0 when all data belongs to one topic\n",
    "    entropy = -np.sum(proportions * np.log(proportions)) / np.log(len(proportions))\n",
    "    return entropy\n"
   ]
  },
  {
   "cell_type": "code",
   "execution_count": 10,
   "id": "d3dacefb-f5f0-41b3-adbd-012a850710a1",
   "metadata": {},
   "outputs": [],
   "source": [
    "def pad_distributions(distributions, max_length):\n",
    "    padded_distributions = []\n",
    "    for dist in distributions:\n",
    "        padded_dist = np.zeros(max_length)\n",
    "        padded_dist[:len(dist)] = dist\n",
    "        padded_distributions.append(padded_dist)\n",
    "    return padded_distributions\n",
    "\n",
    "def average_jsd(cluster_distributions):\n",
    "    max_length = max(len(dist) for dist in cluster_distributions)\n",
    "    padded_distributions = pad_distributions(cluster_distributions, max_length)\n",
    "    num_clusters = len(padded_distributions)\n",
    "    jsd_values = []\n",
    "    for i in range(num_clusters):\n",
    "        for j in range(i + 1, num_clusters):\n",
    "            jsd_values.append(jensenshannon(padded_distributions[i], padded_distributions[j]))\n",
    "    return np.mean(jsd_values)\n"
   ]
  },
  {
   "cell_type": "code",
   "execution_count": 11,
   "id": "42487a1c-5247-44f5-b13f-fdba27b19b0b",
   "metadata": {},
   "outputs": [],
   "source": [
    "# Weighted Average Entropy\n",
    "def weighted_average_entropy(clusters_topics, clusters_sizes):\n",
    "    entropies = []\n",
    "    for topics in clusters_topics:\n",
    "        topic_counts = pd.Series(topics).value_counts()\n",
    "        entropies.append(calculate_entropy(topic_counts))\n",
    "    return np.average(entropies, weights=clusters_sizes)\n"
   ]
  },
  {
   "cell_type": "code",
   "execution_count": 12,
   "id": "a426d943-15ff-40d9-831d-0c2d4b3f65c7",
   "metadata": {},
   "outputs": [],
   "source": [
    "def load_clusters(file_path, data_df):\n",
    "    # Load graph data from Gephi export\n",
    "    graph_df = pd.read_csv(file_path)\n",
    "    \n",
    "    # Group nodes by modularity_class (cluster)\n",
    "    clusters = {}\n",
    "    for cluster_id, cluster_nodes in graph_df.groupby('modularity_class'):\n",
    "        clusters[cluster_id] = cluster_nodes\n",
    "    return clusters"
   ]
  },
  {
   "cell_type": "code",
   "execution_count": 13,
   "id": "d71c3613-26eb-4ea2-902b-3e51d4485e5e",
   "metadata": {},
   "outputs": [],
   "source": [
    "def filter_sparse_clusters(clusters, min_docs=10, min_max_EC=0.2):\n",
    "    \"\"\"\n",
    "    Filters out sparse clusters with fewer documents than `min_docs` \n",
    "    or a maximum eigenvector centrality below `min_max_EC`.\n",
    "\n",
    "    Parameters:\n",
    "    - clusters: Dictionary where keys are cluster IDs and values are DataFrames with cluster data.\n",
    "    - min_docs: Minimum number of documents required in a cluster.\n",
    "    - min_max_EC: Minimum required maximum eigenvector centrality (EC) for a cluster.\n",
    "\n",
    "    Returns:\n",
    "    - Filtered dictionary of clusters.\n",
    "    \"\"\"\n",
    "    filtered_clusters = {}\n",
    "    \n",
    "    for cid, df in clusters.items():\n",
    "        # Check if the cluster has enough documents\n",
    "        if len(df) < min_docs:\n",
    "            continue\n",
    "        \n",
    "        # Check if the maximum EC in the cluster meets the threshold\n",
    "        max_EC = df['eigencentrality'].max()\n",
    "        if max_EC < min_max_EC:\n",
    "            continue\n",
    "        \n",
    "        # Keep the cluster if it passes both conditions\n",
    "        filtered_clusters[cid] = df\n",
    "\n",
    "    return filtered_clusters\n"
   ]
  },
  {
   "cell_type": "code",
   "execution_count": 14,
   "id": "901f83e0-6390-43fe-a24f-4498185a910c",
   "metadata": {},
   "outputs": [],
   "source": [
    "def evaluate_network(clusters, data_df):\n",
    "    cluster_topics = []\n",
    "    cluster_distributions = []\n",
    "    cluster_sizes = []\n",
    "\n",
    "    for cluster_id, cluster_df in clusters.items():\n",
    "        # Extract tweets for nodes in the cluster\n",
    "        texts = []\n",
    "        for _, row in cluster_df.iterrows():\n",
    "            user = row['Id']\n",
    "            user_data = data_df[data_df['id_str'] == user]\n",
    "            for _, tweet_row in user_data.iterrows():\n",
    "                tweet = tweet_row['text']\n",
    "                if isinstance(tweet, str) and len(tweet) > 0:\n",
    "                    texts.append(tweet)\n",
    "        \n",
    "        if not texts:\n",
    "            print(f\"Cluster {cluster_id} is empty, skipping...\")\n",
    "            continue\n",
    "\n",
    "        # Apply BERTopic with try-except\n",
    "        try:\n",
    "            representation_model = KeyBERTInspired()\n",
    "            topic_model = BERTopic(language=\"multilingual\", representation_model=representation_model)\n",
    "            topics, _ = topic_model.fit_transform(texts)\n",
    "            cluster_topics.append(topics)\n",
    "\n",
    "            # Get normalized topic distribution for JSD\n",
    "            topic_counts = pd.Series(topics).value_counts(normalize=True)\n",
    "            cluster_distributions.append(topic_counts.values)\n",
    "            \n",
    "            # Save cluster size\n",
    "            cluster_sizes.append(len(texts))\n",
    "\n",
    "        except Exception as e:\n",
    "            print(f\"Cluster {cluster_id} skipped due to error: {e}\")\n",
    "            continue\n",
    "\n",
    "    # Calculate metrics\n",
    "    entropy = weighted_average_entropy(cluster_topics, cluster_sizes)\n",
    "    jsd = average_jsd(cluster_distributions)\n",
    "    return entropy, jsd\n"
   ]
  },
  {
   "cell_type": "code",
   "execution_count": 37,
   "id": "ad7b809d-5e30-418b-8d42-1f598d767a39",
   "metadata": {},
   "outputs": [],
   "source": [
    "# en_edge_filtered_clusters = load_clusters(\"en_fused_filtered.csv\", en_data)\n",
    "# en_node_pruned_clusters = load_clusters(\"en_fused_baseline.csv\", en_data)\n",
    "# en_edge_node_pruned_clusters = load_clusters(\"en_fused_all.csv\", en_data)"
   ]
  },
  {
   "cell_type": "code",
   "execution_count": 56,
   "id": "aba58d12-dc91-4d04-80d2-c23d1351cced",
   "metadata": {},
   "outputs": [
    {
     "data": {
      "image/png": "[encoded data removed]",
      "text/plain": [
       "<Figure size 1000x800 with 1 Axes>"
      ]
     },
     "metadata": {},
     "output_type": "display_data"
    }
   ],
   "source": [
    "# Evaluate networks\n",
    "results = {}\n",
    "for network_name, file_path in {\n",
    "    'Edge Filtering (time, sentiment)': \"en_fused_filtered.csv\",\n",
    "    'Node Pruning': \"en_fused_baseline.csv\",\n",
    "    'Edge (time, sentiment) + Node Pruning': \"en_fused_all.csv\", \n",
    "    'No filtering and Pruning': \"en_fused_nothing.csv\",\n",
    "    'Edge filtering (weight)': \"en_low_weight_filtered.csv\"\n",
    "}.items():\n",
    "    clusters = load_clusters(file_path, en_data)\n",
    "    filtered_clusters = filter_sparse_clusters(clusters, min_docs=10, min_max_EC=0.2)\n",
    "    entropy, jsd = evaluate_network(filtered_clusters, en_data)\n",
    "    results[network_name] = (entropy, jsd)\n",
    "\n",
    "\n",
    "# Prepare data for Seaborn\n",
    "results_df = pd.DataFrame.from_dict(results, orient='index', columns=['Entropy', 'JSD']).reset_index()\n",
    "results_df.rename(columns={'index': 'Network'}, inplace=True)\n",
    "\n",
    "# Plot using Seaborn\n",
    "plt.figure(figsize=(10, 8))\n",
    "sns.scatterplot(data=results_df, x='Entropy', y='JSD', hue='Network', style='Network', s=200, palette='Set2')\n",
    "\n",
    "# # Annotate each point\n",
    "# for _, row in results_df.iterrows():\n",
    "#     plt.text(row['Entropy'] + 0.01, row['JSD'] + 0.01, row['Network'], fontsize=12)\n",
    "\n",
    "# Add labels and title\n",
    "plt.xlabel('Weighted Average Entropy (Homogeneity)', fontsize=14)\n",
    "plt.ylabel('Average JSD (Heterogeneity)', fontsize=14)\n",
    "plt.title('Network Quality Evaluation for English', fontsize=16)\n",
    "plt.grid(True)\n",
    "plt.legend(title='Network', fontsize=12)\n",
    "plt.savefig(\"network_evaluation_en.png\", dpi=300, bbox_inches='tight')\n",
    "plt.show()\n"
   ]
  },
  {
   "cell_type": "code",
   "execution_count": 16,
   "id": "f2797729-8365-4ab4-93c9-71fd8aaeb20e",
   "metadata": {},
   "outputs": [
    {
     "name": "stderr",
     "output_type": "stream",
     "text": [
      "huggingface/tokenizers: The current process just got forked, after parallelism has already been used. Disabling parallelism to avoid deadlocks...\n",
      "To disable this warning, you can either:\n",
      "\t- Avoid using `tokenizers` before the fork if possible\n",
      "\t- Explicitly set the environment variable TOKENIZERS_PARALLELISM=(true | false)\n",
      "huggingface/tokenizers: The current process just got forked, after parallelism has already been used. Disabling parallelism to avoid deadlocks...\n",
      "To disable this warning, you can either:\n",
      "\t- Avoid using `tokenizers` before the fork if possible\n",
      "\t- Explicitly set the environment variable TOKENIZERS_PARALLELISM=(true | false)\n",
      "huggingface/tokenizers: The current process just got forked, after parallelism has already been used. Disabling parallelism to avoid deadlocks...\n",
      "To disable this warning, you can either:\n",
      "\t- Avoid using `tokenizers` before the fork if possible\n",
      "\t- Explicitly set the environment variable TOKENIZERS_PARALLELISM=(true | false)\n",
      "huggingface/tokenizers: The current process just got forked, after parallelism has already been used. Disabling parallelism to avoid deadlocks...\n",
      "To disable this warning, you can either:\n",
      "\t- Avoid using `tokenizers` before the fork if possible\n",
      "\t- Explicitly set the environment variable TOKENIZERS_PARALLELISM=(true | false)\n"
     ]
    },
    {
     "data": {
      "image/png": "[encoded data removed]",
      "text/plain": [
       "<Figure size 1000x800 with 1 Axes>"
      ]
     },
     "metadata": {},
     "output_type": "display_data"
    }
   ],
   "source": [
    "# Evaluate networks\n",
    "results = {}\n",
    "for network_name, file_path in {\n",
    "    'Edge Filtering (time, sentiment)': \"es_filtered_graph.csv\",\n",
    "    'Node Pruning': \"es_fused_baseline.csv\",\n",
    "    'Edge (time, sentiment) + Node Pruning': \"es_fused_all.csv\", \n",
    "    'No filtering and Pruning': \"es_fused_nothing.csv\",\n",
    "    'Edge filtering (weight)': \"es_low_weight_filtered.csv\"\n",
    "}.items():\n",
    "    clusters = load_clusters(file_path, es_data)\n",
    "    filtered_clusters = filter_sparse_clusters(clusters, min_docs=10, min_max_EC=0.2)\n",
    "    entropy, jsd = evaluate_network(filtered_clusters, es_data)\n",
    "    results[network_name] = (entropy, jsd)\n",
    "\n",
    "\n",
    "# Prepare data for Seaborn\n",
    "results_df = pd.DataFrame.from_dict(results, orient='index', columns=['Entropy', 'JSD']).reset_index()\n",
    "results_df.rename(columns={'index': 'Network'}, inplace=True)\n",
    "\n",
    "# Plot using Seaborn\n",
    "plt.figure(figsize=(10, 8))\n",
    "sns.scatterplot(data=results_df, x='Entropy', y='JSD', hue='Network', style='Network', s=200, palette='Set2')\n",
    "\n",
    "# # Annotate each point\n",
    "# for _, row in results_df.iterrows():\n",
    "#     plt.text(row['Entropy'] + 0.01, row['JSD'] + 0.01, row['Network'], fontsize=12)\n",
    "\n",
    "# Add labels and title\n",
    "plt.xlabel('Weighted Average Entropy (Homogeneity)', fontsize=14)\n",
    "plt.ylabel('Average JSD (Heterogeneity)', fontsize=14)\n",
    "plt.title('Network Quality Evaluation for Spanish', fontsize=16)\n",
    "plt.grid(True)\n",
    "plt.legend(title='Network', fontsize=12)\n",
    "plt.savefig(\"network_evaluation_es.png\", dpi=300, bbox_inches='tight')\n",
    "plt.show()\n"
   ]
  },
  {
   "cell_type": "code",
   "execution_count": null,
   "id": "6c30523f-3d92-4ac2-aa9f-078515b3c31f",
   "metadata": {},
   "outputs": [],
   "source": []
  }
 ],
 "metadata": {
  "kernelspec": {
   "display_name": "Python 3 (ipykernel)",
   "language": "python",
   "name": "python3"
  },
  "language_info": {
   "codemirror_mode": {
    "name": "ipython",
    "version": 3
   },
   "file_extension": ".py",
   "mimetype": "text/x-python",
   "name": "python",
   "nbconvert_exporter": "python",
   "pygments_lexer": "ipython3",
   "version": "3.11.7"
  }
 },
 "nbformat": 4,
 "nbformat_minor": 5
}
