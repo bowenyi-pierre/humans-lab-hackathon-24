{
 "cells": [
  {
   "cell_type": "markdown",
   "id": "23888e75-83a1-4815-91aa-bc87e55412bc",
   "metadata": {},
   "source": [
    "### Network Fusion\n",
    "- Might consider temporary indicators (epoch)\n",
    "- Might also add linguistic features like formality and toxicity, if time allows"
   ]
  },
  {
   "cell_type": "code",
   "execution_count": 1,
   "id": "b50232f4-860d-4d36-ad12-a1eed5aefec5",
   "metadata": {},
   "outputs": [],
   "source": [
    "import pickle\n",
    "import networkx as nx\n"
   ]
  },
  {
   "cell_type": "code",
   "execution_count": 2,
   "id": "7880be54-fee4-470d-87b2-66757b7daef0",
   "metadata": {},
   "outputs": [],
   "source": [
    "en_text_graph = pickle.load(open('en_text_graph.gpickle', 'rb'))\n",
    "en_co_url_graph = pickle.load(open('en_co_url_graph.gpickle', 'rb'))\n",
    "en_co_hashtag_graph = nx.read_gexf(\"en_co_hashtag_graph.gexf\") \n",
    "en_co_mentioned_graph = nx.read_gexf(\"en_co_mentioned_graph.gexf\") \n"
   ]
  },
  {
   "cell_type": "code",
   "execution_count": 3,
   "id": "745c42a0-dcf7-4a45-afdb-b78525992ea5",
   "metadata": {},
   "outputs": [],
   "source": [
    "es_text_graph = pickle.load(open('es_text_graph.gpickle', 'rb'))\n",
    "es_co_url_graph = pickle.load(open('es_co_url_graph.gpickle', 'rb'))\n",
    "es_co_hashtag_graph = nx.read_gexf(\"es_co_hashtag_graph.gexf\") \n",
    "es_co_mentioned_graph = nx.read_gexf(\"es_co_mentioned_graph.gexf\") \n"
   ]
  },
  {
   "cell_type": "markdown",
   "id": "4f01028a-3701-4810-9875-115a96dc7252",
   "metadata": {},
   "source": [
    "### 1. English network fusion"
   ]
  },
  {
   "cell_type": "code",
   "execution_count": 4,
   "id": "b640ab13-3720-435e-af2b-36e590d1967c",
   "metadata": {},
   "outputs": [],
   "source": [
    "# Combine nodes from all networks\n",
    "en_all_nodes = set(en_text_graph.nodes()) | set(en_co_url_graph.nodes()) | set(en_co_hashtag_graph.nodes()) | set(en_co_mentioned_graph.nodes())\n",
    "\n",
    "# Ensure all graphs have the same node set\n",
    "for graph in [en_text_graph, en_co_url_graph, en_co_hashtag_graph, en_co_mentioned_graph]:\n",
    "    for node in en_all_nodes:\n",
    "        if node not in graph:\n",
    "            graph.add_node(node)  # Add missing nodes\n"
   ]
  },
  {
   "cell_type": "code",
   "execution_count": 5,
   "id": "f183ef83-fc2d-4fbe-bf80-7681b42e174a",
   "metadata": {},
   "outputs": [],
   "source": [
    "# Initialize fused graph\n",
    "en_fused_graph = nx.Graph()\n",
    "\n",
    "# Add edges from all individual networks\n",
    "for graph in [en_text_graph, en_co_url_graph, en_co_hashtag_graph, en_co_mentioned_graph]:\n",
    "    for u, v, data in graph.edges(data=True):\n",
    "        # Add edge to the fused graph (combine weights if desired)\n",
    "        if en_fused_graph.has_edge(u, v):\n",
    "            en_fused_graph[u][v]['weight'] += data.get('weight', 1)\n",
    "        else:\n",
    "            en_fused_graph.add_edge(u, v, weight=data.get('weight', 1))\n"
   ]
  },
  {
   "cell_type": "code",
   "execution_count": 6,
   "id": "0f158781-3ece-410a-9184-23eb4469c40e",
   "metadata": {},
   "outputs": [
    {
     "data": {
      "text/plain": [
       "495841"
      ]
     },
     "execution_count": 6,
     "metadata": {},
     "output_type": "execute_result"
    }
   ],
   "source": [
    "en_fused_graph.size()"
   ]
  },
  {
   "cell_type": "code",
   "execution_count": 11,
   "id": "468cbc30-2661-4657-86fd-08190247dd2a",
   "metadata": {},
   "outputs": [
    {
     "data": {
      "text/plain": [
       "495841"
      ]
     },
     "execution_count": 11,
     "metadata": {},
     "output_type": "execute_result"
    }
   ],
   "source": [
    "en_fused_graph.number_of_edges()"
   ]
  },
  {
   "cell_type": "markdown",
   "id": "26306f1d-7549-4c9c-85ab-011ee8a64deb",
   "metadata": {},
   "source": [
    "#### Edge filtering"
   ]
  },
  {
   "cell_type": "code",
   "execution_count": 20,
   "id": "9915f940-cc67-4dd3-93d6-a6b3f18186b8",
   "metadata": {},
   "outputs": [
    {
     "name": "stdout",
     "output_type": "stream",
     "text": [
      "Number of nodes: 3618\n",
      "Number of edges: 247921\n"
     ]
    }
   ],
   "source": [
    "import numpy as np\n",
    "def filter_edges_by_weight(graph, weight_threshold):\n",
    "    \"\"\"\n",
    "    Filter edges in the graph based on a weight threshold.\n",
    "    \"\"\"\n",
    "    filtered_graph = nx.Graph()\n",
    "    for u, v, data in graph.edges(data=True):\n",
    "        if data.get('weight', 0) >= weight_threshold:\n",
    "            filtered_graph.add_edge(u, v, weight=data['weight'])\n",
    "    return filtered_graph\n",
    "\n",
    "# Analyze edge weights to set a threshold\n",
    "en_edge_weights = [data['weight'] for _, _, data in en_fused_graph.edges(data=True)]\n",
    "en_percentile_50 = np.percentile(en_edge_weights, 50)\n",
    "\n",
    "# Filter edges in the fused network\n",
    "en_filtered_graph = filter_edges_by_weight(en_fused_graph, weight_threshold=en_percentile_50)\n",
    "\n",
    "print(f\"Number of nodes: {en_filtered_graph.number_of_nodes()}\")\n",
    "print(f\"Number of edges: {en_filtered_graph.number_of_edges()}\")\n"
   ]
  },
  {
   "cell_type": "markdown",
   "id": "6f13c696-baef-4895-b8e4-431ee2b18690",
   "metadata": {},
   "source": [
    "#### Node Pruning"
   ]
  },
  {
   "cell_type": "code",
   "execution_count": 21,
   "id": "d48c66f7-7d02-438b-a092-f330010e9c36",
   "metadata": {},
   "outputs": [
    {
     "name": "stdout",
     "output_type": "stream",
     "text": [
      "Number of nodes: 1807\n",
      "Number of edges: 106400\n"
     ]
    }
   ],
   "source": [
    "en_eigen_centrality = nx.eigenvector_centrality(en_fused_graph, max_iter=1000)\n",
    "\n",
    "nx.set_node_attributes(en_fused_graph, en_eigen_centrality, \"eigenvector_centrality\")\n",
    "\n",
    "def prune_nodes_by_centrality(graph, centrality, centrality_threshold):\n",
    "    \"\"\"\n",
    "    Prune nodes in the graph based on an eigenvector centrality threshold.\n",
    "    \"\"\"\n",
    "    nodes_to_keep = [node for node, value in centrality.items() if value >= centrality_threshold]\n",
    "    pruned_graph = graph.subgraph(nodes_to_keep).copy()\n",
    "    return pruned_graph\n",
    "\n",
    "# Analyze centrality values to set a threshold\n",
    "en_centrality_values = list(en_eigen_centrality.values())\n",
    "en_percentile_50 = np.percentile(en_centrality_values, 50)\n",
    "\n",
    "# Prune nodes based on eigenvector centrality\n",
    "en_pruned_graph = prune_nodes_by_centrality(en_filtered_graph, en_eigen_centrality, centrality_threshold=en_percentile_50)\n",
    "\n",
    "print(f\"Number of nodes: {en_pruned_graph.number_of_nodes()}\")\n",
    "print(f\"Number of edges: {en_pruned_graph.number_of_edges()}\")\n"
   ]
  },
  {
   "cell_type": "markdown",
   "id": "57dae61d-b6d6-4b15-9d47-f75c7af5760b",
   "metadata": {},
   "source": [
    "### 2. Spanish:"
   ]
  },
  {
   "cell_type": "code",
   "execution_count": 12,
   "id": "1091a41b-8e75-4987-bb41-6a78c60b6a1c",
   "metadata": {},
   "outputs": [],
   "source": [
    "# Combine nodes from all networks\n",
    "es_all_nodes = set(es_text_graph.nodes()) | set(es_co_url_graph.nodes()) | set(es_co_hashtag_graph.nodes()) | set(es_co_mentioned_graph.nodes())\n",
    "\n",
    "# Ensure all graphs have the same node set\n",
    "for graph in [es_text_graph, es_co_url_graph, es_co_hashtag_graph, es_co_mentioned_graph]:\n",
    "    for node in es_all_nodes:\n",
    "        if node not in graph:\n",
    "            graph.add_node(node)  # Add missing nodes\n",
    "\n",
    "# Initialize fused graph\n",
    "es_fused_graph = nx.Graph()\n",
    "\n",
    "# Add edges from all individual networks\n",
    "for graph in [es_text_graph, es_co_url_graph, es_co_hashtag_graph, es_co_mentioned_graph]:\n",
    "    for u, v, data in graph.edges(data=True):\n",
    "        # Add edge to the fused graph (combine weights if desired)\n",
    "        if es_fused_graph.has_edge(u, v):\n",
    "            es_fused_graph[u][v]['weight'] += data.get('weight', 1)\n",
    "        else:\n",
    "            es_fused_graph.add_edge(u, v, weight=data.get('weight', 1))\n"
   ]
  },
  {
   "cell_type": "code",
   "execution_count": 15,
   "id": "283d2cb0-84ec-4d40-af92-da1a0de71866",
   "metadata": {},
   "outputs": [
    {
     "name": "stdout",
     "output_type": "stream",
     "text": [
      "Number of nodes: 5225\n",
      "Number of edges: 278236\n"
     ]
    }
   ],
   "source": [
    "# Analyze edge weights to set a threshold\n",
    "es_edge_weights = [data['weight'] for _, _, data in es_fused_graph.edges(data=True)]\n",
    "es_percentile_70 = np.percentile(es_edge_weights, 70)\n",
    "\n",
    "# Filter edges in the fused network\n",
    "es_filtered_graph = filter_edges_by_weight(es_fused_graph, weight_threshold=es_percentile_70)\n",
    "\n",
    "print(f\"Number of nodes: {es_filtered_graph.number_of_nodes()}\")\n",
    "print(f\"Number of edges: {es_filtered_graph.number_of_edges()}\")\n"
   ]
  },
  {
   "cell_type": "code",
   "execution_count": 16,
   "id": "d44b3690-3860-45ed-9a1d-0e2844829c7c",
   "metadata": {},
   "outputs": [
    {
     "name": "stdout",
     "output_type": "stream",
     "text": [
      "Number of nodes: 1890\n",
      "Number of edges: 154079\n"
     ]
    }
   ],
   "source": [
    "es_eigen_centrality = nx.eigenvector_centrality(es_fused_graph, max_iter=1000)\n",
    "\n",
    "nx.set_node_attributes(es_fused_graph, es_eigen_centrality, \"eigenvector_centrality\")\n",
    "\n",
    "\n",
    "# Analyze centrality values to set a threshold\n",
    "es_centrality_values = list(es_eigen_centrality.values())\n",
    "es_percentile_70 = np.percentile(es_centrality_values, 70)\n",
    "\n",
    "# Prune nodes based on eigenvector centrality\n",
    "es_pruned_graph = prune_nodes_by_centrality(es_filtered_graph, es_eigen_centrality, centrality_threshold=es_percentile_70)\n",
    "\n",
    "print(f\"Number of nodes: {es_pruned_graph.number_of_nodes()}\")\n",
    "print(f\"Number of edges: {es_pruned_graph.number_of_edges()}\")"
   ]
  },
  {
   "cell_type": "code",
   "execution_count": null,
   "id": "d7d7cf39-5a22-4940-bdca-f58d9e02cc56",
   "metadata": {},
   "outputs": [],
   "source": []
  }
 ],
 "metadata": {
  "kernelspec": {
   "display_name": "Python 3 (ipykernel)",
   "language": "python",
   "name": "python3"
  },
  "language_info": {
   "codemirror_mode": {
    "name": "ipython",
    "version": 3
   },
   "file_extension": ".py",
   "mimetype": "text/x-python",
   "name": "python",
   "nbconvert_exporter": "python",
   "pygments_lexer": "ipython3",
   "version": "3.11.7"
  }
 },
 "nbformat": 4,
 "nbformat_minor": 5
}
