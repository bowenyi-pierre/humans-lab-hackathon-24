{
 "cells": [
  {
   "cell_type": "code",
   "execution_count": 1,
   "id": "8998de03-caf3-493e-80f8-7efa775a7199",
   "metadata": {},
   "outputs": [],
   "source": [
    "import pandas as pd\n",
    "import time\n",
    "import ast\n",
    "import pickle\n",
    "import networkx as nx\n",
    "from collections import Counter\n",
    "from scipy.sparse import csr_matrix\n",
    "\n",
    "from collections import defaultdict\n",
    "from sklearn.metrics.pairwise import cosine_similarity\n",
    "from sklearn.feature_extraction.text import TfidfTransformer\n",
    "import numpy as np\n"
   ]
  },
  {
   "cell_type": "code",
   "execution_count": 2,
   "id": "279b65a9-4fc6-40b8-adb8-0ad2184216b0",
   "metadata": {},
   "outputs": [],
   "source": [
    "en_data = pd.read_csv(\"en_combined.csv\")\n",
    "es_data = pd.read_csv(\"es_combined.csv\")"
   ]
  },
  {
   "cell_type": "code",
   "execution_count": 3,
   "id": "55de7c20-767b-4400-8166-ebac326886c9",
   "metadata": {},
   "outputs": [],
   "source": [
    "def convert_format(field):\n",
    "    return ast.literal_eval(field)\n",
    "\n",
    "en_data['hashtags'] = en_data['hashtags'].apply(convert_format)\n",
    "en_data['links'] = en_data['links'].apply(convert_format)\n",
    "en_data['mentionedUsers'] = en_data['mentionedUsers'].apply(convert_format)\n",
    "\n",
    "es_data['hashtags'] = es_data['hashtags'].apply(convert_format)\n",
    "es_data['links'] = es_data['links'].apply(convert_format)\n",
    "es_data['mentionedUsers'] = es_data['mentionedUsers'].apply(convert_format)\n"
   ]
  },
  {
   "cell_type": "markdown",
   "id": "6a34c688-1e32-4a14-8fcb-7b6f7b8194e6",
   "metadata": {},
   "source": [
    "#### 1. Preprocessing"
   ]
  },
  {
   "cell_type": "code",
   "execution_count": 27,
   "id": "37bb546a-fb1f-4e4d-b1a9-fd213564e803",
   "metadata": {},
   "outputs": [],
   "source": [
    "def filter_users_by_hashtags(dataframe, min_unique_hashtags=6):\n",
    "    # Extract user-hashtag mappings\n",
    "    user_hashtag_map = [\n",
    "        (row['id_str'], tag['text'].lower())\n",
    "        for _, row in dataframe.iterrows()\n",
    "        if isinstance(row['hashtags'], list)\n",
    "        for tag in row['hashtags']\n",
    "        if 'text' in tag\n",
    "    ]\n",
    "\n",
    "    user_hashtag_df = pd.DataFrame(user_hashtag_map, columns=['user', 'hashtag'])\n",
    "\n",
    "    # Count unique hashtags per user\n",
    "    user_hashtag_counts = user_hashtag_df.groupby('user')['hashtag'].nunique()\n",
    "\n",
    "    # Filter users with at least min_unique_hashtags unique hashtags\n",
    "    users_with_min_hashtags = user_hashtag_counts[user_hashtag_counts >= min_unique_hashtags].index\n",
    "\n",
    "    # Filter the original dataframe to include only these users\n",
    "    filtered_data = dataframe[dataframe['id_str'].isin(users_with_min_hashtags)].copy()\n",
    "    print(f\"{filtered_data.shape[0]} users have shared more than {min_unique_hashtags} tags\")\n",
    "\n",
    "    return filtered_data, user_hashtag_df[user_hashtag_df['user'].isin(users_with_min_hashtags)]\n",
    "    "
   ]
  },
  {
   "cell_type": "code",
   "execution_count": 32,
   "id": "2477d49e-5977-40eb-9a59-6d1542bb6bc5",
   "metadata": {},
   "outputs": [],
   "source": [
    "def construct_co_hashtag_network(user_hashtag_df, min_df=5, threshold=0.7):\n",
    "    # Create a user-hashtag matrix\n",
    "    user_hashtag_matrix = user_hashtag_df.pivot_table(index='user', columns='hashtag', aggfunc=len, fill_value=0)\n",
    "\n",
    "    # Apply minimum document frequency (min_df)\n",
    "    hashtag_frequencies = (user_hashtag_matrix > 0).sum(axis=0)\n",
    "    valid_hashtags = hashtag_frequencies[hashtag_frequencies >= min_df].index\n",
    "    filtered_user_hashtag_matrix = user_hashtag_matrix[valid_hashtags]\n",
    "\n",
    "    # Convert to sparse matrix\n",
    "    user_hashtag_sparse_matrix = csr_matrix(filtered_user_hashtag_matrix.values)\n",
    "\n",
    "    # Apply TF-IDF transformation\n",
    "    tfidf_transformer = TfidfTransformer(norm='l2', use_idf=True, smooth_idf=True)\n",
    "    tfidf_matrix = tfidf_transformer.fit_transform(user_hashtag_sparse_matrix)\n",
    "\n",
    "    # Compute cosine similarity\n",
    "    similarity_matrix = cosine_similarity(tfidf_matrix)\n",
    "\n",
    "    # Build the user-user graph\n",
    "    user_ids = filtered_user_hashtag_matrix.index.tolist()\n",
    "    G = nx.Graph()\n",
    "\n",
    "    for i, user1 in enumerate(user_ids):\n",
    "        for j in range(i + 1, len(user_ids)):\n",
    "            user2 = user_ids[j]\n",
    "            similarity = similarity_matrix[i, j]\n",
    "            if similarity > threshold:\n",
    "                G.add_edge(user1, user2, weight=similarity)\n",
    "\n",
    "    return G"
   ]
  },
  {
   "cell_type": "code",
   "execution_count": 37,
   "id": "12988bc9-6d1a-4fac-877f-95f7a3e582a7",
   "metadata": {},
   "outputs": [
    {
     "name": "stdout",
     "output_type": "stream",
     "text": [
      "15701 users have shared more than 6 tags\n",
      "92218 users have shared more than 6 tags\n"
     ]
    }
   ],
   "source": [
    "en_data_filtered, en_user_hashtag_df = filter_users_by_hashtags(en_data)\n",
    "es_data_filtered, es_user_hashtag_df = filter_users_by_hashtags(es_data)\n"
   ]
  },
  {
   "cell_type": "code",
   "execution_count": 38,
   "id": "754319f4-a17e-472a-997a-04c5f8058ff9",
   "metadata": {},
   "outputs": [],
   "source": [
    "# Construct Co-Hashtag Networks\n",
    "en_co_hashtag_graph = construct_co_hashtag_network(en_user_hashtag_df)\n",
    "es_co_hashtag_graph = construct_co_hashtag_network(es_user_hashtag_df)\n"
   ]
  },
  {
   "cell_type": "code",
   "execution_count": 39,
   "id": "e666d4cf-1da3-49d4-8986-35617785d941",
   "metadata": {},
   "outputs": [
    {
     "data": {
      "text/plain": [
       "1865"
      ]
     },
     "execution_count": 39,
     "metadata": {},
     "output_type": "execute_result"
    }
   ],
   "source": [
    "en_co_hashtag_graph.size()"
   ]
  },
  {
   "cell_type": "code",
   "execution_count": 40,
   "id": "d657f14b-2532-4ffa-aa4b-072c8b98bd71",
   "metadata": {},
   "outputs": [
    {
     "data": {
      "text/plain": [
       "5520"
      ]
     },
     "execution_count": 40,
     "metadata": {},
     "output_type": "execute_result"
    }
   ],
   "source": [
    "es_co_hashtag_graph.size()"
   ]
  },
  {
   "cell_type": "code",
   "execution_count": 41,
   "id": "394529bd-8ef3-49fd-b314-9f1ba0980210",
   "metadata": {},
   "outputs": [],
   "source": [
    "nx.write_gexf(en_co_hashtag_graph, \"en_co_hashtag_graph_new.gexf\")"
   ]
  },
  {
   "cell_type": "code",
   "execution_count": 42,
   "id": "1354b9cf-ec8a-48ce-95be-bc4e3810a65d",
   "metadata": {},
   "outputs": [],
   "source": [
    "nx.write_gexf(es_co_hashtag_graph, \"es_co_hashtag_graph_new.gexf\")"
   ]
  },
  {
   "cell_type": "markdown",
   "id": "6ad4e48a-4cf8-424f-905c-270d47144929",
   "metadata": {},
   "source": [
    "### 2. Cluster Analysis"
   ]
  },
  {
   "cell_type": "code",
   "execution_count": 43,
   "id": "1d8f3aaf-8ce3-47a9-b5a0-a5418a6c684c",
   "metadata": {},
   "outputs": [],
   "source": [
    "en_clusters = pd.read_csv(\"en_co_hashtag.csv\")\n",
    "es_clusters = pd.read_csv(\"es_co_hashtag.csv\")\n"
   ]
  },
  {
   "cell_type": "code",
   "execution_count": 51,
   "id": "41592416-a841-4fcf-ae2e-01cc804ca41f",
   "metadata": {},
   "outputs": [],
   "source": [
    "from collections import Counter\n",
    "\n",
    "def get_top_tags(df, data):\n",
    "    \"\"\"\n",
    "    Prints the 10 most common tags in a cluster of nodes.\n",
    "\n",
    "    Parameters:\n",
    "    - df: DataFrame representing the cluster, containing user IDs in the 'Id' column.\n",
    "    - data: DataFrame containing the raw tweet data for the respective language.\n",
    "    \"\"\"\n",
    "    tags = []\n",
    "\n",
    "    # Iterate over each user in the cluster\n",
    "    for i, r in df.iterrows():\n",
    "        user = r['Id'] \n",
    "        user_data = data[data['id_str'] == user] \n",
    "        \n",
    "        for _, row in user_data.iterrows():\n",
    "            hashtags = row['hashtags']\n",
    "            if isinstance(hashtags, list):\n",
    "                for tag in hashtags:\n",
    "                    if 'text' in tag:\n",
    "                        tags.append(tag['text'].lower())\n",
    "\n",
    "    print(Counter(tags).most_common(10))\n",
    "    print(f\"Cluster size: {df.shape[0]}\")\n",
    "    print(f\"Avg EC: {df['eigencentrality'].mean()}\")\n",
    "    print(f\"Max EC: {df.sort_values(by='eigencentrality', ascending=False).head(2)}\")\n"
   ]
  },
  {
   "cell_type": "code",
   "execution_count": 52,
   "id": "6306a7b9-9463-4d65-89a3-ef89b5143a0f",
   "metadata": {},
   "outputs": [
    {
     "name": "stdout",
     "output_type": "stream",
     "text": [
      "[('trump2024', 456), ('maga', 160), ('trump', 63), ('nahbabynah', 29), ('trumpvance2024', 25), ('maga2024', 24), ('jokes', 22), ('trump2024vance', 7), ('biden', 7), ('makeamericagreatagain', 7)]\n",
      "Cluster size: 72\n",
      "Avg EC: 0.16504269444444442\n",
      "Max EC:                        Id                  Label  modularity_class  \\\n",
      "84  '1841523728166899712'  '1841523728166899712'                15   \n",
      "87             '32921811'             '32921811'                15   \n",
      "\n",
      "    eigencentrality       Size  \n",
      "84         0.980311  25.724232  \n",
      "87         0.980311  25.724232  \n"
     ]
    }
   ],
   "source": [
    "get_top_tags(en_clusters[en_clusters['modularity_class']==15], en_data)"
   ]
  },
  {
   "cell_type": "code",
   "execution_count": 53,
   "id": "fed72a26-67e0-4fa6-993c-d2a3a2d7847c",
   "metadata": {},
   "outputs": [
    {
     "name": "stdout",
     "output_type": "stream",
     "text": [
      "[('maga', 148), ('borderobserver', 27), ('trump2024', 15), ('trump', 11), ('rightbias', 7), ('m666', 6), ('frontpage', 6), ('americong', 6), ('operationsecondchancebuses', 5), ('smart', 5)]\n",
      "Cluster size: 35\n",
      "Avg EC: 0.7191521142857144\n",
      "Max EC:                         Id                  Label  modularity_class  \\\n",
      "144  '1483144269946892290'  '1483144269946892290'               102   \n",
      "147  '1608390506710503425'  '1608390506710503425'               102   \n",
      "\n",
      "     eigencentrality  Size  \n",
      "144              1.0  26.0  \n",
      "147              1.0  26.0  \n"
     ]
    }
   ],
   "source": [
    "get_top_tags(en_clusters[en_clusters['modularity_class']==102], en_data)"
   ]
  },
  {
   "cell_type": "code",
   "execution_count": 54,
   "id": "f72d1109-7cb1-4230-abb6-d153b2d5ec14",
   "metadata": {},
   "outputs": [
    {
     "name": "stdout",
     "output_type": "stream",
     "text": [
      "[('biden', 86), ('trump', 39), ('maga', 21), ('ridinwithbiden', 4), ('republican', 4), ('democrats', 3), ('trump2024', 3), ('publishtheera', 3), ('equalrightsamendment', 3), ('harris', 3)]\n",
      "Cluster size: 34\n",
      "Avg EC: 0.11914432352941175\n",
      "Max EC:              Id        Label  modularity_class  eigencentrality       Size\n",
      "22  '841346448'  '841346448'                 1         0.195507  14.731993\n",
      "24  '866219268'  '866219268'                 1         0.189038  14.641395\n"
     ]
    }
   ],
   "source": [
    "get_top_tags(en_clusters[en_clusters['modularity_class']==1], en_data)"
   ]
  },
  {
   "cell_type": "markdown",
   "id": "5ae4ebeb-e27e-4e9b-b3c8-2d3090c092bf",
   "metadata": {},
   "source": [
    "#### Only the blue cluster is about Biden. StrokerAC90 is the highest in two clusters. "
   ]
  },
  {
   "cell_type": "markdown",
   "id": "c053f311-8a1a-4546-9a06-6259c9aa455d",
   "metadata": {},
   "source": [
    "#### Spanish"
   ]
  },
  {
   "cell_type": "code",
   "execution_count": 57,
   "id": "ec762e74-bba0-4c94-b53b-90ca7656993f",
   "metadata": {},
   "outputs": [
    {
     "name": "stdout",
     "output_type": "stream",
     "text": [
      "[('mundo', 1673), ('estadosunidos', 152), ('américanoticias', 94), ('diariodemexico', 94), ('biden', 93), ('todoestáenln', 76), ('elcomentario', 66), ('joebiden', 60), ('radioamérica', 51), ('olivanoticias', 50)]\n",
      "Cluster size: 52\n",
      "Avg EC: 0.7594760384615385\n",
      "Max EC:                         Id                  Label  modularity_class  \\\n",
      "477             '18193312'             '18193312'                49   \n",
      "474  '1765936395896414208'  '1765936395896414208'                49   \n",
      "\n",
      "     eigencentrality  Size  \n",
      "477              1.0  28.0  \n",
      "474              1.0  28.0  \n"
     ]
    }
   ],
   "source": [
    "get_top_tags(es_clusters[es_clusters['modularity_class']==49], es_data)"
   ]
  },
  {
   "cell_type": "code",
   "execution_count": 58,
   "id": "3f1a932d-c846-4617-a08e-e8a8a691efaa",
   "metadata": {},
   "outputs": [
    {
     "name": "stdout",
     "output_type": "stream",
     "text": [
      "[('trump2024', 754), ('calleymadurocae', 265), ('entiranianosevota', 140), ('rebelionylibertad', 117), ('trump', 113), ('antimudpsuv', 104), ('magazolanosfortrump', 81), ('maga', 75), ('biden', 46), ('trump2024tosaveamerica', 46)]\n",
      "Cluster size: 69\n",
      "Avg EC: 0.16560021739130432\n",
      "Max EC:                         Id                  Label  modularity_class  \\\n",
      "157  '1360542971649753089'  '1360542971649753089'                 7   \n",
      "179             '95726181'             '95726181'                 7   \n",
      "\n",
      "     eigencentrality       Size  \n",
      "157         0.347077  18.856369  \n",
      "179         0.347077  18.856369  \n"
     ]
    }
   ],
   "source": [
    "get_top_tags(es_clusters[es_clusters['modularity_class']==7], es_data)"
   ]
  },
  {
   "cell_type": "code",
   "execution_count": 61,
   "id": "e2be4490-2bca-45e8-8b3e-570a155b9a70",
   "metadata": {},
   "outputs": [
    {
     "name": "stdout",
     "output_type": "stream",
     "text": [
      "[('internacional', 1155), ('noticiasalmomento', 359), ('noticias', 184), ('estadosunidos', 172), ('euvzla', 103), ('eeuu', 101), ('biden', 83), ('internacionales', 70), ('donaldtrump', 65), ('nacional', 63)]\n",
      "Cluster size: 67\n",
      "Avg EC: 0.16403810447761194\n",
      "Max EC:                       Id                 Label  modularity_class  \\\n",
      "8            '259876618'           '259876618'                14   \n",
      "15  '759364749897314304'  '759364749897314304'                14   \n",
      "\n",
      "    eigencentrality       Size  \n",
      "8          0.342636  18.794167  \n",
      "15         0.342636  18.794167  \n"
     ]
    }
   ],
   "source": [
    "get_top_tags(es_clusters[es_clusters['modularity_class']==14], es_data)"
   ]
  },
  {
   "cell_type": "code",
   "execution_count": 60,
   "id": "bc1a8719-f146-4715-8a92-f7ca1ca251f5",
   "metadata": {},
   "outputs": [
    {
     "name": "stdout",
     "output_type": "stream",
     "text": [
      "[('internacionales', 958), ('elnuevodiariord', 121), ('peruinformado', 110), ('estadosunidos', 68), ('biden', 63), ('eeuu', 53), ('trump', 38), ('hechosdigital', 37), ('internacional', 37), ('nacionales', 32)]\n",
      "Cluster size: 44\n",
      "Avg EC: 0.2574433409090909\n",
      "Max EC:                Id         Label  modularity_class  eigencentrality       Size\n",
      "115   '168693277'   '168693277'                 1         0.357420  19.001207\n",
      "125  '3279794756'  '3279794756'                 1         0.352432  18.931358\n"
     ]
    }
   ],
   "source": [
    "get_top_tags(es_clusters[es_clusters['modularity_class']==1], es_data)"
   ]
  },
  {
   "cell_type": "markdown",
   "id": "38692b80-dfb2-49f3-8280-2298892ff4d3",
   "metadata": {},
   "source": [
    "#### The biggest cluster has a small Avg EC."
   ]
  },
  {
   "cell_type": "code",
   "execution_count": null,
   "id": "9566c0c8-6f9c-436b-8d57-11b10a62eb46",
   "metadata": {},
   "outputs": [],
   "source": []
  }
 ],
 "metadata": {
  "kernelspec": {
   "display_name": "Python 3 (ipykernel)",
   "language": "python",
   "name": "python3"
  },
  "language_info": {
   "codemirror_mode": {
    "name": "ipython",
    "version": 3
   },
   "file_extension": ".py",
   "mimetype": "text/x-python",
   "name": "python",
   "nbconvert_exporter": "python",
   "pygments_lexer": "ipython3",
   "version": "3.11.7"
  }
 },
 "nbformat": 4,
 "nbformat_minor": 5
}
