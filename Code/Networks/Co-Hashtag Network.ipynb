{
 "cells": [
  {
   "cell_type": "code",
   "execution_count": 5,
   "id": "8998de03-caf3-493e-80f8-7efa775a7199",
   "metadata": {},
   "outputs": [],
   "source": [
    "import pandas as pd\n",
    "import time\n",
    "import ast\n",
    "import pickle\n",
    "import networkx as nx\n",
    "from collections import Counter\n",
    "from collections import defaultdict\n",
    "from sklearn.metrics.pairwise import cosine_similarity\n",
    "from sentence_transformers import SentenceTransformer\n",
    "import numpy as np\n"
   ]
  },
  {
   "cell_type": "code",
   "execution_count": 2,
   "id": "279b65a9-4fc6-40b8-adb8-0ad2184216b0",
   "metadata": {},
   "outputs": [],
   "source": [
    "en_data = pd.read_csv(\"en.csv\")\n",
    "es_data = pd.read_csv(\"es.csv\")"
   ]
  },
  {
   "cell_type": "code",
   "execution_count": 3,
   "id": "55de7c20-767b-4400-8166-ebac326886c9",
   "metadata": {},
   "outputs": [],
   "source": [
    "def convert_format(field):\n",
    "    return ast.literal_eval(field)\n",
    "\n",
    "en_data['hashtags'] = en_data['hashtags'].apply(convert_format)\n",
    "en_data['links'] = en_data['links'].apply(convert_format)\n",
    "en_data['mentionedUsers'] = en_data['mentionedUsers'].apply(convert_format)\n",
    "\n",
    "es_data['hashtags'] = es_data['hashtags'].apply(convert_format)\n",
    "es_data['links'] = es_data['links'].apply(convert_format)\n",
    "es_data['mentionedUsers'] = es_data['mentionedUsers'].apply(convert_format)\n"
   ]
  },
  {
   "cell_type": "markdown",
   "id": "6a34c688-1e32-4a14-8fcb-7b6f7b8194e6",
   "metadata": {},
   "source": [
    "#### 1. Preprocessing"
   ]
  },
  {
   "cell_type": "code",
   "execution_count": 46,
   "id": "fe431804-b0bf-4ab5-80f1-b80dab4b9507",
   "metadata": {},
   "outputs": [],
   "source": [
    "# Filter users with fewer than three hashtags\n",
    "def filter_users_by_hashtags(dataframe):\n",
    "    filtered_data = dataframe.copy()\n",
    "    filtered_data['hashtag_count'] = dataframe['hashtags'].apply(\n",
    "        lambda tags: len(tags) if isinstance(tags, list) else 0\n",
    "    )\n",
    "    filtered_data = filtered_data[filtered_data['hashtag_count'] >= 3]\n",
    "    return filtered_data\n",
    "\n",
    "# Filter English and Spanish datasets\n",
    "en_data_filtered = filter_users_by_hashtags(en_data)\n",
    "es_data_filtered = filter_users_by_hashtags(es_data)\n"
   ]
  },
  {
   "cell_type": "code",
   "execution_count": 47,
   "id": "a7385814-b4cb-4146-8fac-acf1a189da7a",
   "metadata": {},
   "outputs": [
    {
     "data": {
      "text/plain": [
       "(14636, 17)"
      ]
     },
     "execution_count": 47,
     "metadata": {},
     "output_type": "execute_result"
    }
   ],
   "source": [
    "en_data_filtered.shape"
   ]
  },
  {
   "cell_type": "code",
   "execution_count": 48,
   "id": "2bc9b781-d215-4baf-9021-292d307bc901",
   "metadata": {},
   "outputs": [
    {
     "data": {
      "text/plain": [
       "(23104, 17)"
      ]
     },
     "execution_count": 48,
     "metadata": {},
     "output_type": "execute_result"
    }
   ],
   "source": [
    "es_data_filtered.shape"
   ]
  },
  {
   "cell_type": "code",
   "execution_count": 49,
   "id": "f9809ec4-a416-4a32-bc6c-47bd8b438dd4",
   "metadata": {},
   "outputs": [],
   "source": [
    "def extract_hashtag_sequences(dataframe):\n",
    "    hashtag_sequences = {}\n",
    "    for _, row in dataframe.iterrows():\n",
    "        user = row['id_str']\n",
    "        hashtags = row['hashtags']\n",
    "        if isinstance(hashtags, list):\n",
    "            sequence = [tag['text'] for tag in hashtags if 'text' in tag]\n",
    "            hashtag_sequences[user] = sequence\n",
    "    return hashtag_sequences\n",
    "    \n",
    "en_hashtag_sequences = extract_hashtag_sequences(en_data_filtered)\n",
    "es_hashtag_sequences = extract_hashtag_sequences(es_data_filtered)"
   ]
  },
  {
   "cell_type": "code",
   "execution_count": 50,
   "id": "dbfdc61e-cc57-418a-a0ed-579a5564921d",
   "metadata": {},
   "outputs": [
    {
     "name": "stdout",
     "output_type": "stream",
     "text": [
      "11034 users have shared no fewer than 3 hashtags in English data\n"
     ]
    }
   ],
   "source": [
    "print(f\"{len(en_hashtag_sequences)} users have shared no fewer than 3 hashtags in English data\")"
   ]
  },
  {
   "cell_type": "code",
   "execution_count": 51,
   "id": "b6700a82-cc65-47f8-9ebf-a2c342ed9ba3",
   "metadata": {},
   "outputs": [
    {
     "name": "stdout",
     "output_type": "stream",
     "text": [
      "7655 users have shared no fewer than 3 hashtags in Spanish data\n"
     ]
    }
   ],
   "source": [
    "print(f\"{len(es_hashtag_sequences)} users have shared no fewer than 3 hashtags in Spanish data\")"
   ]
  },
  {
   "cell_type": "code",
   "execution_count": 52,
   "id": "11e7c276-dead-494a-b2bd-a2b5186724a4",
   "metadata": {},
   "outputs": [],
   "source": [
    "# Build the Co-Hashtag Network\n",
    "def construct_co_hashtag_network(hashtag_sequences):\n",
    "    G = nx.Graph()\n",
    "    users = list(hashtag_sequences.keys())\n",
    "    \n",
    "    # Compare each pair of users\n",
    "    for i, user1 in enumerate(users):\n",
    "        for j in range(i + 1, len(users)):\n",
    "            user2 = users[j]\n",
    "            if sorted(hashtag_sequences[user1]) == sorted(hashtag_sequences[user2]):  # Identical sequences\n",
    "                G.add_edge(user1, user2)\n",
    "    \n",
    "    return G\n",
    "\n",
    "# Create Co-Hashtag Networks for English and Spanish data\n",
    "en_co_hashtag_graph = construct_co_hashtag_network(en_hashtag_sequences)\n",
    "es_co_hashtag_graph = construct_co_hashtag_network(es_hashtag_sequences)\n",
    "\n"
   ]
  },
  {
   "cell_type": "code",
   "execution_count": 44,
   "id": "394529bd-8ef3-49fd-b314-9f1ba0980210",
   "metadata": {},
   "outputs": [],
   "source": [
    "nx.write_gexf(en_co_hashtag_graph, \"en_co_hashtag_graph.gexf\")"
   ]
  },
  {
   "cell_type": "code",
   "execution_count": 45,
   "id": "1354b9cf-ec8a-48ce-95be-bc4e3810a65d",
   "metadata": {},
   "outputs": [],
   "source": [
    "nx.write_gexf(es_co_hashtag_graph, \"es_co_hashtag_graph.gexf\")"
   ]
  },
  {
   "cell_type": "code",
   "execution_count": null,
   "id": "41592416-a841-4fcf-ae2e-01cc804ca41f",
   "metadata": {},
   "outputs": [],
   "source": []
  }
 ],
 "metadata": {
  "kernelspec": {
   "display_name": "Python 3 (ipykernel)",
   "language": "python",
   "name": "python3"
  },
  "language_info": {
   "codemirror_mode": {
    "name": "ipython",
    "version": 3
   },
   "file_extension": ".py",
   "mimetype": "text/x-python",
   "name": "python",
   "nbconvert_exporter": "python",
   "pygments_lexer": "ipython3",
   "version": "3.11.7"
  }
 },
 "nbformat": 4,
 "nbformat_minor": 5
}
