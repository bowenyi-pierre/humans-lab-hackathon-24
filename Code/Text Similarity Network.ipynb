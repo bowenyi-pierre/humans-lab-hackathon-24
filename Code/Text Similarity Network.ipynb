{
 "cells": [
  {
   "cell_type": "code",
   "execution_count": 1,
   "id": "bfb2729c-b303-4b22-ad12-5713ff1b107b",
   "metadata": {},
   "outputs": [],
   "source": [
    "import torch\n",
    "import pandas as pd\n",
    "import time\n",
    "import ast\n",
    "device = 'cuda' if torch.cuda.is_available() else 'cpu'"
   ]
  },
  {
   "cell_type": "code",
   "execution_count": 2,
   "id": "de0114ff-44a3-48b0-890a-ca56ba83d313",
   "metadata": {},
   "outputs": [],
   "source": [
    "import pickle\n",
    "from nltk.corpus import stopwords\n",
    "from nltk.tokenize import word_tokenize\n",
    "import re\n",
    "import nltk\n",
    "nltk.download('stopwords')\n",
    "nltk.download('punkt')\n",
    "stop_words = set(stopwords.words('english') + stopwords.words('spanish'))\n"
   ]
  },
  {
   "cell_type": "code",
   "execution_count": 37,
   "id": "5ca7daef-adbd-415f-9c43-6c02ed5beaf6",
   "metadata": {},
   "outputs": [],
   "source": [
    "import string"
   ]
  },
  {
   "cell_type": "code",
   "execution_count": 3,
   "id": "7723c716-6fb2-4f70-a242-6c55abe6f632",
   "metadata": {},
   "outputs": [
    {
     "name": "stderr",
     "output_type": "stream",
     "text": [
      "/home/bowenyi/.local/lib/python3.11/site-packages/sentence_transformers/cross_encoder/CrossEncoder.py:13: TqdmExperimentalWarning: Using `tqdm.autonotebook.tqdm` in notebook mode. Use `tqdm.tqdm` instead to force console mode (e.g. in jupyter console)\n",
      "  from tqdm.autonotebook import tqdm, trange\n"
     ]
    }
   ],
   "source": [
    "import networkx as nx\n",
    "from collections import defaultdict\n",
    "from sklearn.metrics.pairwise import cosine_similarity\n",
    "from sentence_transformers import SentenceTransformer\n",
    "import numpy as np\n"
   ]
  },
  {
   "cell_type": "code",
   "execution_count": 4,
   "id": "e2d55cff-abe8-47ba-87a0-b6e8f1455d76",
   "metadata": {},
   "outputs": [],
   "source": [
    "en_data = pd.read_csv(\"en.csv\")"
   ]
  },
  {
   "cell_type": "code",
   "execution_count": 5,
   "id": "421b595f-8afd-4856-b160-91e4b2d8afc3",
   "metadata": {},
   "outputs": [],
   "source": [
    "es_data = pd.read_csv(\"es.csv\")"
   ]
  },
  {
   "cell_type": "code",
   "execution_count": 6,
   "id": "ff609fe3-a700-4653-b5cf-cb43246c3b6b",
   "metadata": {},
   "outputs": [
    {
     "data": {
      "text/plain": [
       "Index(['id', 'text', 'lang', 'epoch', 'hashtags', 'links', 'replyCount',\n",
       "       'retweetCount', 'likeCount', 'quoteCount', 'conversationId',\n",
       "       'mentionedUsers', 'id_str', 'followersCount', 'friendsCount',\n",
       "       'statusesCount'],\n",
       "      dtype='object')"
      ]
     },
     "execution_count": 6,
     "metadata": {},
     "output_type": "execute_result"
    }
   ],
   "source": [
    "en_data.columns"
   ]
  },
  {
   "cell_type": "code",
   "execution_count": 7,
   "id": "15e191c6-a1a8-4a2e-bbf4-5102edc02587",
   "metadata": {},
   "outputs": [],
   "source": [
    "def convert_format(field):\n",
    "    return ast.literal_eval(field)\n",
    "\n",
    "en_data['hashtags'] = en_data['hashtags'].apply(convert_format)\n",
    "en_data['links'] = en_data['links'].apply(convert_format)\n",
    "en_data['mentionedUsers'] = en_data['mentionedUsers'].apply(convert_format)\n",
    "\n",
    "es_data['hashtags'] = es_data['hashtags'].apply(convert_format)\n",
    "es_data['links'] = es_data['links'].apply(convert_format)\n",
    "es_data['mentionedUsers'] = es_data['mentionedUsers'].apply(convert_format)\n"
   ]
  },
  {
   "cell_type": "markdown",
   "id": "1e73432c-927b-4e21-8832-bcf37b57d255",
   "metadata": {},
   "source": [
    "#### To decrease the runtime, plan to filter out users that have shared fewer than 10 tweets"
   ]
  },
  {
   "cell_type": "code",
   "execution_count": 30,
   "id": "71a6d348-5a0e-4859-b81f-970b66145721",
   "metadata": {},
   "outputs": [
    {
     "name": "stdout",
     "output_type": "stream",
     "text": [
      "Number of users with more than 10 tweets in Spanish: 4773\n",
      "Number of users with more than 10 tweets in English: 2162\n"
     ]
    }
   ],
   "source": [
    "# Text\n",
    "es_text_map = es_data.groupby('id_str')['text'].apply(list)\n",
    "en_text_map = en_data.groupby('id_str')['text'].apply(list)\n",
    "\n",
    "es_10_tweet = sum(len(texts) >= 10 for texts in es_text_map)\n",
    "en_10_tweet = sum(len(texts) >= 10 for texts in en_text_map)\n",
    "print(f\"Number of users with more than 10 tweets in Spanish: {es_10_tweet}\")\n",
    "print(f\"Number of users with more than 10 tweets in English: {en_10_tweet}\")\n"
   ]
  },
  {
   "cell_type": "markdown",
   "id": "89dfa782-9348-4ad0-9d49-f267525b3bab",
   "metadata": {},
   "source": [
    "### Text similarity network construction"
   ]
  },
  {
   "cell_type": "markdown",
   "id": "d0e4b1aa-786a-4a67-a067-1be563ed75be",
   "metadata": {},
   "source": [
    "#### 1. Cleaning text"
   ]
  },
  {
   "cell_type": "code",
   "execution_count": 33,
   "id": "15180798-15e6-42bd-b5f7-b5b07c04e839",
   "metadata": {},
   "outputs": [],
   "source": [
    "def clean_text(text):\n",
    "    # Remove URLs\n",
    "    text = re.sub(r\"http\\S+|www\\S+|https\\S+\", \"\", text, flags=re.MULTILINE)\n",
    "    # Remove punctuation\n",
    "    text = text.translate(str.maketrans(\"\", \"\", string.punctuation))\n",
    "    # Remove emojis\n",
    "    text = text.encode(\"ascii\", \"ignore\").decode(\"utf-8\")\n",
    "    # Tokenize and remove stopwords\n",
    "    words = word_tokenize(text.lower())\n",
    "    words = [word for word in words if word not in stop_words]\n",
    "\n",
    "    return \" \".join(words)\n",
    "    "
   ]
  },
  {
   "cell_type": "markdown",
   "id": "02b09a0c-978b-42ef-8ddf-7a73ac061f73",
   "metadata": {},
   "source": [
    "#### 2. Network construction"
   ]
  },
  {
   "cell_type": "code",
   "execution_count": 28,
   "id": "af9864cf-8a10-4bd4-bc68-19b7d3a2864d",
   "metadata": {},
   "outputs": [
    {
     "name": "stderr",
     "output_type": "stream",
     "text": [
      "/home/bowenyi/.local/lib/python3.11/site-packages/huggingface_hub/file_download.py:1132: FutureWarning: `resume_download` is deprecated and will be removed in version 1.0.0. Downloads always resume when possible. If you want to force a new download, use `force_download=True`.\n",
      "  warnings.warn(\n"
     ]
    }
   ],
   "source": [
    "model = SentenceTransformer(\"paraphrase-multilingual-MiniLM-L12-v2\").to(device)"
   ]
  },
  {
   "cell_type": "code",
   "execution_count": 31,
   "id": "76f53342-722a-45c2-9e3e-a916669192e9",
   "metadata": {},
   "outputs": [],
   "source": [
    "# English only\n",
    "def construct_text_similarity_network_en(dataframe, threshold=0.7):\n",
    "    # Step 1: Clean the text column\n",
    "    dataframe['cleaned_text'] = dataframe['text'].apply(clean_text)\n",
    "    \n",
    "    # Step 2: Filter out tweets with fewer than 4 words\n",
    "    dataframe = dataframe[dataframe['cleaned_text'].apply(lambda x: len(x.split()) >= 4)]\n",
    "    \n",
    "    # Step 3: Group tweets by user\n",
    "    user_text_map = dataframe.groupby('id_str')['cleaned_text'].apply(list)\n",
    "    user_text_map = {user: texts for user, texts in user_text_map.items() if len(texts) >= 10}\n",
    "\n",
    "    # Step 4: Generate embeddings for each user\n",
    "    user_embeddings = {}\n",
    "    for i, (user, texts) in enumerate(user_text_map.items()):\n",
    "        # Encode all texts for the user\n",
    "        embeddings = model.encode(texts, device='cuda', batch_size=64)\n",
    "        # Average embeddings to get a single user-level vector\n",
    "        user_embeddings[user] = np.mean(embeddings, axis=0)\n",
    "\n",
    "    # Step 5: Compute cosine similarity matrix\n",
    "    user_ids = list(user_embeddings.keys())\n",
    "    user_vectors = np.array(list(user_embeddings.values()))\n",
    "    similarity_matrix = cosine_similarity(user_vectors)\n",
    "\n",
    "    # Step 6: Build the user-user similarity graph\n",
    "    G = nx.Graph()\n",
    "    for i, user1 in enumerate(user_ids):\n",
    "        for j, user2 in enumerate(user_ids):\n",
    "            if i != j and similarity_matrix[i, j] > threshold:\n",
    "                G.add_edge(user1, user2, weight=similarity_matrix[i, j])\n",
    "\n",
    "    return G"
   ]
  },
  {
   "cell_type": "code",
   "execution_count": 38,
   "id": "6a09b1da-9cd3-4add-a511-0e5f3cdb4b9e",
   "metadata": {},
   "outputs": [],
   "source": [
    "en_text_graph = construct_text_similarity_network_en(en_data)\n"
   ]
  },
  {
   "cell_type": "code",
   "execution_count": 44,
   "id": "5b9ddacf-ed39-4b9b-85ae-7f070269b11e",
   "metadata": {},
   "outputs": [
    {
     "data": {
      "text/plain": [
       "312579"
      ]
     },
     "execution_count": 44,
     "metadata": {},
     "output_type": "execute_result"
    }
   ],
   "source": [
    "en_text_graph.size()"
   ]
  },
  {
   "cell_type": "code",
   "execution_count": 41,
   "id": "ffbacf54-6908-4aec-b323-341173aaa7c8",
   "metadata": {},
   "outputs": [
    {
     "data": {
      "image/png": "[encoded data removed]",
      "text/plain": [
       "<Figure size 640x480 with 1 Axes>"
      ]
     },
     "metadata": {},
     "output_type": "display_data"
    }
   ],
   "source": [
    "nx.draw(en_text_graph)"
   ]
  },
  {
   "cell_type": "code",
   "execution_count": 42,
   "id": "048e54b7-9cff-493a-9c3f-3d6bbc6271ea",
   "metadata": {},
   "outputs": [],
   "source": [
    "pickle.dump(en_text_graph, open('en_text_graph.gpickle', 'wb'))\n",
    "\n"
   ]
  },
  {
   "cell_type": "code",
   "execution_count": 43,
   "id": "1c44ab80-3aff-4361-887c-4ee3e18596f1",
   "metadata": {},
   "outputs": [
    {
     "data": {
      "text/plain": [
       "4633115"
      ]
     },
     "execution_count": 43,
     "metadata": {},
     "output_type": "execute_result"
    }
   ],
   "source": [
    "es_text_graph = construct_text_similarity_network_en(es_data)\n",
    "es_text_graph.size()"
   ]
  },
  {
   "cell_type": "markdown",
   "id": "4f622565-77fb-40b4-afc7-c8f58051a969",
   "metadata": {},
   "source": [
    "#### Note that a similarity threshold = 0.7 results in a giant graph with 4 million nodes for Spanish data. Will set a higher the threshold below"
   ]
  },
  {
   "cell_type": "code",
   "execution_count": 46,
   "id": "a8feed09-4cb7-4aa4-9071-a10c4e1b92b7",
   "metadata": {},
   "outputs": [],
   "source": [
    "# English only\n",
    "def construct_text_similarity_network_es(dataframe, threshold=0.85):\n",
    "    # Step 1: Clean the text column\n",
    "    dataframe['cleaned_text'] = dataframe['text'].apply(clean_text)\n",
    "    \n",
    "    # Step 2: Filter out tweets with fewer than 4 words\n",
    "    dataframe = dataframe[dataframe['cleaned_text'].apply(lambda x: len(x.split()) >= 4)]\n",
    "    \n",
    "    # Step 3: Group tweets by user\n",
    "    user_text_map = dataframe.groupby('id_str')['cleaned_text'].apply(list)\n",
    "    user_text_map = {user: texts for user, texts in user_text_map.items() if len(texts) >= 10}\n",
    "\n",
    "    # Step 4: Generate embeddings for each user\n",
    "    user_embeddings = {}\n",
    "    for i, (user, texts) in enumerate(user_text_map.items()):\n",
    "        # Encode all texts for the user\n",
    "        embeddings = model.encode(texts, device='cuda', batch_size=64)\n",
    "        # Average embeddings to get a single user-level vector\n",
    "        user_embeddings[user] = np.mean(embeddings, axis=0)\n",
    "\n",
    "    # Step 5: Compute cosine similarity matrix\n",
    "    user_ids = list(user_embeddings.keys())\n",
    "    user_vectors = np.array(list(user_embeddings.values()))\n",
    "    similarity_matrix = cosine_similarity(user_vectors)\n",
    "\n",
    "    # Step 6: Build the user-user similarity graph\n",
    "    G = nx.Graph()\n",
    "    for i, user1 in enumerate(user_ids):\n",
    "        for j, user2 in enumerate(user_ids):\n",
    "            if i != j and similarity_matrix[i, j] > threshold:\n",
    "                G.add_edge(user1, user2, weight=similarity_matrix[i, j])\n",
    "\n",
    "    return G"
   ]
  },
  {
   "cell_type": "code",
   "execution_count": 47,
   "id": "52ab4dab-b1ef-4c0f-984b-a02e72dc0204",
   "metadata": {},
   "outputs": [
    {
     "data": {
      "text/plain": [
       "827789"
      ]
     },
     "execution_count": 47,
     "metadata": {},
     "output_type": "execute_result"
    }
   ],
   "source": [
    "es_text_graph = construct_text_similarity_network_es(es_data)\n",
    "es_text_graph.size()"
   ]
  },
  {
   "cell_type": "code",
   "execution_count": 48,
   "id": "1447b2b9-73d0-4f77-b4ec-201090ecf24a",
   "metadata": {},
   "outputs": [],
   "source": [
    "pickle.dump(es_text_graph, open('es_text_graph.gpickle', 'wb'))"
   ]
  },
  {
   "cell_type": "markdown",
   "id": "06d1cdd2-103c-401f-ab5e-9d7925b09216",
   "metadata": {},
   "source": [
    "#### 3. Community detection "
   ]
  },
  {
   "cell_type": "code",
   "execution_count": 53,
   "id": "39d40da4-8f94-4c1c-8913-c3408dc0ba51",
   "metadata": {},
   "outputs": [],
   "source": [
    "from community import community_louvain\n",
    "\n",
    "def cluster_graph(graph):\n",
    "    # Apply Louvain clustering\n",
    "    partition = community_louvain.best_partition(graph)\n",
    "    nx.set_node_attributes(graph, partition, \"community\")\n",
    "    return partition\n",
    "\n",
    "# Cluster the networks\n",
    "en_clusters = cluster_graph(en_text_graph)\n",
    "es_clusters = cluster_graph(es_text_graph)\n",
    "\n",
    "# Save cluster information\n",
    "en_clusters_df = pd.DataFrame.from_dict(en_clusters, orient='index', columns=['community'])\n",
    "es_clusters_df = pd.DataFrame.from_dict(es_clusters, orient='index', columns=['community'])\n"
   ]
  },
  {
   "cell_type": "code",
   "execution_count": 57,
   "id": "b8105af1-a924-4b52-8d3d-eab1e3321969",
   "metadata": {},
   "outputs": [
    {
     "data": {
      "text/html": [
       "<div>\n",
       "<style scoped>\n",
       "    .dataframe tbody tr th:only-of-type {\n",
       "        vertical-align: middle;\n",
       "    }\n",
       "\n",
       "    .dataframe tbody tr th {\n",
       "        vertical-align: top;\n",
       "    }\n",
       "\n",
       "    .dataframe thead th {\n",
       "        text-align: right;\n",
       "    }\n",
       "</style>\n",
       "<table border=\"1\" class=\"dataframe\">\n",
       "  <thead>\n",
       "    <tr style=\"text-align: right;\">\n",
       "      <th></th>\n",
       "      <th>community</th>\n",
       "    </tr>\n",
       "  </thead>\n",
       "  <tbody>\n",
       "    <tr>\n",
       "      <th>'1001490667338682368'</th>\n",
       "      <td>0</td>\n",
       "    </tr>\n",
       "    <tr>\n",
       "      <th>'100838706'</th>\n",
       "      <td>1</td>\n",
       "    </tr>\n",
       "    <tr>\n",
       "      <th>'1015829495616434176'</th>\n",
       "      <td>1</td>\n",
       "    </tr>\n",
       "    <tr>\n",
       "      <th>'1017815060419407877'</th>\n",
       "      <td>1</td>\n",
       "    </tr>\n",
       "    <tr>\n",
       "      <th>'1018723330063458304'</th>\n",
       "      <td>1</td>\n",
       "    </tr>\n",
       "    <tr>\n",
       "      <th>'1021382089059590144'</th>\n",
       "      <td>2</td>\n",
       "    </tr>\n",
       "    <tr>\n",
       "      <th>'1024424468742131713'</th>\n",
       "      <td>0</td>\n",
       "    </tr>\n",
       "    <tr>\n",
       "      <th>'1032434966934814721'</th>\n",
       "      <td>1</td>\n",
       "    </tr>\n",
       "    <tr>\n",
       "      <th>'1034480445960925184'</th>\n",
       "      <td>2</td>\n",
       "    </tr>\n",
       "    <tr>\n",
       "      <th>'1039936018366058499'</th>\n",
       "      <td>0</td>\n",
       "    </tr>\n",
       "  </tbody>\n",
       "</table>\n",
       "</div>"
      ],
      "text/plain": [
       "                       community\n",
       "'1001490667338682368'          0\n",
       "'100838706'                    1\n",
       "'1015829495616434176'          1\n",
       "'1017815060419407877'          1\n",
       "'1018723330063458304'          1\n",
       "'1021382089059590144'          2\n",
       "'1024424468742131713'          0\n",
       "'1032434966934814721'          1\n",
       "'1034480445960925184'          2\n",
       "'1039936018366058499'          0"
      ]
     },
     "execution_count": 57,
     "metadata": {},
     "output_type": "execute_result"
    }
   ],
   "source": [
    "en_clusters_df.head(10)"
   ]
  },
  {
   "cell_type": "code",
   "execution_count": 58,
   "id": "2c68dbb1-54ea-48f4-9150-75eb7fbda299",
   "metadata": {},
   "outputs": [],
   "source": [
    "en_clusters_df.to_csv(\"en_text_sim_clusters_tfidf.csv\")\n",
    "es_clusters_df.to_csv(\"es_text_sim_clusters_tfidf.csv\")"
   ]
  },
  {
   "cell_type": "code",
   "execution_count": null,
   "id": "8aede7dc-5a9b-4905-858a-85c2350b5521",
   "metadata": {},
   "outputs": [],
   "source": []
  }
 ],
 "metadata": {
  "kernelspec": {
   "display_name": "Python 3 (ipykernel)",
   "language": "python",
   "name": "python3"
  },
  "language_info": {
   "codemirror_mode": {
    "name": "ipython",
    "version": 3
   },
   "file_extension": ".py",
   "mimetype": "text/x-python",
   "name": "python",
   "nbconvert_exporter": "python",
   "pygments_lexer": "ipython3",
   "version": "3.11.7"
  }
 },
 "nbformat": 4,
 "nbformat_minor": 5
}
