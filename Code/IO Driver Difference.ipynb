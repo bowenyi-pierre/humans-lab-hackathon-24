{
 "cells": [
  {
   "cell_type": "code",
   "execution_count": 1,
   "id": "80c954ed-6ce6-4e78-ba02-b76bf8dc6045",
   "metadata": {},
   "outputs": [],
   "source": [
    "import torch\n",
    "import pandas as pd\n",
    "device = 'cuda' if torch.cuda.is_available() else 'cpu'\n",
    "import networkx as nx\n",
    "import ast"
   ]
  },
  {
   "cell_type": "code",
   "execution_count": 2,
   "id": "aec4037e-7421-43dc-8626-93262300fd2f",
   "metadata": {},
   "outputs": [],
   "source": [
    "en_data = pd.read_csv('en_sent.csv')\n",
    "es_data = pd.read_csv('es_sent.csv')"
   ]
  },
  {
   "cell_type": "code",
   "execution_count": 3,
   "id": "b931916c-f309-4a71-a10e-8bff079fb196",
   "metadata": {},
   "outputs": [],
   "source": [
    "def convert_format(field):\n",
    "    return ast.literal_eval(field)\n",
    "\n",
    "en_data['hashtags'] = en_data['hashtags'].apply(convert_format)\n",
    "en_data['links'] = en_data['links'].apply(convert_format)\n",
    "en_data['mentionedUsers'] = en_data['mentionedUsers'].apply(convert_format)\n",
    "\n",
    "es_data['hashtags'] = es_data['hashtags'].apply(convert_format)\n",
    "es_data['links'] = es_data['links'].apply(convert_format)\n",
    "es_data['mentionedUsers'] = es_data['mentionedUsers'].apply(convert_format)\n"
   ]
  },
  {
   "cell_type": "markdown",
   "id": "202ca64a-6913-4fcf-8765-00181ac88fa6",
   "metadata": {},
   "source": [
    "### 1. Detecting IO Drivers"
   ]
  },
  {
   "cell_type": "code",
   "execution_count": 4,
   "id": "dfb48ad2-ba87-44d9-b553-2e2ca7559fa2",
   "metadata": {},
   "outputs": [],
   "source": [
    "en_network = pd.read_csv(\"en_fused_nothing.csv\")"
   ]
  },
  {
   "cell_type": "code",
   "execution_count": 5,
   "id": "0a0d8b94-1771-4512-894d-9254b32ee793",
   "metadata": {},
   "outputs": [],
   "source": [
    "es_network = pd.read_csv(\"es_low_weight_filtered.csv\")"
   ]
  },
  {
   "cell_type": "code",
   "execution_count": 6,
   "id": "0bb81cad-584d-46ad-864b-94d32090669d",
   "metadata": {},
   "outputs": [],
   "source": [
    "top_3_percent_en = int(en_network.shape[0] * 0.03)\n",
    "top_5_percent_es = int(es_network.shape[0] * 0.05)\n",
    "\n",
    "# Get the top 5% nodes by eigencentrality\n",
    "io_drivers_en = en_network.sort_values(by='eigencentrality', ascending=False).head(top_3_percent_en)\n",
    "io_drivers_es = es_network.sort_values(by='eigencentrality', ascending=False).head(top_5_percent_es)\n"
   ]
  },
  {
   "cell_type": "code",
   "execution_count": 7,
   "id": "fd93c67f-489b-474f-827c-69b6e59c93e2",
   "metadata": {},
   "outputs": [
    {
     "data": {
      "text/plain": [
       "(72, 5)"
      ]
     },
     "execution_count": 7,
     "metadata": {},
     "output_type": "execute_result"
    }
   ],
   "source": [
    "io_drivers_en.shape"
   ]
  },
  {
   "cell_type": "code",
   "execution_count": 8,
   "id": "4d293fd1-7676-4278-a8b4-e891d8420c31",
   "metadata": {},
   "outputs": [
    {
     "data": {
      "text/plain": [
       "(61, 5)"
      ]
     },
     "execution_count": 8,
     "metadata": {},
     "output_type": "execute_result"
    }
   ],
   "source": [
    "io_drivers_es.shape"
   ]
  },
  {
   "cell_type": "markdown",
   "id": "485da314-9ddb-4467-a628-30bfdd92c6ba",
   "metadata": {},
   "source": [
    "### 2. Behavioral Analysis"
   ]
  },
  {
   "cell_type": "markdown",
   "id": "cfd74377-eeb4-45db-8e19-c65f8c4ba7d8",
   "metadata": {},
   "source": [
    "#### 2.1 Basic Stats: common domain, hashtags"
   ]
  },
  {
   "cell_type": "code",
   "execution_count": 30,
   "id": "4f949b12-6bf1-4af5-94ca-3f591522718c",
   "metadata": {},
   "outputs": [],
   "source": [
    "from collections import Counter\n",
    "\n",
    "def get_top_tags(df, data):\n",
    "    \"\"\"\n",
    "    Prints the 10 most common tags in a cluster of nodes.\n",
    "\n",
    "    Parameters:\n",
    "    - df: DataFrame representing the cluster, containing user IDs in the 'Id' column.\n",
    "    - data: DataFrame containing the raw tweet data for the respective language.\n",
    "    \"\"\"\n",
    "    tags = []\n",
    "\n",
    "    # Iterate over each user in the cluster\n",
    "    for i, r in df.iterrows():\n",
    "        user = r['Id'] \n",
    "        user_data = data[data['id_str'] == user] \n",
    "        \n",
    "        for _, row in user_data.iterrows():\n",
    "            hashtags = row['hashtags']\n",
    "            if isinstance(hashtags, list):\n",
    "                for tag in hashtags:\n",
    "                    if 'text' in tag:\n",
    "                        tags.append(tag['text'].lower())\n",
    "\n",
    "    print(Counter(tags).most_common(10))\n",
    "    print(f\"Cluster size: {df.shape[0]}\")\n",
    "    print(f\"Avg EC: {df['eigencentrality'].mean()}\")\n",
    "    print(f\"Max EC: {df.sort_values(by='eigencentrality', ascending=False).head(2)}\")\n"
   ]
  },
  {
   "cell_type": "code",
   "execution_count": 32,
   "id": "7d84b874-02ad-4e7f-92ff-e7f70d4804bc",
   "metadata": {},
   "outputs": [
    {
     "name": "stdout",
     "output_type": "stream",
     "text": [
      "[('trump2024', 317), ('biden', 61), ('trump', 49), ('breakingnews', 45), ('nahbabynah', 29), ('fnc', 22), ('jokes', 22), ('politics', 20), ('maga', 19), ('2024election', 17)]\n",
      "Cluster size: 72\n",
      "Avg EC: 0.6930036527777779\n",
      "Max EC:              Id       Label  modularity_class  eigencentrality  Size\n",
      "163  '14662354'  '14662354'                 6         1.000000    10\n",
      "190  '25046283'  '25046283'                 6         0.997057    10\n"
     ]
    }
   ],
   "source": [
    "get_top_tags(io_drivers_en, en_data)"
   ]
  },
  {
   "cell_type": "code",
   "execution_count": 33,
   "id": "94947fed-9fb9-4376-bfa9-03cfad226e39",
   "metadata": {},
   "outputs": [
    {
     "name": "stdout",
     "output_type": "stream",
     "text": [
      "[('últimahora', 213), ('eu', 159), ('esnoticia', 71), ('trump', 68), ('debate2024', 62), ('opinión', 47), ('elfinancierotv', 46), ('envivo', 39), ('entérate', 37), ('biden', 36)]\n",
      "Cluster size: 61\n",
      "Avg EC: 0.6726103114754097\n",
      "Max EC:              Id        Label  modularity_class  eigencentrality  Size\n",
      "14   '16676396'   '16676396'                 5         1.000000    10\n",
      "41  '520653311'  '520653311'                 8         0.984783    10\n"
     ]
    }
   ],
   "source": [
    "get_top_tags(io_drivers_es, es_data)"
   ]
  },
  {
   "cell_type": "code",
   "execution_count": 38,
   "id": "63cc73cf-4f05-4d43-a8b2-bafb5bfb8fd9",
   "metadata": {},
   "outputs": [],
   "source": [
    "# Overly general domains to exclude\n",
    "en_exclude_domains = [\"youtu.be\", \"x.com\", \"youtube.com\", \"dlvr.it\", \"trib.al\", \"ift.tt\", \"tiktok.com\", \"bit.ly\", \"yahoo.com\"]\n",
    "es_exclude_domains = [\"dlvr.it\", \"youtu.be\", \"youtube.com\", \"x.com\", \"bit.ly\", \"buff.ly\", \"ift.tt\", \"ow.ly\", \"tinyurl.com\", \"short.gy\", \"trib.al\", \"acortar.link\", \"uni.vi\"]\n",
    "import tldextract\n",
    "\n",
    "def extract_base_domain(url):\n",
    "    extracted = tldextract.extract(url)\n",
    "    return f\"{extracted.domain}.{extracted.suffix}\"\n",
    "\n",
    "\n",
    "def get_top_domains(df, data, exclude_domains):\n",
    "    \"\"\"\n",
    "    Prints the 20 most common domains in a cluster of nodes.\n",
    "\n",
    "    Parameters:\n",
    "    - df: DataFrame representing the cluster, containing user IDs in the 'Id' column.\n",
    "    - data: DataFrame ('en' or 'es' data) containing the raw tweet data for the respective language.\n",
    "    - exclude_domains: List of domains to exclude from counting.\n",
    "    \"\"\"\n",
    "    domains = []\n",
    "\n",
    "    # Iterate over each user in the cluster\n",
    "    for i, r in df.iterrows():\n",
    "        user = r['Id'] \n",
    "        user_data = data[data['id_str'] == user] \n",
    "        \n",
    "        for _, row in user_data.iterrows():\n",
    "            urls = row['links']\n",
    "            if isinstance(urls, list):\n",
    "                for url in urls:\n",
    "                    if (\n",
    "                        isinstance(url, dict) and \n",
    "                        'expanded_url' in url and \n",
    "                        len(url['expanded_url']) > 0\n",
    "                    ):\n",
    "                        base_domain = extract_base_domain(url['expanded_url'])\n",
    "                        if base_domain not in exclude_domains:\n",
    "                            domains.append(base_domain)\n",
    "\n",
    "    print(Counter(domains).most_common(20))\n",
    "    print(f\"Cluster size: {df.shape[0]}\")\n",
    "    print(f\"Avg EC: {df['eigencentrality'].mean()}\")\n",
    "    print(f\"Max EC: {df.sort_values(by='eigencentrality', ascending=False).head(2)}\")\n"
   ]
  },
  {
   "cell_type": "code",
   "execution_count": 39,
   "id": "ecf99cf4-d2f1-430a-9515-11c66ea4b95f",
   "metadata": {},
   "outputs": [
    {
     "name": "stdout",
     "output_type": "stream",
     "text": [
      "[('breitbart.com', 82), ('rawstory.com', 63), ('newsweek.com', 46), ('washingtontimes.com', 38), ('foxnews.com', 34), ('mediaite.com', 24), ('usatoday.com', 22), ('newsmax.com', 21), ('nypost.com', 20), ('dailymail.co.uk', 19), ('washingtonexaminer.com', 19), ('conservativebrief.com', 19), ('thepostmillennial.com', 18), ('ow.ly', 17), ('newsbreak.com', 17), ('shr.lc', 14), ('apple.news', 13), ('dailycaller.com', 11), ('google.com', 11), ('tiny.cc', 10)]\n",
      "Cluster size: 72\n",
      "Avg EC: 0.6930036527777779\n",
      "Max EC:              Id       Label  modularity_class  eigencentrality  Size\n",
      "163  '14662354'  '14662354'                 6         1.000000    10\n",
      "190  '25046283'  '25046283'                 6         0.997057    10\n"
     ]
    }
   ],
   "source": [
    "get_top_domains(io_drivers_en, en_data, en_exclude_domains)"
   ]
  },
  {
   "cell_type": "code",
   "execution_count": 40,
   "id": "96828b29-2af3-4abf-ba55-f9f0719505cb",
   "metadata": {},
   "outputs": [
    {
     "name": "stdout",
     "output_type": "stream",
     "text": [
      "[('infobae.com', 510), ('cnn.it', 444), ('ntn24.com', 313), ('efe.com', 293), ('lopezdoriga.com', 271), ('reforma.com', 270), ('eluniversal.com.mx', 229), ('acento.com.do', 200), ('mldiario.com', 192), ('gaceta.es', 185), ('rtve.es', 184), ('sinembargo.mx', 177), ('excelsior.com.mx', 174), ('notigram.com', 173), ('bitlyanews.com', 164), ('huffingtonpost.es', 153), ('esrt.site', 147), ('dozz.es', 131), ('clarin.com', 128), ('ver.tw', 124)]\n",
      "Cluster size: 61\n",
      "Avg EC: 0.6726103114754097\n",
      "Max EC:              Id        Label  modularity_class  eigencentrality  Size\n",
      "14   '16676396'   '16676396'                 5         1.000000    10\n",
      "41  '520653311'  '520653311'                 8         0.984783    10\n"
     ]
    }
   ],
   "source": [
    "get_top_domains(io_drivers_es, es_data, es_exclude_domains)"
   ]
  },
  {
   "cell_type": "markdown",
   "id": "0407fd6c-cec1-4580-9e43-ac410447d564",
   "metadata": {},
   "source": [
    "#### 2.2 engagement indicators (average amount of likes, retweets, replies)"
   ]
  },
  {
   "cell_type": "code",
   "execution_count": 9,
   "id": "d4d39c14-0cf9-4232-b715-84350791ba85",
   "metadata": {},
   "outputs": [],
   "source": [
    "def get_engagement_stats(df, data):\n",
    "    \"\"\"\n",
    "    Calculates and prints the average count of likes, retweets, replies, and quotes.\n",
    "\n",
    "    Parameters:\n",
    "    - df: DataFrame representing the cluster, containing user IDs in the 'Id' column.\n",
    "    - data: DataFrame containing the raw tweet data for the respective language.\n",
    "    \"\"\"\n",
    "    likes = []\n",
    "    quotes = []\n",
    "    replies = []\n",
    "    retweets = []\n",
    "\n",
    "    # Iterate over each user in the cluster\n",
    "    for i, r in df.iterrows():\n",
    "        user = r['Id'] \n",
    "        user_data = data[data['id_str'] == user] \n",
    "        \n",
    "        for _, row in user_data.iterrows():\n",
    "            likes.append(row['likeCount'])\n",
    "            retweets.append(row['retweetCount'])\n",
    "            replies.append(row['replyCount'])\n",
    "            quotes.append(row['quoteCount'])\n",
    "\n",
    "    # Calculate averages\n",
    "    avg_likes = sum(likes) / len(likes) if likes else 0\n",
    "    avg_retweets = sum(retweets) / len(retweets) if retweets else 0\n",
    "    avg_replies = sum(replies) / len(replies) if replies else 0\n",
    "    avg_quotes = sum(quotes) / len(quotes) if quotes else 0\n",
    "\n",
    "    # Print results\n",
    "    print(\"Average Engagement Statistics:\")\n",
    "    print(f\"Likes: {avg_likes:.2f}\")\n",
    "    print(f\"Retweets: {avg_retweets:.2f}\")\n",
    "    print(f\"Replies: {avg_replies:.2f}\")\n",
    "    print(f\"Quotes: {avg_quotes:.2f}\")\n"
   ]
  },
  {
   "cell_type": "code",
   "execution_count": 10,
   "id": "bbcafa7b-2b2d-49d8-bf9b-ab608644e727",
   "metadata": {},
   "outputs": [
    {
     "name": "stdout",
     "output_type": "stream",
     "text": [
      "Average Engagement Statistics:\n",
      "Likes: 28.77\n",
      "Retweets: 7.28\n",
      "Replies: 6.32\n",
      "Quotes: 0.67\n"
     ]
    }
   ],
   "source": [
    "get_engagement_stats(io_drivers_en, en_data)"
   ]
  },
  {
   "cell_type": "code",
   "execution_count": 11,
   "id": "14aad54a-2710-4624-98ef-77b72f05ae0c",
   "metadata": {},
   "outputs": [
    {
     "name": "stdout",
     "output_type": "stream",
     "text": [
      "Average Engagement Statistics:\n",
      "Likes: 28.37\n",
      "Retweets: 8.56\n",
      "Replies: 5.33\n",
      "Quotes: 1.05\n"
     ]
    }
   ],
   "source": [
    "get_engagement_stats(io_drivers_es, es_data)"
   ]
  },
  {
   "cell_type": "markdown",
   "id": "bc38287f-786f-4ebe-9764-0337cb9106e9",
   "metadata": {},
   "source": [
    "#### 2.3 Temporal topical shift"
   ]
  },
  {
   "cell_type": "code",
   "execution_count": 25,
   "id": "9f53eaa5-d0d3-44ba-a44a-b2dcba7bc0a5",
   "metadata": {},
   "outputs": [
    {
     "name": "stderr",
     "output_type": "stream",
     "text": [
      "[nltk_data] Downloading package stopwords to\n",
      "[nltk_data]     /home/bowenyi/nltk_data...\n",
      "[nltk_data]   Package stopwords is already up-to-date!\n"
     ]
    }
   ],
   "source": [
    "from bertopic import BERTopic\n",
    "from sklearn.feature_extraction.text import CountVectorizer\n",
    "from bertopic.representation import KeyBERTInspired\n",
    "from sklearn.feature_extraction.text import ENGLISH_STOP_WORDS\n",
    "import nltk\n",
    "from nltk.corpus import stopwords\n",
    "\n",
    "# Download Spanish stopwords\n",
    "nltk.download('stopwords')\n",
    "spanish_stopwords = set(stopwords.words('spanish'))\n",
    "\n",
    "# Combine English and Spanish stopwords\n",
    "combined_stopwords = list(ENGLISH_STOP_WORDS.union(spanish_stopwords))\n",
    "\n",
    "# Create a custom CountVectorizer\n",
    "custom_vectorizer = CountVectorizer(stop_words=combined_stopwords)\n",
    "\n",
    "# Pass the vectorizer to BERTopic\n",
    "representation_model = KeyBERTInspired()\n",
    "topic_model = BERTopic(language=\"multilingual\", vectorizer_model=custom_vectorizer, representation_model=representation_model)\n"
   ]
  },
  {
   "cell_type": "code",
   "execution_count": 28,
   "id": "386ae591-72a0-4c03-96b3-1d8557e7ab3c",
   "metadata": {},
   "outputs": [],
   "source": [
    "def preprocess_and_analyze_topics(cluster_df, data_df):\n",
    "    \"\"\"\n",
    "    Preprocesses data, removes stopwords, and applies BERTopic to analyze topics.\n",
    "    \n",
    "    Parameters:\n",
    "    - cluster_df: DataFrame with cluster information, containing user IDs in the 'Id' column.\n",
    "    - data_df: DataFrame with raw tweet data, containing 'id_str', 'text', and 'epoch'.\n",
    "    \n",
    "    Returns:\n",
    "    - topic_model: Fitted BERTopic model.\n",
    "    - topics_df: DataFrame with extracted topics and timestamps.\n",
    "    \"\"\"\n",
    "    # Extract tweets and epochs for users in the cluster\n",
    "    texts = []\n",
    "    timestamps = []\n",
    "    for _, row in cluster_df.iterrows():\n",
    "        user = row['Id']\n",
    "        user_data = data_df[data_df['id_str'] == user]\n",
    "        for _, tweet_row in user_data.iterrows():\n",
    "            tweet = tweet_row['text']\n",
    "            if isinstance(tweet, str) and len(tweet) > 0:\n",
    "                texts.append(tweet)\n",
    "                timestamps.append(tweet_row['epoch'])\n",
    "\n",
    "    # Check if texts are non-empty\n",
    "    if not texts:\n",
    "        print(\"No texts available in this cluster.\")\n",
    "        return None, None\n",
    "\n",
    "    # Set up custom CountVectorizer with stopwords for English and Spanish\n",
    "    \n",
    "    topics, probs = topic_model.fit_transform(texts)\n",
    "\n",
    "    # Create a DataFrame with topics and timestamps\n",
    "    topics_df = pd.DataFrame({\n",
    "        'Text': texts,\n",
    "        'Topic': topics,\n",
    "        'Timestamp': pd.to_datetime(timestamps, unit='s')  # Convert epoch to datetime\n",
    "    })\n",
    "\n",
    "    return topic_model, topics_df"
   ]
  },
  {
   "cell_type": "code",
   "execution_count": 29,
   "id": "eea11c77-f9a2-4407-b42d-849ab8d15402",
   "metadata": {},
   "outputs": [],
   "source": [
    "def get_top_topics_per_month(topics_df, topic_model, top_n=5):\n",
    "    \"\"\"\n",
    "    Prints the top N topics for each month.\n",
    "\n",
    "    Parameters:\n",
    "    - topics_df: DataFrame containing 'Topic' and 'Timestamp'.\n",
    "    - topic_model: Fitted BERTopic model.\n",
    "    - top_n: Number of top topics to display per month.\n",
    "    \"\"\"\n",
    "    # Add a month column for grouping\n",
    "    topics_df['Month'] = topics_df['Timestamp'].dt.to_period('M')\n",
    "\n",
    "    # Group by month and calculate topic counts\n",
    "    grouped = topics_df.groupby(['Month', 'Topic']).size().reset_index(name='Count')\n",
    "\n",
    "    # Print top N topics for each month\n",
    "    for month, group in grouped.groupby('Month'):\n",
    "        print(f\"\\nTop {top_n} Topics for {month}:\")\n",
    "        top_topics = group.sort_values(by='Count', ascending=False).head(top_n)\n",
    "        for _, row in top_topics.iterrows():\n",
    "            topic = row['Topic']\n",
    "            count = row['Count']\n",
    "            topic_words = topic_model.get_topic(topic)\n",
    "            words = \", \".join([word for word, _ in topic_words])\n",
    "            print(f\"Topic {topic} ({count} tweets): {words}\")\n"
   ]
  },
  {
   "cell_type": "code",
   "execution_count": 33,
   "id": "df3153e6-3f73-4e65-9bc5-f4c34adbd774",
   "metadata": {},
   "outputs": [
    {
     "name": "stdout",
     "output_type": "stream",
     "text": [
      "\n",
      "Top 5 Topics for 2023-05:\n",
      "Topic -1 (2 tweets): trump, obama, trump2024, presidential, president, democrats, republicans, republican, political, election\n",
      "\n",
      "Top 5 Topics for 2024-02:\n",
      "Topic 2 (1 tweets): dude, tyson, guy, legendary, actor, dammit, joe, john, _johnnymaga, bryantejustin\n",
      "\n",
      "Top 5 Topics for 2024-03:\n",
      "Topic -1 (1 tweets): trump, obama, trump2024, presidential, president, democrats, republicans, republican, political, election\n",
      "\n",
      "Top 5 Topics for 2024-05:\n",
      "Topic -1 (214 tweets): trump, obama, trump2024, presidential, president, democrats, republicans, republican, political, election\n",
      "Topic 11 (35 tweets): israel, israeli, palestinian, netanyahu, ceasefire, peace, jewish, extremists, political, negotiations\n",
      "Topic 1 (20 tweets): congresswoman, shes, lady, woman, impeached, nancy, girl, michelle, chick, daughter\n",
      "Topic 14 (19 tweets): trump, president, sentencing, judge, defendant, presidential, court, testified, trial, convicted\n",
      "Topic 5 (16 tweets): davidte58841155, kevinadams26, jgalan707, jeremys26458973, hskaarup1, lyn68129, michaelianblack, ktsashamgh, mark_mbmccarthy, mrglencarroll\n",
      "\n",
      "Top 5 Topics for 2024-06:\n",
      "Topic -1 (396 tweets): trump, obama, trump2024, presidential, president, democrats, republicans, republican, political, election\n",
      "Topic 12 (60 tweets): hunterbiden, gun, firearm, hunter, gunpoint, convicted, trial, jury, sued, lawsuit\n",
      "Topic 8 (48 tweets): trump, president, politics, campaign, biden, election, debate, assassination, americans, poll\n",
      "Topic 3 (40 tweets): kenny, joe, mediabias, biden, press, reporter, keneakers, media, post, brothers\n",
      "Topic 1 (35 tweets): congresswoman, shes, lady, woman, impeached, nancy, girl, michelle, chick, daughter\n",
      "\n",
      "Top 5 Topics for 2024-07:\n",
      "Topic -1 (894 tweets): trump, obama, trump2024, presidential, president, democrats, republicans, republican, political, election\n",
      "Topic 0 (200 tweets): president, presidential, democrats, trump, democratic, debate, republicans, candidate, american, nominee\n",
      "Topic 4 (131 tweets): democrat, democrats, democratic, candidate, bid, republicans, senator, biden, election, congressional\n",
      "Topic 3 (91 tweets): kenny, joe, mediabias, biden, press, reporter, keneakers, media, post, brothers\n",
      "Topic 1 (84 tweets): congresswoman, shes, lady, woman, impeached, nancy, girl, michelle, chick, daughter\n",
      "\n",
      "Top 5 Topics for 2024-08:\n",
      "Topic -1 (368 tweets): trump, obama, trump2024, presidential, president, democrats, republicans, republican, political, election\n",
      "Topic 0 (94 tweets): president, presidential, democrats, trump, democratic, debate, republicans, candidate, american, nominee\n",
      "Topic 1 (48 tweets): congresswoman, shes, lady, woman, impeached, nancy, girl, michelle, chick, daughter\n",
      "Topic 5 (44 tweets): davidte58841155, kevinadams26, jgalan707, jeremys26458973, hskaarup1, lyn68129, michaelianblack, ktsashamgh, mark_mbmccarthy, mrglencarroll\n",
      "Topic 2 (31 tweets): dude, tyson, guy, legendary, actor, dammit, joe, john, _johnnymaga, bryantejustin\n",
      "\n",
      "Top 5 Topics for 2024-09:\n",
      "Topic -1 (343 tweets): trump, obama, trump2024, presidential, president, democrats, republicans, republican, political, election\n",
      "Topic 0 (228 tweets): president, presidential, democrats, trump, democratic, debate, republicans, candidate, american, nominee\n",
      "Topic 1 (31 tweets): congresswoman, shes, lady, woman, impeached, nancy, girl, michelle, chick, daughter\n",
      "Topic 2 (28 tweets): dude, tyson, guy, legendary, actor, dammit, joe, john, _johnnymaga, bryantejustin\n",
      "Topic 6 (25 tweets): democrats, democrat, democratsareevil, liberals, leftist, election, voting, republicans, republican, vote\n",
      "\n",
      "Top 5 Topics for 2024-10:\n",
      "Topic -1 (54 tweets): trump, obama, trump2024, presidential, president, democrats, republicans, republican, political, election\n",
      "Topic 0 (30 tweets): president, presidential, democrats, trump, democratic, debate, republicans, candidate, american, nominee\n",
      "Topic 1 (10 tweets): congresswoman, shes, lady, woman, impeached, nancy, girl, michelle, chick, daughter\n",
      "Topic 2 (7 tweets): dude, tyson, guy, legendary, actor, dammit, joe, john, _johnnymaga, bryantejustin\n",
      "Topic 5 (6 tweets): davidte58841155, kevinadams26, jgalan707, jeremys26458973, hskaarup1, lyn68129, michaelianblack, ktsashamgh, mark_mbmccarthy, mrglencarroll\n",
      "\n",
      "Top 5 Topics for 2024-11:\n",
      "Topic 24 (2 tweets): president, obama, whistleblowers, propagandist, mr, committee, debate, press, biographer, obsessive\n",
      "Topic -1 (1 tweets): trump, obama, trump2024, presidential, president, democrats, republicans, republican, political, election\n",
      "Topic 1 (1 tweets): congresswoman, shes, lady, woman, impeached, nancy, girl, michelle, chick, daughter\n",
      "Topic 0 (1 tweets): president, presidential, democrats, trump, democratic, debate, republicans, candidate, american, nominee\n",
      "Topic 4 (1 tweets): democrat, democrats, democratic, candidate, bid, republicans, senator, biden, election, congressional\n"
     ]
    }
   ],
   "source": [
    "en_topic_model, en_topics_df = preprocess_and_analyze_topics(io_drivers_en, en_data)\n",
    "\n",
    "if en_topic_model and en_topics_df is not None:\n",
    "    get_top_topics_per_month(en_topics_df, en_topic_model, top_n=5)"
   ]
  },
  {
   "cell_type": "code",
   "execution_count": 35,
   "id": "0e9d39a8-2605-41f5-8b60-26c4c5de3005",
   "metadata": {},
   "outputs": [
    {
     "name": "stdout",
     "output_type": "stream",
     "text": [
      "\n",
      "Top 5 Topics for 2023-05:\n",
      "Topic -1 (2 tweets): trump, obama, presidencial, presidente, demócrata, presidenciales, demócratas, netanyahu, presidencia, discurso\n",
      "Topic 4 (2 tweets): trump, tribunal, judicial, juez, jueza, juicio, condena, demandado, justicia, testigos\n",
      "\n",
      "Top 5 Topics for 2024-05:\n",
      "Topic -1 (136 tweets): trump, obama, presidencial, presidente, demócrata, presidenciales, demócratas, netanyahu, presidencia, discurso\n",
      "Topic 4 (53 tweets): trump, tribunal, judicial, juez, jueza, juicio, condena, demandado, justicia, testigos\n",
      "Topic 45 (33 tweets): israel, invade, bombas, amenaza, guerra, artillería, munición, ofensivas, armas, advierte\n",
      "Topic 73 (30 tweets): porno, daniels, actriz, sexuales, sexo, sexual, cárcel, testigo, interrogada, testificando\n",
      "Topic 103 (23 tweets): testificó, daniels, testimonio, expresidente, testificar, revelación, porno, quejó, describió, sexual\n",
      "\n",
      "Top 5 Topics for 2024-06:\n",
      "Topic -1 (292 tweets): trump, obama, presidencial, presidente, demócrata, presidenciales, demócratas, netanyahu, presidencia, discurso\n",
      "Topic 1 (209 tweets): biden, acusado, hijo, condenado, condena, jurado, cargos, hunter, delitos, culpable\n",
      "Topic 10 (71 tweets): ciudadanía, indocumentados, inmigrantes, migrantes, ciudadanos, deportación, nacionalidad, ilegales, casados, migratorio\n",
      "Topic 6 (40 tweets): palestino, israel, israelí, paz, terroristas, hamas, islamista, mañana, hamás, biden\n",
      "Topic 44 (38 tweets): debatepresidencial, debates, debate, presidenciales, presidencial, electoral, confrontarán, confrontación, enfrentarán, batalla\n",
      "\n",
      "Top 5 Topics for 2024-07:\n",
      "Topic -1 (1624 tweets): trump, obama, presidencial, presidente, demócrata, presidenciales, demócratas, netanyahu, presidencia, discurso\n",
      "Topic 0 (160 tweets): demócrata, demócratas, delegados, votos, candidata, elecciones, presidenciales, nominación, presidencial, presidencia\n",
      "Topic 3 (142 tweets): vladimir, kremlin, rusia, ruso, rusas, rusa, moscú, ucrania, ucranianos, ucraniano\n",
      "Topic 8 (86 tweets): presidencial, presidente, presidencia, renuncia, renunciar, renunció, políticos, elecciones, electoral, candidatura\n",
      "Topic 13 (79 tweets): demócratas, demócrata, senador, senadores, congresista, congresistas, presidencial, legislador, legisladores, votantes\n",
      "\n",
      "Top 5 Topics for 2024-08:\n",
      "Topic -1 (279 tweets): trump, obama, presidencial, presidente, demócrata, presidenciales, demócratas, netanyahu, presidencia, discurso\n",
      "Topic 14 (59 tweets): trump, ciberataque, cibernético, entrevistó, entrevista, diálogo, entrevistará, elonmusk, conversación, retrasó\n",
      "Topic 33 (48 tweets): demócrata, ovación, partidaria, testigo, joe, lideraron, evento, gritó, convención, gracias\n",
      "Topic 55 (37 tweets): venezuela, lahoradevenezuela, elecciones, malinterpretó, edmundogu, confusión, preguntara, gonzález, causaron, pregunta\n",
      "Topic 15 (36 tweets): presidente, exembajador, carta, políticacero, opositores, biden, envió, enviará, amlo, denuncia\n",
      "\n",
      "Top 5 Topics for 2024-09:\n",
      "Topic -1 (428 tweets): trump, obama, presidencial, presidente, demócrata, presidenciales, demócratas, netanyahu, presidencia, discurso\n",
      "Topic 2 (167 tweets): debateestadosunidos, trump, debatepresidencial2024, debate, presidencial, debate2024, presidencia, republicano, debatirán, enfrentan\n",
      "Topic 5 (86 tweets): delegación, méxico, embajador, dama, jill, acompañarán, presidenta, estadounidense, presidente, biden\n",
      "Topic 0 (75 tweets): demócrata, demócratas, delegados, votos, candidata, elecciones, presidenciales, nominación, presidencial, presidencia\n",
      "Topic 27 (54 tweets): trump, debate, debatir, rechazarlos, rechaza, comentaristas, votación, politización, rechazó, descarta\n",
      "\n",
      "Top 5 Topics for 2024-10:\n",
      "Topic -1 (75 tweets): trump, obama, presidencial, presidente, demócrata, presidenciales, demócratas, netanyahu, presidencia, discurso\n",
      "Topic 0 (22 tweets): demócrata, demócratas, delegados, votos, candidata, elecciones, presidenciales, nominación, presidencial, presidencia\n",
      "Topic 20 (11 tweets): presidenciales, trump, candidatos, campañas, elecciones, voto, encuestas, personalidades, respectivas, perfil\n",
      "Topic 19 (10 tweets): obama, presidencial, presidenta, presidencia, respaldarla, orgullosos, candidata, nancy, apoyar, apoyo\n",
      "Topic 11 (7 tweets): mexicano, mexicanos, méxico, trump, presidenta, latinoamericanos, presidencia, cubanos, narcotráfico, estadounidense\n",
      "\n",
      "Top 5 Topics for 2024-11:\n",
      "Topic -1 (16 tweets): trump, obama, presidencial, presidente, demócrata, presidenciales, demócratas, netanyahu, presidencia, discurso\n",
      "Topic 201 (11 tweets): felicitó, felicitaron, felicitar, felicitado, felicita, felicitan, felicitaciones, presidenciales, agradecerle, señaló\n",
      "Topic 165 (8 tweets): elecciones, electorales, republicano, votos, ganador, ganará, ganaría, victoria, estadounidenses, politólogo\n",
      "Topic 188 (5 tweets): trump, presidenciales, expresidente, volverá, vuelva, volver, vuelve, regresa, regreso, dijo\n",
      "Topic 0 (5 tweets): demócrata, demócratas, delegados, votos, candidata, elecciones, presidenciales, nominación, presidencial, presidencia\n"
     ]
    }
   ],
   "source": [
    "es_topic_model, es_topics_df = preprocess_and_analyze_topics(io_drivers_es, es_data)\n",
    "\n",
    "if es_topic_model and es_topics_df is not None:\n",
    "    get_top_topics_per_month(es_topics_df, es_topic_model, top_n=5)"
   ]
  },
  {
   "cell_type": "code",
   "execution_count": 39,
   "id": "c305fbcd-2f7d-45ea-ab9a-64f007a45ee1",
   "metadata": {},
   "outputs": [],
   "source": [
    "def print_top_topics(cluster_df, data_df):\n",
    "    \"\"\"\n",
    "    Extracts and prints the top 10 topics by frequency for a cluster of tweets.\n",
    "\n",
    "    Parameters:\n",
    "    - cluster_df: DataFrame representing the cluster, containing user IDs in the 'Id' column.\n",
    "    - data_df: DataFrame containing raw tweet data, with user IDs in 'id_str' and tweets in 'text'.\n",
    "    \"\"\"\n",
    "    # Extract tweets for users in the cluster\n",
    "    texts = []\n",
    "    for _, row in cluster_df.iterrows():\n",
    "        user = row['Id']\n",
    "        user_data = data_df[data_df['id_str'] == user]\n",
    "        \n",
    "        for _, tweet_row in user_data.iterrows():\n",
    "            tweet = tweet_row['text']\n",
    "            if isinstance(tweet, str) and len(tweet) > 0:\n",
    "                texts.append(tweet)\n",
    "\n",
    "    # Check if texts are non-empty\n",
    "    if not texts:\n",
    "        print(\"No texts available in this cluster.\")\n",
    "        return\n",
    "\n",
    "    # Apply BERTopic\n",
    "    topics, probs = topic_model.fit_transform(texts)\n",
    "\n",
    "    # Get topic frequencies\n",
    "    topic_freq = topic_model.get_topic_freq().head(11)  # Exclude topic -1 if present\n",
    "\n",
    "    # Print the top 10 topics\n",
    "    print(\"Top 10 Topics by Frequency:\")\n",
    "    for _, row in topic_freq.iterrows():\n",
    "        topic_id = row['Topic']\n",
    "        if topic_id == -1:\n",
    "            continue  # Skip outlier topic\n",
    "        topic_words = topic_model.get_topic(topic_id)\n",
    "        print(f\"Topic {topic_id}: {', '.join([word for word, _ in topic_words])} (Frequency: {row['Count']})\")"
   ]
  },
  {
   "cell_type": "code",
   "execution_count": 40,
   "id": "0ab585ed-05b3-4506-b2c0-dec61393f6ab",
   "metadata": {},
   "outputs": [
    {
     "name": "stdout",
     "output_type": "stream",
     "text": [
      "Top 10 Topics by Frequency:\n",
      "Topic 0: democrats, presidential, president, democratic, candidate, republicans, nominee, trump, election, campaign (Frequency: 560)\n",
      "Topic 1: congresswoman, shes, lady, woman, michelle, chick, person, names, speaks, kidding (Frequency: 211)\n",
      "Topic 2: dammit, dumbshit, damn, guy, tyson, maddenifico, joe, _johnnymaga, bryantejustin, john (Frequency: 195)\n",
      "Topic 3: kerosi__, welcome, jenresistedagn, congrats, jeremys26458973, hskaarup1, jocelynjtweet, michaelianblack, awesome, marievolland1 (Frequency: 182)\n",
      "Topic 4: trump, trumpwarroom, trump2024, president, google, maga, disappointed, politically, diddy, campaign (Frequency: 169)\n",
      "Topic 5: democrat, democrats, candidate, bid, senator, election, republican, democratic, nominee, republicans (Frequency: 164)\n",
      "Topic 6: mediabias, spokesman, reporter, joe, kenny, press, media, news, whine, biden (Frequency: 156)\n",
      "Topic 7: maga, lol, loony, lidiauly9g, offends, ixqohhod9t, oh, libtard, fuck, hutj2etddh (Frequency: 154)\n",
      "Topic 8: trump, president, democrats, politics, biden, campaign, debate, american, assassination, americans (Frequency: 144)\n",
      "Topic 9: vladimir, russia, russian, ukrainian, ukraine, belarus, petersburg, trump, president, germany (Frequency: 112)\n"
     ]
    },
    {
     "ename": "TypeError",
     "evalue": "cannot unpack non-iterable NoneType object",
     "output_type": "error",
     "traceback": [
      "\u001b[0;31m---------------------------------------------------------------------------\u001b[0m",
      "\u001b[0;31mTypeError\u001b[0m                                 Traceback (most recent call last)",
      "Cell \u001b[0;32mIn[40], line 1\u001b[0m\n\u001b[0;32m----> 1\u001b[0m topic_model_en, topics_df_en \u001b[38;5;241m=\u001b[39m print_top_topics(io_drivers_en, en_data)\n",
      "\u001b[0;31mTypeError\u001b[0m: cannot unpack non-iterable NoneType object"
     ]
    }
   ],
   "source": [
    "topic_model_en, topics_df_en = print_top_topics(io_drivers_en, en_data)\n"
   ]
  },
  {
   "cell_type": "code",
   "execution_count": 41,
   "id": "3c9df5e8-c93a-42cb-85ae-bc81bf13e1b2",
   "metadata": {},
   "outputs": [
    {
     "name": "stdout",
     "output_type": "stream",
     "text": [
      "Top 10 Topics by Frequency:\n",
      "Topic 0: demócrata, demócratas, candidata, presidencial, obama, presidencia, presidenta, vicepresidenta, elecciones, campaña (Frequency: 340)\n",
      "Topic 1: demócrata, demócratas, votar, delegados, presidenciales, candidata, votos, elecciones, presidencial, presidencia (Frequency: 274)\n",
      "Topic 2: electoral, elecciones, renuncia, presidencial, renunciar, campaña, abandonará, retirará, candidatura, renuncie (Frequency: 208)\n",
      "Topic 3: acusado, condenado, biden, jurado, hijo, condena, judicial, culpable, juez, hunter (Frequency: 205)\n",
      "Topic 4: vladimir, kremlin, rusia, ruso, rusas, rusa, moscú, ucrania, ucranianos, ucraniano (Frequency: 195)\n",
      "Topic 5: trump, tribunal, judicial, juez, jueza, juicio, condena, demandado, justicia, testigos (Frequency: 155)\n",
      "Topic 6: delegación, méxico, embajador, dama, jill, acompañarán, presidenta, presidente, biden, claudia (Frequency: 135)\n",
      "Topic 7: mexicano, mexicanos, méxico, trump, presidenta, presidente, presidencia, cubanos, narcotráfico, dijo (Frequency: 114)\n",
      "Topic 8: prensa, biden, presentador, discursos, entrevista, bailaban, impopular, anuncio, sentarse, crítica (Frequency: 108)\n",
      "Topic 9: trump, presidente, expresidente, atentado, atentados, republicana, discurso, biden, estadounidense, llamó (Frequency: 96)\n"
     ]
    },
    {
     "ename": "TypeError",
     "evalue": "cannot unpack non-iterable NoneType object",
     "output_type": "error",
     "traceback": [
      "\u001b[0;31m---------------------------------------------------------------------------\u001b[0m",
      "\u001b[0;31mTypeError\u001b[0m                                 Traceback (most recent call last)",
      "Cell \u001b[0;32mIn[41], line 1\u001b[0m\n\u001b[0;32m----> 1\u001b[0m topic_model_es, topics_df_es \u001b[38;5;241m=\u001b[39m print_top_topics(io_drivers_es, es_data)\n",
      "\u001b[0;31mTypeError\u001b[0m: cannot unpack non-iterable NoneType object"
     ]
    }
   ],
   "source": [
    "topic_model_es, topics_df_es = print_top_topics(io_drivers_es, es_data)\n"
   ]
  },
  {
   "cell_type": "code",
   "execution_count": 42,
   "id": "d365c118-e64b-4644-b6d7-89f694a0be71",
   "metadata": {},
   "outputs": [
    {
     "data": {
      "text/html": [
       "<div>\n",
       "<style scoped>\n",
       "    .dataframe tbody tr th:only-of-type {\n",
       "        vertical-align: middle;\n",
       "    }\n",
       "\n",
       "    .dataframe tbody tr th {\n",
       "        vertical-align: top;\n",
       "    }\n",
       "\n",
       "    .dataframe thead th {\n",
       "        text-align: right;\n",
       "    }\n",
       "</style>\n",
       "<table border=\"1\" class=\"dataframe\">\n",
       "  <thead>\n",
       "    <tr style=\"text-align: right;\">\n",
       "      <th></th>\n",
       "      <th>id</th>\n",
       "      <th>text</th>\n",
       "      <th>lang</th>\n",
       "      <th>epoch</th>\n",
       "      <th>hashtags</th>\n",
       "      <th>links</th>\n",
       "      <th>replyCount</th>\n",
       "      <th>retweetCount</th>\n",
       "      <th>likeCount</th>\n",
       "      <th>quoteCount</th>\n",
       "      <th>conversationId</th>\n",
       "      <th>mentionedUsers</th>\n",
       "      <th>id_str</th>\n",
       "      <th>followersCount</th>\n",
       "      <th>friendsCount</th>\n",
       "      <th>statusesCount</th>\n",
       "      <th>sentiment</th>\n",
       "    </tr>\n",
       "  </thead>\n",
       "  <tbody>\n",
       "    <tr>\n",
       "      <th>0</th>\n",
       "      <td>1.800878e+18</td>\n",
       "      <td>If we say MAGA is a cult we have to include th...</td>\n",
       "      <td>en</td>\n",
       "      <td>1.718198e+09</td>\n",
       "      <td>[]</td>\n",
       "      <td>[]</td>\n",
       "      <td>0.0</td>\n",
       "      <td>0.0</td>\n",
       "      <td>0.0</td>\n",
       "      <td>0.0</td>\n",
       "      <td>1.800868e+18</td>\n",
       "      <td>[]</td>\n",
       "      <td>'180970841'</td>\n",
       "      <td>283</td>\n",
       "      <td>1081</td>\n",
       "      <td>3584</td>\n",
       "      <td>2</td>\n",
       "    </tr>\n",
       "    <tr>\n",
       "      <th>1</th>\n",
       "      <td>1.800863e+18</td>\n",
       "      <td>@Bubblebathgirl Which means absolutely nothing...</td>\n",
       "      <td>en</td>\n",
       "      <td>1.718194e+09</td>\n",
       "      <td>[]</td>\n",
       "      <td>[]</td>\n",
       "      <td>0.0</td>\n",
       "      <td>0.0</td>\n",
       "      <td>0.0</td>\n",
       "      <td>0.0</td>\n",
       "      <td>1.800514e+18</td>\n",
       "      <td>[{'id_str': '32804484', 'name': 'Paul A. Szypu...</td>\n",
       "      <td>'60090450'</td>\n",
       "      <td>239</td>\n",
       "      <td>667</td>\n",
       "      <td>8161</td>\n",
       "      <td>1</td>\n",
       "    </tr>\n",
       "    <tr>\n",
       "      <th>2</th>\n",
       "      <td>1.800889e+18</td>\n",
       "      <td>@simonateba Harvard has really lost it.</td>\n",
       "      <td>en</td>\n",
       "      <td>1.718200e+09</td>\n",
       "      <td>[]</td>\n",
       "      <td>[]</td>\n",
       "      <td>0.0</td>\n",
       "      <td>0.0</td>\n",
       "      <td>0.0</td>\n",
       "      <td>0.0</td>\n",
       "      <td>1.800888e+18</td>\n",
       "      <td>[{'id_str': '130003441', 'name': 'Simon Ateba'...</td>\n",
       "      <td>'156726345'</td>\n",
       "      <td>13446</td>\n",
       "      <td>10976</td>\n",
       "      <td>35518</td>\n",
       "      <td>2</td>\n",
       "    </tr>\n",
       "    <tr>\n",
       "      <th>3</th>\n",
       "      <td>1.800871e+18</td>\n",
       "      <td>@Sportz_DC Good God almighty! When did the con...</td>\n",
       "      <td>en</td>\n",
       "      <td>1.718196e+09</td>\n",
       "      <td>[]</td>\n",
       "      <td>[]</td>\n",
       "      <td>1.0</td>\n",
       "      <td>0.0</td>\n",
       "      <td>5.0</td>\n",
       "      <td>0.0</td>\n",
       "      <td>1.800849e+18</td>\n",
       "      <td>[{'id_str': '1496643443879198720', 'name': 'Va...</td>\n",
       "      <td>'1425183551511740419'</td>\n",
       "      <td>552</td>\n",
       "      <td>264</td>\n",
       "      <td>11669</td>\n",
       "      <td>0</td>\n",
       "    </tr>\n",
       "    <tr>\n",
       "      <th>4</th>\n",
       "      <td>1.800875e+18</td>\n",
       "      <td>@cspanwj @RepHankJohnson Pep Johnson, does Con...</td>\n",
       "      <td>en</td>\n",
       "      <td>1.718197e+09</td>\n",
       "      <td>[]</td>\n",
       "      <td>[]</td>\n",
       "      <td>0.0</td>\n",
       "      <td>0.0</td>\n",
       "      <td>1.0</td>\n",
       "      <td>0.0</td>\n",
       "      <td>1.800869e+18</td>\n",
       "      <td>[{'id_str': '15923226', 'name': 'Washington Jo...</td>\n",
       "      <td>'1513631239319822344'</td>\n",
       "      <td>428</td>\n",
       "      <td>248</td>\n",
       "      <td>23459</td>\n",
       "      <td>2</td>\n",
       "    </tr>\n",
       "    <tr>\n",
       "      <th>...</th>\n",
       "      <td>...</td>\n",
       "      <td>...</td>\n",
       "      <td>...</td>\n",
       "      <td>...</td>\n",
       "      <td>...</td>\n",
       "      <td>...</td>\n",
       "      <td>...</td>\n",
       "      <td>...</td>\n",
       "      <td>...</td>\n",
       "      <td>...</td>\n",
       "      <td>...</td>\n",
       "      <td>...</td>\n",
       "      <td>...</td>\n",
       "      <td>...</td>\n",
       "      <td>...</td>\n",
       "      <td>...</td>\n",
       "      <td>...</td>\n",
       "    </tr>\n",
       "    <tr>\n",
       "      <th>588834</th>\n",
       "      <td>1.836602e+18</td>\n",
       "      <td>@kevin_smith45 And they weren't bussed in paid...</td>\n",
       "      <td>en</td>\n",
       "      <td>1.726715e+09</td>\n",
       "      <td>[{'indices': [74, 84], 'text': 'Trump2024'}]</td>\n",
       "      <td>[]</td>\n",
       "      <td>0.0</td>\n",
       "      <td>0.0</td>\n",
       "      <td>0.0</td>\n",
       "      <td>0.0</td>\n",
       "      <td>1.836425e+18</td>\n",
       "      <td>[{'id_str': '1921810315', 'name': 'kevin smith...</td>\n",
       "      <td>'1369668425992318986'</td>\n",
       "      <td>304</td>\n",
       "      <td>536</td>\n",
       "      <td>19319</td>\n",
       "      <td>2</td>\n",
       "    </tr>\n",
       "    <tr>\n",
       "      <th>588835</th>\n",
       "      <td>1.836618e+18</td>\n",
       "      <td>Nearly 530,000 migrants came to US 'legally,' ...</td>\n",
       "      <td>en</td>\n",
       "      <td>1.726719e+09</td>\n",
       "      <td>[{'indices': [125, 133], 'text': 'FoxNews'}]</td>\n",
       "      <td>[{'display_url': 'foxnews.com/us/nearly-5300…'...</td>\n",
       "      <td>0.0</td>\n",
       "      <td>1.0</td>\n",
       "      <td>0.0</td>\n",
       "      <td>0.0</td>\n",
       "      <td>1.836618e+18</td>\n",
       "      <td>[]</td>\n",
       "      <td>'1547768887474737152'</td>\n",
       "      <td>9529</td>\n",
       "      <td>7024</td>\n",
       "      <td>324691</td>\n",
       "      <td>2</td>\n",
       "    </tr>\n",
       "    <tr>\n",
       "      <th>588836</th>\n",
       "      <td>1.836571e+18</td>\n",
       "      <td>@sgaut @Inskigator @BehizyTweets @DadOfBS You ...</td>\n",
       "      <td>en</td>\n",
       "      <td>1.726708e+09</td>\n",
       "      <td>[]</td>\n",
       "      <td>[]</td>\n",
       "      <td>1.0</td>\n",
       "      <td>0.0</td>\n",
       "      <td>4.0</td>\n",
       "      <td>0.0</td>\n",
       "      <td>1.836532e+18</td>\n",
       "      <td>[{'id_str': '29509675', 'name': 'SGaut', 'scre...</td>\n",
       "      <td>'1771011663820734464'</td>\n",
       "      <td>263</td>\n",
       "      <td>92</td>\n",
       "      <td>3211</td>\n",
       "      <td>2</td>\n",
       "    </tr>\n",
       "    <tr>\n",
       "      <th>588837</th>\n",
       "      <td>1.836574e+18</td>\n",
       "      <td>@SarahIronside6 Interests rates still far abov...</td>\n",
       "      <td>en</td>\n",
       "      <td>1.726708e+09</td>\n",
       "      <td>[]</td>\n",
       "      <td>[]</td>\n",
       "      <td>0.0</td>\n",
       "      <td>0.0</td>\n",
       "      <td>0.0</td>\n",
       "      <td>0.0</td>\n",
       "      <td>1.836472e+18</td>\n",
       "      <td>[{'id_str': '1325874154059554816', 'name': 'Sa...</td>\n",
       "      <td>'23216533'</td>\n",
       "      <td>679</td>\n",
       "      <td>1172</td>\n",
       "      <td>9141</td>\n",
       "      <td>0</td>\n",
       "    </tr>\n",
       "    <tr>\n",
       "      <th>588838</th>\n",
       "      <td>1.836588e+18</td>\n",
       "      <td>@PuffyBeard @BlobMenendez @USA_Polling All of ...</td>\n",
       "      <td>en</td>\n",
       "      <td>1.726712e+09</td>\n",
       "      <td>[]</td>\n",
       "      <td>[]</td>\n",
       "      <td>0.0</td>\n",
       "      <td>0.0</td>\n",
       "      <td>0.0</td>\n",
       "      <td>0.0</td>\n",
       "      <td>1.836446e+18</td>\n",
       "      <td>[{'id_str': '1462638116095860738', 'name': 'Pu...</td>\n",
       "      <td>'1710999133731827713'</td>\n",
       "      <td>252</td>\n",
       "      <td>180</td>\n",
       "      <td>2201</td>\n",
       "      <td>2</td>\n",
       "    </tr>\n",
       "  </tbody>\n",
       "</table>\n",
       "<p>588839 rows × 17 columns</p>\n",
       "</div>"
      ],
      "text/plain": [
       "                  id                                               text lang  \\\n",
       "0       1.800878e+18  If we say MAGA is a cult we have to include th...   en   \n",
       "1       1.800863e+18  @Bubblebathgirl Which means absolutely nothing...   en   \n",
       "2       1.800889e+18            @simonateba Harvard has really lost it.   en   \n",
       "3       1.800871e+18  @Sportz_DC Good God almighty! When did the con...   en   \n",
       "4       1.800875e+18  @cspanwj @RepHankJohnson Pep Johnson, does Con...   en   \n",
       "...              ...                                                ...  ...   \n",
       "588834  1.836602e+18  @kevin_smith45 And they weren't bussed in paid...   en   \n",
       "588835  1.836618e+18  Nearly 530,000 migrants came to US 'legally,' ...   en   \n",
       "588836  1.836571e+18  @sgaut @Inskigator @BehizyTweets @DadOfBS You ...   en   \n",
       "588837  1.836574e+18  @SarahIronside6 Interests rates still far abov...   en   \n",
       "588838  1.836588e+18  @PuffyBeard @BlobMenendez @USA_Polling All of ...   en   \n",
       "\n",
       "               epoch                                      hashtags  \\\n",
       "0       1.718198e+09                                            []   \n",
       "1       1.718194e+09                                            []   \n",
       "2       1.718200e+09                                            []   \n",
       "3       1.718196e+09                                            []   \n",
       "4       1.718197e+09                                            []   \n",
       "...              ...                                           ...   \n",
       "588834  1.726715e+09  [{'indices': [74, 84], 'text': 'Trump2024'}]   \n",
       "588835  1.726719e+09  [{'indices': [125, 133], 'text': 'FoxNews'}]   \n",
       "588836  1.726708e+09                                            []   \n",
       "588837  1.726708e+09                                            []   \n",
       "588838  1.726712e+09                                            []   \n",
       "\n",
       "                                                    links  replyCount  \\\n",
       "0                                                      []         0.0   \n",
       "1                                                      []         0.0   \n",
       "2                                                      []         0.0   \n",
       "3                                                      []         1.0   \n",
       "4                                                      []         0.0   \n",
       "...                                                   ...         ...   \n",
       "588834                                                 []         0.0   \n",
       "588835  [{'display_url': 'foxnews.com/us/nearly-5300…'...         0.0   \n",
       "588836                                                 []         1.0   \n",
       "588837                                                 []         0.0   \n",
       "588838                                                 []         0.0   \n",
       "\n",
       "        retweetCount  likeCount  quoteCount  conversationId  \\\n",
       "0                0.0        0.0         0.0    1.800868e+18   \n",
       "1                0.0        0.0         0.0    1.800514e+18   \n",
       "2                0.0        0.0         0.0    1.800888e+18   \n",
       "3                0.0        5.0         0.0    1.800849e+18   \n",
       "4                0.0        1.0         0.0    1.800869e+18   \n",
       "...              ...        ...         ...             ...   \n",
       "588834           0.0        0.0         0.0    1.836425e+18   \n",
       "588835           1.0        0.0         0.0    1.836618e+18   \n",
       "588836           0.0        4.0         0.0    1.836532e+18   \n",
       "588837           0.0        0.0         0.0    1.836472e+18   \n",
       "588838           0.0        0.0         0.0    1.836446e+18   \n",
       "\n",
       "                                           mentionedUsers  \\\n",
       "0                                                      []   \n",
       "1       [{'id_str': '32804484', 'name': 'Paul A. Szypu...   \n",
       "2       [{'id_str': '130003441', 'name': 'Simon Ateba'...   \n",
       "3       [{'id_str': '1496643443879198720', 'name': 'Va...   \n",
       "4       [{'id_str': '15923226', 'name': 'Washington Jo...   \n",
       "...                                                   ...   \n",
       "588834  [{'id_str': '1921810315', 'name': 'kevin smith...   \n",
       "588835                                                 []   \n",
       "588836  [{'id_str': '29509675', 'name': 'SGaut', 'scre...   \n",
       "588837  [{'id_str': '1325874154059554816', 'name': 'Sa...   \n",
       "588838  [{'id_str': '1462638116095860738', 'name': 'Pu...   \n",
       "\n",
       "                       id_str  followersCount  friendsCount  statusesCount  \\\n",
       "0                 '180970841'             283          1081           3584   \n",
       "1                  '60090450'             239           667           8161   \n",
       "2                 '156726345'           13446         10976          35518   \n",
       "3       '1425183551511740419'             552           264          11669   \n",
       "4       '1513631239319822344'             428           248          23459   \n",
       "...                       ...             ...           ...            ...   \n",
       "588834  '1369668425992318986'             304           536          19319   \n",
       "588835  '1547768887474737152'            9529          7024         324691   \n",
       "588836  '1771011663820734464'             263            92           3211   \n",
       "588837             '23216533'             679          1172           9141   \n",
       "588838  '1710999133731827713'             252           180           2201   \n",
       "\n",
       "        sentiment  \n",
       "0               2  \n",
       "1               1  \n",
       "2               2  \n",
       "3               0  \n",
       "4               2  \n",
       "...           ...  \n",
       "588834          2  \n",
       "588835          2  \n",
       "588836          2  \n",
       "588837          0  \n",
       "588838          2  \n",
       "\n",
       "[588839 rows x 17 columns]"
      ]
     },
     "execution_count": 42,
     "metadata": {},
     "output_type": "execute_result"
    }
   ],
   "source": [
    "en_data"
   ]
  },
  {
   "cell_type": "markdown",
   "id": "63eda6f5-7a47-4409-9661-6e7ebaf73be3",
   "metadata": {},
   "source": [
    "#### 2.4 Sentiment shift over time"
   ]
  },
  {
   "cell_type": "code",
   "execution_count": 67,
   "id": "962c93cf-a71c-4043-8bb1-1a865fca0099",
   "metadata": {},
   "outputs": [],
   "source": [
    "import pandas as pd\n",
    "import seaborn as sns\n",
    "import matplotlib.pyplot as plt\n",
    "from matplotlib.lines import Line2D\n",
    "\n",
    "def visualize_sentiment_evolvement(cluster_df, data_df, lang):\n",
    "    \"\"\"\n",
    "    Visualizes the evolution of sentiment over time for a specific cluster.\n",
    "\n",
    "    Parameters:\n",
    "    - cluster_df: DataFrame representing the cluster, containing user IDs in the 'Id' column.\n",
    "    - data_df: DataFrame containing raw tweet data with 'id_str', 'epoch', and 'sentiment'.\n",
    "    - lang: String indicating the language ('English' or 'Spanish').\n",
    "    \"\"\"\n",
    "    tweets = []\n",
    "    for _, row in cluster_df.iterrows():\n",
    "        user = row['Id']\n",
    "        user_data = data_df[data_df['id_str'] == user]\n",
    "        tweets.append(user_data[['epoch', 'sentiment']])\n",
    "    \n",
    "    # Combine into a single DataFrame\n",
    "    sentiment_df = pd.concat(tweets)\n",
    "    sentiment_df['Timestamp'] = pd.to_datetime(sentiment_df['epoch'], unit='s')  # Convert epoch to datetime\n",
    "    sentiment_df['Date'] = sentiment_df['Timestamp'].dt.date  # Extract date\n",
    "\n",
    "    # Aggregate sentiment counts by date\n",
    "    sentiment_counts = sentiment_df.groupby(['Date', 'sentiment']).size().reset_index(name='Count')\n",
    "\n",
    "    # Convert 'sentiment' to categorical type with specified order\n",
    "    sentiment_order = [0, 1, 2]  # Assuming 0: Negative, 1: Neutral, 2: Positive\n",
    "    sentiment_counts['sentiment'] = pd.Categorical(sentiment_counts['sentiment'], categories=sentiment_order, ordered=True)\n",
    "\n",
    "    # Define a custom color palette for sentiment\n",
    "    sentiment_palette = {\n",
    "        0: 'red',     # Negative sentiment\n",
    "        1: 'blue',    # Neutral sentiment\n",
    "        2: 'green'    # Positive sentiment\n",
    "    }\n",
    "\n",
    "    # Plot\n",
    "    plt.figure(figsize=(14, 8))\n",
    "    sns.lineplot(data=sentiment_counts, x='Date', y='Count', hue='sentiment', hue_order=sentiment_order, palette=sentiment_palette)\n",
    "    plt.title(f\"Sentiment Evolvement Over Time ({lang})\", fontsize=16)\n",
    "    plt.xlabel(\"Date\", fontsize=14)\n",
    "    plt.ylabel(\"Count of Tweets\", fontsize=14)\n",
    "    plt.grid(True)\n",
    "\n",
    "    # Create a custom legend\n",
    "    custom_legend = [\n",
    "        Line2D([0], [0], color='red', lw=2, label='Negative (0)'),\n",
    "        Line2D([0], [0], color='blue', lw=2, label='Neutral (1)'),\n",
    "        Line2D([0], [0], color='green', lw=2, label='Positive (2)')\n",
    "    ]\n",
    "    plt.legend(handles=custom_legend, title=\"Sentiment\")\n",
    "\n",
    "    # Save the figure\n",
    "    plt.savefig(f\"{lang}_sentiment_fixed.png\", bbox_inches='tight', dpi=300)\n",
    "\n",
    "    plt.show()\n"
   ]
  },
  {
   "cell_type": "code",
   "execution_count": 68,
   "id": "eca93efe-aff1-4ad4-b6a2-e7e572698642",
   "metadata": {},
   "outputs": [
    {
     "data": {
      "image/png": "[encoded data removed]",
      "text/plain": [
       "<Figure size 1400x800 with 1 Axes>"
      ]
     },
     "metadata": {},
     "output_type": "display_data"
    }
   ],
   "source": [
    "visualize_sentiment_evolvement(io_drivers_en,en_data,'English')"
   ]
  },
  {
   "cell_type": "code",
   "execution_count": 69,
   "id": "fb9e5de4-c6fd-4f10-a6ad-11949acd48a2",
   "metadata": {},
   "outputs": [
    {
     "data": {
      "image/png": "[encoded data removed]",
      "text/plain": [
       "<Figure size 1400x800 with 1 Axes>"
      ]
     },
     "metadata": {},
     "output_type": "display_data"
    }
   ],
   "source": [
    "visualize_sentiment_evolvement(io_drivers_es,es_data,'Spanish')"
   ]
  },
  {
   "cell_type": "code",
   "execution_count": null,
   "id": "d7d47264-91d4-4a32-9869-e74fdeacfe96",
   "metadata": {},
   "outputs": [],
   "source": []
  }
 ],
 "metadata": {
  "kernelspec": {
   "display_name": "Python 3 (ipykernel)",
   "language": "python",
   "name": "python3"
  },
  "language_info": {
   "codemirror_mode": {
    "name": "ipython",
    "version": 3
   },
   "file_extension": ".py",
   "mimetype": "text/x-python",
   "name": "python",
   "nbconvert_exporter": "python",
   "pygments_lexer": "ipython3",
   "version": "3.11.7"
  }
 },
 "nbformat": 4,
 "nbformat_minor": 5
}
