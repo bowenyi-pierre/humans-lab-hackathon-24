{
 "cells": [
  {
   "cell_type": "code",
   "execution_count": 1,
   "id": "89474fc0-8fc4-4cbc-a5c9-6e1aa1153ad5",
   "metadata": {},
   "outputs": [],
   "source": [
    "import pandas as pd\n",
    "import os\n",
    "import json\n",
    "import re\n",
    "import ast\n"
   ]
  },
  {
   "cell_type": "markdown",
   "id": "d3651e40-50e5-4999-b42d-4127715b5412",
   "metadata": {},
   "source": [
    "### 1. Preprocessing"
   ]
  },
  {
   "cell_type": "code",
   "execution_count": 2,
   "id": "6cda1dec-978a-458f-bc58-d04e21960577",
   "metadata": {},
   "outputs": [
    {
     "name": "stderr",
     "output_type": "stream",
     "text": [
      "/tmp/ipykernel_3099892/3284871486.py:19: FutureWarning: The behavior of DataFrame concatenation with empty or all-NA entries is deprecated. In a future version, this will no longer exclude empty or all-NA columns when determining the result dtypes. To retain the old behavior, exclude the relevant entries before the concat operation.\n",
      "  es_data = pd.concat([es_data, es_part], axis=0)\n",
      "/tmp/ipykernel_3099892/3284871486.py:20: FutureWarning: The behavior of DataFrame concatenation with empty or all-NA entries is deprecated. In a future version, this will no longer exclude empty or all-NA columns when determining the result dtypes. To retain the old behavior, exclude the relevant entries before the concat operation.\n",
      "  en_data = pd.concat([en_data, en_part], axis=0)\n",
      "/tmp/ipykernel_3099892/3284871486.py:19: FutureWarning: The behavior of DataFrame concatenation with empty or all-NA entries is deprecated. In a future version, this will no longer exclude empty or all-NA columns when determining the result dtypes. To retain the old behavior, exclude the relevant entries before the concat operation.\n",
      "  es_data = pd.concat([es_data, es_part], axis=0)\n",
      "/tmp/ipykernel_3099892/3284871486.py:20: FutureWarning: The behavior of DataFrame concatenation with empty or all-NA entries is deprecated. In a future version, this will no longer exclude empty or all-NA columns when determining the result dtypes. To retain the old behavior, exclude the relevant entries before the concat operation.\n",
      "  en_data = pd.concat([en_data, en_part], axis=0)\n",
      "/tmp/ipykernel_3099892/3284871486.py:19: FutureWarning: The behavior of DataFrame concatenation with empty or all-NA entries is deprecated. In a future version, this will no longer exclude empty or all-NA columns when determining the result dtypes. To retain the old behavior, exclude the relevant entries before the concat operation.\n",
      "  es_data = pd.concat([es_data, es_part], axis=0)\n",
      "/tmp/ipykernel_3099892/3284871486.py:20: FutureWarning: The behavior of DataFrame concatenation with empty or all-NA entries is deprecated. In a future version, this will no longer exclude empty or all-NA columns when determining the result dtypes. To retain the old behavior, exclude the relevant entries before the concat operation.\n",
      "  en_data = pd.concat([en_data, en_part], axis=0)\n",
      "/tmp/ipykernel_3099892/3284871486.py:19: FutureWarning: The behavior of DataFrame concatenation with empty or all-NA entries is deprecated. In a future version, this will no longer exclude empty or all-NA columns when determining the result dtypes. To retain the old behavior, exclude the relevant entries before the concat operation.\n",
      "  es_data = pd.concat([es_data, es_part], axis=0)\n",
      "/tmp/ipykernel_3099892/3284871486.py:19: FutureWarning: The behavior of DataFrame concatenation with empty or all-NA entries is deprecated. In a future version, this will no longer exclude empty or all-NA columns when determining the result dtypes. To retain the old behavior, exclude the relevant entries before the concat operation.\n",
      "  es_data = pd.concat([es_data, es_part], axis=0)\n",
      "/tmp/ipykernel_3099892/3284871486.py:20: FutureWarning: The behavior of DataFrame concatenation with empty or all-NA entries is deprecated. In a future version, this will no longer exclude empty or all-NA columns when determining the result dtypes. To retain the old behavior, exclude the relevant entries before the concat operation.\n",
      "  en_data = pd.concat([en_data, en_part], axis=0)\n",
      "/tmp/ipykernel_3099892/3284871486.py:19: FutureWarning: The behavior of DataFrame concatenation with empty or all-NA entries is deprecated. In a future version, this will no longer exclude empty or all-NA columns when determining the result dtypes. To retain the old behavior, exclude the relevant entries before the concat operation.\n",
      "  es_data = pd.concat([es_data, es_part], axis=0)\n",
      "/tmp/ipykernel_3099892/3284871486.py:20: FutureWarning: The behavior of DataFrame concatenation with empty or all-NA entries is deprecated. In a future version, this will no longer exclude empty or all-NA columns when determining the result dtypes. To retain the old behavior, exclude the relevant entries before the concat operation.\n",
      "  en_data = pd.concat([en_data, en_part], axis=0)\n",
      "/tmp/ipykernel_3099892/3284871486.py:19: FutureWarning: The behavior of DataFrame concatenation with empty or all-NA entries is deprecated. In a future version, this will no longer exclude empty or all-NA columns when determining the result dtypes. To retain the old behavior, exclude the relevant entries before the concat operation.\n",
      "  es_data = pd.concat([es_data, es_part], axis=0)\n",
      "/tmp/ipykernel_3099892/3284871486.py:20: FutureWarning: The behavior of DataFrame concatenation with empty or all-NA entries is deprecated. In a future version, this will no longer exclude empty or all-NA columns when determining the result dtypes. To retain the old behavior, exclude the relevant entries before the concat operation.\n",
      "  en_data = pd.concat([en_data, en_part], axis=0)\n",
      "/tmp/ipykernel_3099892/3284871486.py:19: FutureWarning: The behavior of DataFrame concatenation with empty or all-NA entries is deprecated. In a future version, this will no longer exclude empty or all-NA columns when determining the result dtypes. To retain the old behavior, exclude the relevant entries before the concat operation.\n",
      "  es_data = pd.concat([es_data, es_part], axis=0)\n",
      "/tmp/ipykernel_3099892/3284871486.py:20: FutureWarning: The behavior of DataFrame concatenation with empty or all-NA entries is deprecated. In a future version, this will no longer exclude empty or all-NA columns when determining the result dtypes. To retain the old behavior, exclude the relevant entries before the concat operation.\n",
      "  en_data = pd.concat([en_data, en_part], axis=0)\n",
      "/tmp/ipykernel_3099892/3284871486.py:19: FutureWarning: The behavior of DataFrame concatenation with empty or all-NA entries is deprecated. In a future version, this will no longer exclude empty or all-NA columns when determining the result dtypes. To retain the old behavior, exclude the relevant entries before the concat operation.\n",
      "  es_data = pd.concat([es_data, es_part], axis=0)\n",
      "/tmp/ipykernel_3099892/3284871486.py:20: FutureWarning: The behavior of DataFrame concatenation with empty or all-NA entries is deprecated. In a future version, this will no longer exclude empty or all-NA columns when determining the result dtypes. To retain the old behavior, exclude the relevant entries before the concat operation.\n",
      "  en_data = pd.concat([en_data, en_part], axis=0)\n",
      "/tmp/ipykernel_3099892/3284871486.py:19: FutureWarning: The behavior of DataFrame concatenation with empty or all-NA entries is deprecated. In a future version, this will no longer exclude empty or all-NA columns when determining the result dtypes. To retain the old behavior, exclude the relevant entries before the concat operation.\n",
      "  es_data = pd.concat([es_data, es_part], axis=0)\n",
      "/tmp/ipykernel_3099892/3284871486.py:20: FutureWarning: The behavior of DataFrame concatenation with empty or all-NA entries is deprecated. In a future version, this will no longer exclude empty or all-NA columns when determining the result dtypes. To retain the old behavior, exclude the relevant entries before the concat operation.\n",
      "  en_data = pd.concat([en_data, en_part], axis=0)\n",
      "/tmp/ipykernel_3099892/3284871486.py:19: FutureWarning: The behavior of DataFrame concatenation with empty or all-NA entries is deprecated. In a future version, this will no longer exclude empty or all-NA columns when determining the result dtypes. To retain the old behavior, exclude the relevant entries before the concat operation.\n",
      "  es_data = pd.concat([es_data, es_part], axis=0)\n",
      "/tmp/ipykernel_3099892/3284871486.py:20: FutureWarning: The behavior of DataFrame concatenation with empty or all-NA entries is deprecated. In a future version, this will no longer exclude empty or all-NA columns when determining the result dtypes. To retain the old behavior, exclude the relevant entries before the concat operation.\n",
      "  en_data = pd.concat([en_data, en_part], axis=0)\n",
      "/tmp/ipykernel_3099892/3284871486.py:19: FutureWarning: The behavior of DataFrame concatenation with empty or all-NA entries is deprecated. In a future version, this will no longer exclude empty or all-NA columns when determining the result dtypes. To retain the old behavior, exclude the relevant entries before the concat operation.\n",
      "  es_data = pd.concat([es_data, es_part], axis=0)\n",
      "/tmp/ipykernel_3099892/3284871486.py:20: FutureWarning: The behavior of DataFrame concatenation with empty or all-NA entries is deprecated. In a future version, this will no longer exclude empty or all-NA columns when determining the result dtypes. To retain the old behavior, exclude the relevant entries before the concat operation.\n",
      "  en_data = pd.concat([en_data, en_part], axis=0)\n",
      "/tmp/ipykernel_3099892/3284871486.py:19: FutureWarning: The behavior of DataFrame concatenation with empty or all-NA entries is deprecated. In a future version, this will no longer exclude empty or all-NA columns when determining the result dtypes. To retain the old behavior, exclude the relevant entries before the concat operation.\n",
      "  es_data = pd.concat([es_data, es_part], axis=0)\n",
      "/tmp/ipykernel_3099892/3284871486.py:20: FutureWarning: The behavior of DataFrame concatenation with empty or all-NA entries is deprecated. In a future version, this will no longer exclude empty or all-NA columns when determining the result dtypes. To retain the old behavior, exclude the relevant entries before the concat operation.\n",
      "  en_data = pd.concat([en_data, en_part], axis=0)\n",
      "/tmp/ipykernel_3099892/3284871486.py:19: FutureWarning: The behavior of DataFrame concatenation with empty or all-NA entries is deprecated. In a future version, this will no longer exclude empty or all-NA columns when determining the result dtypes. To retain the old behavior, exclude the relevant entries before the concat operation.\n",
      "  es_data = pd.concat([es_data, es_part], axis=0)\n",
      "/tmp/ipykernel_3099892/3284871486.py:20: FutureWarning: The behavior of DataFrame concatenation with empty or all-NA entries is deprecated. In a future version, this will no longer exclude empty or all-NA columns when determining the result dtypes. To retain the old behavior, exclude the relevant entries before the concat operation.\n",
      "  en_data = pd.concat([en_data, en_part], axis=0)\n",
      "/tmp/ipykernel_3099892/3284871486.py:19: FutureWarning: The behavior of DataFrame concatenation with empty or all-NA entries is deprecated. In a future version, this will no longer exclude empty or all-NA columns when determining the result dtypes. To retain the old behavior, exclude the relevant entries before the concat operation.\n",
      "  es_data = pd.concat([es_data, es_part], axis=0)\n",
      "/tmp/ipykernel_3099892/3284871486.py:20: FutureWarning: The behavior of DataFrame concatenation with empty or all-NA entries is deprecated. In a future version, this will no longer exclude empty or all-NA columns when determining the result dtypes. To retain the old behavior, exclude the relevant entries before the concat operation.\n",
      "  en_data = pd.concat([en_data, en_part], axis=0)\n",
      "/tmp/ipykernel_3099892/3284871486.py:19: FutureWarning: The behavior of DataFrame concatenation with empty or all-NA entries is deprecated. In a future version, this will no longer exclude empty or all-NA columns when determining the result dtypes. To retain the old behavior, exclude the relevant entries before the concat operation.\n",
      "  es_data = pd.concat([es_data, es_part], axis=0)\n",
      "/tmp/ipykernel_3099892/3284871486.py:20: FutureWarning: The behavior of DataFrame concatenation with empty or all-NA entries is deprecated. In a future version, this will no longer exclude empty or all-NA columns when determining the result dtypes. To retain the old behavior, exclude the relevant entries before the concat operation.\n",
      "  en_data = pd.concat([en_data, en_part], axis=0)\n",
      "/tmp/ipykernel_3099892/3284871486.py:19: FutureWarning: The behavior of DataFrame concatenation with empty or all-NA entries is deprecated. In a future version, this will no longer exclude empty or all-NA columns when determining the result dtypes. To retain the old behavior, exclude the relevant entries before the concat operation.\n",
      "  es_data = pd.concat([es_data, es_part], axis=0)\n",
      "/tmp/ipykernel_3099892/3284871486.py:20: FutureWarning: The behavior of DataFrame concatenation with empty or all-NA entries is deprecated. In a future version, this will no longer exclude empty or all-NA columns when determining the result dtypes. To retain the old behavior, exclude the relevant entries before the concat operation.\n",
      "  en_data = pd.concat([en_data, en_part], axis=0)\n",
      "/tmp/ipykernel_3099892/3284871486.py:19: FutureWarning: The behavior of DataFrame concatenation with empty or all-NA entries is deprecated. In a future version, this will no longer exclude empty or all-NA columns when determining the result dtypes. To retain the old behavior, exclude the relevant entries before the concat operation.\n",
      "  es_data = pd.concat([es_data, es_part], axis=0)\n",
      "/tmp/ipykernel_3099892/3284871486.py:20: FutureWarning: The behavior of DataFrame concatenation with empty or all-NA entries is deprecated. In a future version, this will no longer exclude empty or all-NA columns when determining the result dtypes. To retain the old behavior, exclude the relevant entries before the concat operation.\n",
      "  en_data = pd.concat([en_data, en_part], axis=0)\n",
      "/tmp/ipykernel_3099892/3284871486.py:19: FutureWarning: The behavior of DataFrame concatenation with empty or all-NA entries is deprecated. In a future version, this will no longer exclude empty or all-NA columns when determining the result dtypes. To retain the old behavior, exclude the relevant entries before the concat operation.\n",
      "  es_data = pd.concat([es_data, es_part], axis=0)\n",
      "/tmp/ipykernel_3099892/3284871486.py:20: FutureWarning: The behavior of DataFrame concatenation with empty or all-NA entries is deprecated. In a future version, this will no longer exclude empty or all-NA columns when determining the result dtypes. To retain the old behavior, exclude the relevant entries before the concat operation.\n",
      "  en_data = pd.concat([en_data, en_part], axis=0)\n",
      "/tmp/ipykernel_3099892/3284871486.py:19: FutureWarning: The behavior of DataFrame concatenation with empty or all-NA entries is deprecated. In a future version, this will no longer exclude empty or all-NA columns when determining the result dtypes. To retain the old behavior, exclude the relevant entries before the concat operation.\n",
      "  es_data = pd.concat([es_data, es_part], axis=0)\n",
      "/tmp/ipykernel_3099892/3284871486.py:20: FutureWarning: The behavior of DataFrame concatenation with empty or all-NA entries is deprecated. In a future version, this will no longer exclude empty or all-NA columns when determining the result dtypes. To retain the old behavior, exclude the relevant entries before the concat operation.\n",
      "  en_data = pd.concat([en_data, en_part], axis=0)\n",
      "/tmp/ipykernel_3099892/3284871486.py:19: FutureWarning: The behavior of DataFrame concatenation with empty or all-NA entries is deprecated. In a future version, this will no longer exclude empty or all-NA columns when determining the result dtypes. To retain the old behavior, exclude the relevant entries before the concat operation.\n",
      "  es_data = pd.concat([es_data, es_part], axis=0)\n",
      "/tmp/ipykernel_3099892/3284871486.py:20: FutureWarning: The behavior of DataFrame concatenation with empty or all-NA entries is deprecated. In a future version, this will no longer exclude empty or all-NA columns when determining the result dtypes. To retain the old behavior, exclude the relevant entries before the concat operation.\n",
      "  en_data = pd.concat([en_data, en_part], axis=0)\n",
      "/tmp/ipykernel_3099892/3284871486.py:19: FutureWarning: The behavior of DataFrame concatenation with empty or all-NA entries is deprecated. In a future version, this will no longer exclude empty or all-NA columns when determining the result dtypes. To retain the old behavior, exclude the relevant entries before the concat operation.\n",
      "  es_data = pd.concat([es_data, es_part], axis=0)\n",
      "/tmp/ipykernel_3099892/3284871486.py:20: FutureWarning: The behavior of DataFrame concatenation with empty or all-NA entries is deprecated. In a future version, this will no longer exclude empty or all-NA columns when determining the result dtypes. To retain the old behavior, exclude the relevant entries before the concat operation.\n",
      "  en_data = pd.concat([en_data, en_part], axis=0)\n",
      "/tmp/ipykernel_3099892/3284871486.py:19: FutureWarning: The behavior of DataFrame concatenation with empty or all-NA entries is deprecated. In a future version, this will no longer exclude empty or all-NA columns when determining the result dtypes. To retain the old behavior, exclude the relevant entries before the concat operation.\n",
      "  es_data = pd.concat([es_data, es_part], axis=0)\n",
      "/tmp/ipykernel_3099892/3284871486.py:20: FutureWarning: The behavior of DataFrame concatenation with empty or all-NA entries is deprecated. In a future version, this will no longer exclude empty or all-NA columns when determining the result dtypes. To retain the old behavior, exclude the relevant entries before the concat operation.\n",
      "  en_data = pd.concat([en_data, en_part], axis=0)\n",
      "/tmp/ipykernel_3099892/3284871486.py:19: FutureWarning: The behavior of DataFrame concatenation with empty or all-NA entries is deprecated. In a future version, this will no longer exclude empty or all-NA columns when determining the result dtypes. To retain the old behavior, exclude the relevant entries before the concat operation.\n",
      "  es_data = pd.concat([es_data, es_part], axis=0)\n",
      "/tmp/ipykernel_3099892/3284871486.py:20: FutureWarning: The behavior of DataFrame concatenation with empty or all-NA entries is deprecated. In a future version, this will no longer exclude empty or all-NA columns when determining the result dtypes. To retain the old behavior, exclude the relevant entries before the concat operation.\n",
      "  en_data = pd.concat([en_data, en_part], axis=0)\n"
     ]
    }
   ],
   "source": [
    "es_data = pd.DataFrame()\n",
    "en_data = pd.DataFrame()\n",
    "\n",
    "for part in range(21, 36):\n",
    "    folder = f\"part_{part}/\"\n",
    "    files = os.listdir(folder)\n",
    "    \n",
    "    for file in files:\n",
    "        if file.endswith(\".csv\"):  \n",
    "            filepath = os.path.join(folder, file)\n",
    "            data_part = pd.read_csv(filepath, low_memory=False)\n",
    "            \n",
    "            es_part = data_part[data_part['lang'] == 'es']\n",
    "            es_size = es_part.shape[0]\n",
    "            \n",
    "            if es_size > 0:\n",
    "                en_part = data_part[data_part['lang'] == 'en'].sample(es_size, random_state=442)\n",
    "                \n",
    "                es_data = pd.concat([es_data, es_part], axis=0) \n",
    "                en_data = pd.concat([en_data, en_part], axis=0)\n",
    "\n",
    "es_data.reset_index(drop=True, inplace=True)\n",
    "en_data.reset_index(drop=True, inplace=True)"
   ]
  },
  {
   "cell_type": "code",
   "execution_count": 3,
   "id": "58dc288d-3f30-48ec-b8b7-498105508e9a",
   "metadata": {},
   "outputs": [
    {
     "name": "stdout",
     "output_type": "stream",
     "text": [
      "English tweets raw count:  215882 \n",
      "Spanish tweets raw count:  215882\n"
     ]
    }
   ],
   "source": [
    "print(\"English tweets raw count: \", en_data.shape[0], \"\\nSpanish tweets raw count: \", es_data.shape[0])"
   ]
  },
  {
   "cell_type": "code",
   "execution_count": 12,
   "id": "38e46e6a-476b-4d2e-861b-d77b94cf9007",
   "metadata": {},
   "outputs": [
    {
     "data": {
      "text/plain": [
       "370443"
      ]
     },
     "execution_count": 12,
     "metadata": {},
     "output_type": "execute_result"
    }
   ],
   "source": [
    "en_data.retweetedUserID.isna().sum()"
   ]
  },
  {
   "cell_type": "code",
   "execution_count": 13,
   "id": "9d204ff8-06d3-4674-ab51-9a1c35639818",
   "metadata": {},
   "outputs": [
    {
     "data": {
      "text/plain": [
       "371113"
      ]
     },
     "execution_count": 13,
     "metadata": {},
     "output_type": "execute_result"
    }
   ],
   "source": [
    "es_data.retweetedUserID.isna().sum()"
   ]
  },
  {
   "cell_type": "code",
   "execution_count": 4,
   "id": "459d6286-8638-4b9c-8ae3-05bf7947cfda",
   "metadata": {},
   "outputs": [
    {
     "data": {
      "text/plain": [
       "Index(['id', 'text', 'url', 'epoch', 'media', 'retweetedTweet',\n",
       "       'retweetedTweetID', 'retweetedUserID', 'id_str', 'lang', 'rawContent',\n",
       "       'replyCount', 'retweetCount', 'likeCount', 'quoteCount',\n",
       "       'conversationId', 'conversationIdStr', 'hashtags', 'mentionedUsers',\n",
       "       'links', 'viewCount', 'quotedTweet', 'in_reply_to_screen_name',\n",
       "       'in_reply_to_status_id_str', 'in_reply_to_user_id_str', 'location',\n",
       "       'cash_app_handle', 'user', 'date', '_type', 'type', 'username', '0'],\n",
       "      dtype='object')"
      ]
     },
     "execution_count": 4,
     "metadata": {},
     "output_type": "execute_result"
    }
   ],
   "source": [
    "es_data.columns"
   ]
  },
  {
   "cell_type": "code",
   "execution_count": 5,
   "id": "57302a30-f899-43d1-8012-644c42fccc41",
   "metadata": {},
   "outputs": [],
   "source": [
    "# Keep relevant and non-empty columns\n",
    "columns_to_keep = [\n",
    "    'id', 'text', 'lang', 'epoch', 'hashtags', 'links', \n",
    "    'replyCount', 'retweetCount', 'likeCount', 'quoteCount', \n",
    "    'conversationId', 'mentionedUsers', 'user'\n",
    "]"
   ]
  },
  {
   "cell_type": "code",
   "execution_count": 6,
   "id": "8cfcf623-e53f-4f08-b1f9-404af6ff51d9",
   "metadata": {},
   "outputs": [],
   "source": [
    "en_data = en_data[columns_to_keep]\n",
    "es_data = es_data[columns_to_keep]\n"
   ]
  },
  {
   "cell_type": "code",
   "execution_count": 7,
   "id": "31d48699-010f-45ac-bda1-4bacb9d10cec",
   "metadata": {},
   "outputs": [],
   "source": [
    "def user_to_dict(user):\n",
    "    try:\n",
    "        # User metadata interested in\n",
    "        user_metadata = ['id_str', 'followersCount', 'friendsCount', 'statusesCount']\n",
    "        \n",
    "        metadata_dict = {}\n",
    "        \n",
    "        for metadata in user_metadata:\n",
    "            pattern = rf\"'{metadata}':\\s*('[^']*'|\\d+|True|False|None)\"\n",
    "            match = re.search(pattern, user)\n",
    "            \n",
    "            if match:\n",
    "                metadata_dict[metadata] = match.group(1)  # Extract the matched value\n",
    "            else:\n",
    "                metadata_dict[metadata] = None\n",
    "        \n",
    "        return metadata_dict\n",
    "    \n",
    "    except Exception as e:\n",
    "        print(\"Error occurred:\", e)\n",
    "        print(\"User data:\", user)\n",
    "        raise"
   ]
  },
  {
   "cell_type": "code",
   "execution_count": 8,
   "id": "7268721b-2f9a-4fab-8849-27da37b1ae4a",
   "metadata": {},
   "outputs": [],
   "source": [
    "en_data['user'] = en_data['user'].apply(user_to_dict)\n",
    "es_data['user'] = es_data['user'].apply(user_to_dict)\n"
   ]
  },
  {
   "cell_type": "code",
   "execution_count": 9,
   "id": "e2c2e7d9-e57a-41ef-bf29-b2f085a2c9fb",
   "metadata": {},
   "outputs": [],
   "source": [
    "# Flatten user metadata into separate columns\n",
    "user_metadata = ['id_str', 'followersCount', 'friendsCount', 'statusesCount']\n",
    "for meta in user_metadata:\n",
    "    en_data[meta] = en_data['user'].apply(lambda x: x.get(meta))\n",
    "    es_data[meta] = es_data['user'].apply(lambda x: x.get(meta))\n",
    "\n"
   ]
  },
  {
   "cell_type": "code",
   "execution_count": 10,
   "id": "7dfb22b7-0aee-4cc8-88e8-35217c4c6c03",
   "metadata": {},
   "outputs": [],
   "source": [
    "en_data.drop(columns=['user'], inplace=True)\n",
    "es_data.drop(columns=['user'], inplace=True)\n"
   ]
  },
  {
   "cell_type": "code",
   "execution_count": 11,
   "id": "b66a6839-0ecd-4aa3-8dbe-f64dc27fe1c5",
   "metadata": {},
   "outputs": [],
   "source": [
    "def convert_format(field):\n",
    "    return ast.literal_eval(field)\n",
    "\n",
    "# Convert string representation of lists into lists\n",
    "en_data['hashtags'] = en_data['hashtags'].apply(convert_format)\n",
    "en_data['links'] = en_data['links'].apply(convert_format)\n",
    "en_data['mentionedUsers'] = en_data['mentionedUsers'].apply(convert_format)\n",
    "\n",
    "es_data['hashtags'] = es_data['hashtags'].apply(convert_format)\n",
    "es_data['links'] = es_data['links'].apply(convert_format)\n",
    "es_data['mentionedUsers'] = es_data['mentionedUsers'].apply(convert_format)\n"
   ]
  },
  {
   "cell_type": "code",
   "execution_count": 13,
   "id": "e418523f-7787-4640-87f2-5db851c52b7a",
   "metadata": {},
   "outputs": [],
   "source": [
    "en = pd.read_csv(\"en.csv\")\n",
    "es = pd.read_csv(\"es.csv\")\n"
   ]
  },
  {
   "cell_type": "code",
   "execution_count": 29,
   "id": "c543e9e1-8a7c-4ef2-ad51-e7815e76bd01",
   "metadata": {},
   "outputs": [],
   "source": [
    "# en['hashtags'] = en['hashtags'].apply(convert_format)\n",
    "# en['links'] = en['links'].apply(convert_format)\n",
    "# en['mentionedUsers'] = en['mentionedUsers'].apply(convert_format)\n",
    "\n",
    "# es['hashtags'] = es['hashtags'].apply(convert_format)\n",
    "# es['links'] = es['links'].apply(convert_format)\n",
    "# es['mentionedUsers'] = es['mentionedUsers'].apply(convert_format)\n"
   ]
  },
  {
   "cell_type": "code",
   "execution_count": 30,
   "id": "d23d0ab3-b2bc-4aac-8dfc-c254d1e9fb12",
   "metadata": {},
   "outputs": [],
   "source": [
    "en_combined = pd.concat([en, en_data], ignore_index=True)\n",
    "es_combined = pd.concat([es, es_data], ignore_index=True)\n"
   ]
  },
  {
   "cell_type": "code",
   "execution_count": 2,
   "id": "673023f3-0131-423f-8a8f-97deb36dadea",
   "metadata": {},
   "outputs": [],
   "source": [
    "# en_combined = pd.read_csv(\"en_combined.csv\")\n",
    "# es_combined = pd.read_csv(\"es_combined.csv\")\n"
   ]
  },
  {
   "cell_type": "code",
   "execution_count": 3,
   "id": "12268531-3102-471a-a2b1-56eb1fc59d51",
   "metadata": {},
   "outputs": [],
   "source": [
    "# def convert_format(field):\n",
    "#     return ast.literal_eval(field)\n",
    "\n",
    "# # Convert string representation of lists into lists\n",
    "# en_combined['hashtags'] = en_combined['hashtags'].apply(convert_format)\n",
    "# en_combined['links'] = en_combined['links'].apply(convert_format)\n",
    "# en_combined['mentionedUsers'] = en_combined['mentionedUsers'].apply(convert_format)\n",
    "\n",
    "# es_combined['hashtags'] = es_combined['hashtags'].apply(convert_format)\n",
    "# es_combined['links'] = es_combined['links'].apply(convert_format)\n",
    "# es_combined['mentionedUsers'] = es_combined['mentionedUsers'].apply(convert_format)\n"
   ]
  },
  {
   "cell_type": "code",
   "execution_count": 4,
   "id": "e154c80d-49d0-48ac-b1c8-b83fec0dae38",
   "metadata": {},
   "outputs": [
    {
     "data": {
      "text/plain": [
       "(588839, 16)"
      ]
     },
     "execution_count": 4,
     "metadata": {},
     "output_type": "execute_result"
    }
   ],
   "source": [
    "en_combined.shape"
   ]
  },
  {
   "cell_type": "code",
   "execution_count": 35,
   "id": "7a40e018-2e21-47ae-bd23-5923f382782b",
   "metadata": {},
   "outputs": [],
   "source": [
    "# en_combined.to_csv(\"en_combined.csv\",index=False)\n",
    "# es_combined.to_csv(\"es_combined.csv\",index=False)\n"
   ]
  },
  {
   "cell_type": "markdown",
   "id": "4584d43d-8fda-4315-9bdf-a772510b6bd3",
   "metadata": {},
   "source": [
    "### 2. Data exploration"
   ]
  },
  {
   "cell_type": "markdown",
   "id": "48324fdb-2eba-49d6-b99e-653ac9ce3e56",
   "metadata": {},
   "source": [
    "#### 2.1 Popular hashtags"
   ]
  },
  {
   "cell_type": "code",
   "execution_count": 17,
   "id": "421fa7d1-fbc1-422b-b74f-b5f81577355a",
   "metadata": {},
   "outputs": [],
   "source": [
    "from collections import Counter\n",
    "\n",
    "en_tags = []\n",
    "es_tags = []\n",
    "\n",
    "for hashtags in en_combined['hashtags']:\n",
    "    if len(hashtags):\n",
    "        en_tags.extend(tag['text'].lower() for tag in hashtags if 'text' in tag)\n",
    "        \n",
    "for hashtags in es_combined['hashtags']:\n",
    "    if len(hashtags):\n",
    "        es_tags.extend(tag['text'].lower() for tag in hashtags if 'text' in tag)\n",
    "        \n",
    "en_tag_freq = Counter(en_tags)\n",
    "es_tag_freq = Counter(es_tags)"
   ]
  },
  {
   "cell_type": "code",
   "execution_count": 18,
   "id": "e732c009-b3e9-4d66-9e95-dd9fa07bfce7",
   "metadata": {},
   "outputs": [
    {
     "data": {
      "text/plain": [
       "113855"
      ]
     },
     "execution_count": 18,
     "metadata": {},
     "output_type": "execute_result"
    }
   ],
   "source": [
    "sum(en_tag_freq.values()) "
   ]
  },
  {
   "cell_type": "code",
   "execution_count": 19,
   "id": "f43bff2b-1158-4d30-a24a-3202168767d5",
   "metadata": {},
   "outputs": [
    {
     "data": {
      "text/plain": [
       "168281"
      ]
     },
     "execution_count": 19,
     "metadata": {},
     "output_type": "execute_result"
    }
   ],
   "source": [
    "sum(es_tag_freq.values()) "
   ]
  },
  {
   "cell_type": "code",
   "execution_count": 40,
   "id": "c00588ef-6100-436b-8acc-506ced048d6f",
   "metadata": {},
   "outputs": [
    {
     "name": "stdout",
     "output_type": "stream",
     "text": [
      "\n",
      "Top 10 English Tags by Frequency:\n",
      "trump2024 10499\n",
      "maga 8441\n",
      "trump 4553\n",
      "biden 3382\n",
      "bidenharris2024 1391\n",
      "donaldtrump 1124\n",
      "kamalaharris 934\n",
      "gop 863\n",
      "usa 734\n",
      "joebiden 733\n",
      "\n",
      "Top 10 Spanish Tags by Frequency:\n",
      "biden 7163\n",
      "trump2024 6260\n",
      "trump 6194\n",
      "eeuu 4457\n",
      "maga 3211\n",
      "mundo 2941\n",
      "donaldtrump 2700\n",
      "internacional 2509\n",
      "estadosunidos 2252\n",
      "usa 2159\n"
     ]
    }
   ],
   "source": [
    "# total_en_tags = sum(en_tag_freq.values())  \n",
    "# total_es_tags = sum(es_tag_freq.values())  \n",
    "\n",
    "# en_tag_percent = Counter({tag: (count / total_en_tags) * 100 for tag, count in en_tag_freq.items()})\n",
    "# es_tag_percent = Counter({tag: (count / total_es_tags) * 100 for tag, count in es_tag_freq.items()})\n",
    "\n",
    "print(\"\\nTop 10 English Tags by Frequency:\")\n",
    "for tag, frequency in en_tag_freq.most_common(10):\n",
    "    print(f\"{tag} {frequency}\")\n",
    "\n",
    "print(\"\\nTop 10 Spanish Tags by Frequency:\")\n",
    "for tag, frequency in es_tag_freq.most_common(10):\n",
    "    print(f\"{tag} {frequency}\")"
   ]
  },
  {
   "cell_type": "markdown",
   "id": "d9a2ff2c-22a4-4033-9404-dccff7b8f15b",
   "metadata": {},
   "source": [
    "#### 2.2 Popular domains"
   ]
  },
  {
   "cell_type": "code",
   "execution_count": 6,
   "id": "cdcc7864-414e-41e2-afc0-478c550f2976",
   "metadata": {},
   "outputs": [
    {
     "name": "stdout",
     "output_type": "stream",
     "text": [
      "['dailymail.co.uk', 'cnn.com', 'example.co.uk']\n"
     ]
    }
   ],
   "source": [
    "import tldextract\n",
    "\n",
    "def extract_base_domain(url):\n",
    "    extracted = tldextract.extract(url)\n",
    "    return f\"{extracted.domain}.{extracted.suffix}\"\n"
   ]
  },
  {
   "cell_type": "code",
   "execution_count": 21,
   "id": "ea6967ac-3d39-4957-92ca-28fabe8bf805",
   "metadata": {},
   "outputs": [],
   "source": [
    "from collections import Counter\n",
    "\n",
    "en_links = []\n",
    "es_links = []\n",
    "\n",
    "for links in en_combined['links']:\n",
    "    if len(links):\n",
    "        en_links.extend(extract_base_domain(link['expanded_url']) for link in links if 'expanded_url' in link)\n",
    "        \n",
    "for links in es_combined['links']:\n",
    "    if len(links):\n",
    "        es_links.extend(extract_base_domain(link['expanded_url']) for link in links if 'expanded_url' in link)\n",
    "        \n",
    "en_link_freq = Counter(en_links)\n",
    "es_link_freq = Counter(es_links)"
   ]
  },
  {
   "cell_type": "code",
   "execution_count": 13,
   "id": "602f3241-d532-4536-996b-9033b1d49b59",
   "metadata": {},
   "outputs": [
    {
     "name": "stdout",
     "output_type": "stream",
     "text": [
      "Total domains shared in English data: 5847. Total domains shared in Spanish data: 6543\n"
     ]
    }
   ],
   "source": [
    "total_en_links = sum(en_link_freq.values())  \n",
    "total_es_links = sum(es_link_freq.values())  \n",
    "print(f\"Total domains shared in English data: {total_en_links}. Total domains shared in Spanish data: {total_es_links}\")"
   ]
  },
  {
   "cell_type": "code",
   "execution_count": 23,
   "id": "ffcdaabf-b97b-411a-b607-7eae8ce47299",
   "metadata": {},
   "outputs": [
    {
     "name": "stdout",
     "output_type": "stream",
     "text": [
      "\n",
      "Top 10 English domains by Frequency:\n",
      "youtu.be 5155\n",
      "x.com 3576\n",
      "youtube.com 3003\n",
      "dlvr.it 2258\n",
      "foxnews.com 1887\n",
      "breitbart.com 1407\n",
      "trib.al 1341\n",
      "msn.com 1126\n",
      "smartnews.com 1118\n",
      "newsbreak.com 1118\n",
      "\n",
      "Top 10 Spanish domains by Frequency:\n",
      "dlvr.it 7524\n",
      "youtu.be 6001\n",
      "youtube.com 3882\n",
      "x.com 3355\n",
      "bit.ly 3128\n",
      "elpais.com 2349\n",
      "buff.ly 2341\n",
      "ift.tt 2223\n",
      "ow.ly 1804\n",
      "tinyurl.com 1755\n",
      "short.gy 1572\n",
      "trib.al 1354\n",
      "acortar.link 1286\n",
      "infobae.com 1220\n",
      "rt.com 1088\n",
      "clarin.com 1076\n",
      "univision.com 1031\n",
      "cnn.com 952\n",
      "venezuela-news.com 799\n",
      "uni.vi 781\n"
     ]
    }
   ],
   "source": [
    "# total_en_links = sum(en_link_freq.values())  \n",
    "# total_es_links = sum(es_link_freq.values())  \n",
    "\n",
    "# en_link_percent = Counter({link: (count / total_en_links) * 100 for link, count in en_link_freq.items()})\n",
    "# es_link_percent = Counter({link: (count / total_es_links) * 100 for link, count in es_link_freq.items()})\n",
    "\n",
    "print(\"\\nTop 10 English domains by Frequency:\")\n",
    "for link, freq in en_link_freq.most_common(10):\n",
    "    print(f\"{link} {freq}\")\n",
    "\n",
    "print(\"\\nTop 10 Spanish domains by Frequency:\")\n",
    "for link, freq in es_link_freq.most_common(20):\n",
    "    print(f\"{link} {freq}\")"
   ]
  },
  {
   "cell_type": "code",
   "execution_count": 44,
   "id": "d5da7cb1-9f16-43fe-8fae-fdf622ce2d6c",
   "metadata": {},
   "outputs": [
    {
     "name": "stdout",
     "output_type": "stream",
     "text": [
      "Unqiue users for downsampled English data: 146639\n"
     ]
    }
   ],
   "source": [
    "print(\"Unqiue users for downsampled English data:\",len(set(en_data['id_str']) ))"
   ]
  },
  {
   "cell_type": "code",
   "execution_count": 45,
   "id": "30ace936-c78c-4a50-8c70-f8eb20438537",
   "metadata": {},
   "outputs": [
    {
     "name": "stdout",
     "output_type": "stream",
     "text": [
      "Unqiue users for downsampled Spanish data: 83622\n"
     ]
    }
   ],
   "source": [
    "print(\"Unqiue users for downsampled Spanish data:\",len(set(es_data['id_str'])))"
   ]
  },
  {
   "cell_type": "markdown",
   "id": "67d45ccb-d616-4aaa-88b2-a1aafbbb23ce",
   "metadata": {},
   "source": [
    "#### Check the amount of bilingual posters (case study)"
   ]
  },
  {
   "cell_type": "code",
   "execution_count": 49,
   "id": "f1756855-fc9c-4f2b-8fbc-2c189b4be4a6",
   "metadata": {},
   "outputs": [],
   "source": [
    "users_en = set(en_combined['id_str'])  \n",
    "users_es = set(es_combined['id_str'])\n",
    "\n",
    "bilingual_posters = users_en.intersection(users_es)\n",
    "\n",
    "bilingual_posters = list(bilingual_posters)\n",
    "\n"
   ]
  },
  {
   "cell_type": "code",
   "execution_count": 50,
   "id": "8c57cf32-e5c3-4c77-8d9c-336df37159b6",
   "metadata": {},
   "outputs": [
    {
     "name": "stdout",
     "output_type": "stream",
     "text": [
      "13864 users posted in English and Spanish\n"
     ]
    }
   ],
   "source": [
    "print(len(bilingual_posters), \"users posted in English and Spanish\")"
   ]
  },
  {
   "cell_type": "code",
   "execution_count": 25,
   "id": "0b85e4f8-0cce-4b7a-91b9-f05ee890b8c0",
   "metadata": {},
   "outputs": [],
   "source": [
    "# en_data.to_csv(\"en.csv\", index=False)\n",
    "# es_data.to_csv(\"es.csv\", index=False)"
   ]
  },
  {
   "cell_type": "code",
   "execution_count": null,
   "id": "8c748866-1d6c-4ea4-a616-b546ef55c9c3",
   "metadata": {},
   "outputs": [],
   "source": []
  }
 ],
 "metadata": {
  "kernelspec": {
   "display_name": "Python 3 (ipykernel)",
   "language": "python",
   "name": "python3"
  },
  "language_info": {
   "codemirror_mode": {
    "name": "ipython",
    "version": 3
   },
   "file_extension": ".py",
   "mimetype": "text/x-python",
   "name": "python",
   "nbconvert_exporter": "python",
   "pygments_lexer": "ipython3",
   "version": "3.11.7"
  }
 },
 "nbformat": 4,
 "nbformat_minor": 5
}
