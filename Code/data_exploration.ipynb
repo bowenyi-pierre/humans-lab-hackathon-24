{
 "cells": [
  {
   "cell_type": "code",
   "execution_count": 1,
   "id": "89474fc0-8fc4-4cbc-a5c9-6e1aa1153ad5",
   "metadata": {},
   "outputs": [],
   "source": [
    "import pandas as pd\n",
    "import os\n",
    "import json\n",
    "import re\n",
    "import ast\n"
   ]
  },
  {
   "cell_type": "markdown",
   "id": "d3651e40-50e5-4999-b42d-4127715b5412",
   "metadata": {},
   "source": [
    "### 1. Preprocessing"
   ]
  },
  {
   "cell_type": "code",
   "execution_count": 2,
   "id": "6cda1dec-978a-458f-bc58-d04e21960577",
   "metadata": {},
   "outputs": [
    {
     "name": "stderr",
     "output_type": "stream",
     "text": [
      "/tmp/ipykernel_3471238/602120242.py:19: FutureWarning: The behavior of DataFrame concatenation with empty or all-NA entries is deprecated. In a future version, this will no longer exclude empty or all-NA columns when determining the result dtypes. To retain the old behavior, exclude the relevant entries before the concat operation.\n",
      "  es_data = pd.concat([es_data, es_part], axis=0)\n",
      "/tmp/ipykernel_3471238/602120242.py:20: FutureWarning: The behavior of DataFrame concatenation with empty or all-NA entries is deprecated. In a future version, this will no longer exclude empty or all-NA columns when determining the result dtypes. To retain the old behavior, exclude the relevant entries before the concat operation.\n",
      "  en_data = pd.concat([en_data, en_part], axis=0)\n",
      "/tmp/ipykernel_3471238/602120242.py:19: FutureWarning: The behavior of DataFrame concatenation with empty or all-NA entries is deprecated. In a future version, this will no longer exclude empty or all-NA columns when determining the result dtypes. To retain the old behavior, exclude the relevant entries before the concat operation.\n",
      "  es_data = pd.concat([es_data, es_part], axis=0)\n",
      "/tmp/ipykernel_3471238/602120242.py:20: FutureWarning: The behavior of DataFrame concatenation with empty or all-NA entries is deprecated. In a future version, this will no longer exclude empty or all-NA columns when determining the result dtypes. To retain the old behavior, exclude the relevant entries before the concat operation.\n",
      "  en_data = pd.concat([en_data, en_part], axis=0)\n",
      "/tmp/ipykernel_3471238/602120242.py:19: FutureWarning: The behavior of DataFrame concatenation with empty or all-NA entries is deprecated. In a future version, this will no longer exclude empty or all-NA columns when determining the result dtypes. To retain the old behavior, exclude the relevant entries before the concat operation.\n",
      "  es_data = pd.concat([es_data, es_part], axis=0)\n",
      "/tmp/ipykernel_3471238/602120242.py:20: FutureWarning: The behavior of DataFrame concatenation with empty or all-NA entries is deprecated. In a future version, this will no longer exclude empty or all-NA columns when determining the result dtypes. To retain the old behavior, exclude the relevant entries before the concat operation.\n",
      "  en_data = pd.concat([en_data, en_part], axis=0)\n",
      "/tmp/ipykernel_3471238/602120242.py:19: FutureWarning: The behavior of DataFrame concatenation with empty or all-NA entries is deprecated. In a future version, this will no longer exclude empty or all-NA columns when determining the result dtypes. To retain the old behavior, exclude the relevant entries before the concat operation.\n",
      "  es_data = pd.concat([es_data, es_part], axis=0)\n",
      "/tmp/ipykernel_3471238/602120242.py:20: FutureWarning: The behavior of DataFrame concatenation with empty or all-NA entries is deprecated. In a future version, this will no longer exclude empty or all-NA columns when determining the result dtypes. To retain the old behavior, exclude the relevant entries before the concat operation.\n",
      "  en_data = pd.concat([en_data, en_part], axis=0)\n",
      "/tmp/ipykernel_3471238/602120242.py:19: FutureWarning: The behavior of DataFrame concatenation with empty or all-NA entries is deprecated. In a future version, this will no longer exclude empty or all-NA columns when determining the result dtypes. To retain the old behavior, exclude the relevant entries before the concat operation.\n",
      "  es_data = pd.concat([es_data, es_part], axis=0)\n",
      "/tmp/ipykernel_3471238/602120242.py:20: FutureWarning: The behavior of DataFrame concatenation with empty or all-NA entries is deprecated. In a future version, this will no longer exclude empty or all-NA columns when determining the result dtypes. To retain the old behavior, exclude the relevant entries before the concat operation.\n",
      "  en_data = pd.concat([en_data, en_part], axis=0)\n",
      "/tmp/ipykernel_3471238/602120242.py:19: FutureWarning: The behavior of DataFrame concatenation with empty or all-NA entries is deprecated. In a future version, this will no longer exclude empty or all-NA columns when determining the result dtypes. To retain the old behavior, exclude the relevant entries before the concat operation.\n",
      "  es_data = pd.concat([es_data, es_part], axis=0)\n",
      "/tmp/ipykernel_3471238/602120242.py:20: FutureWarning: The behavior of DataFrame concatenation with empty or all-NA entries is deprecated. In a future version, this will no longer exclude empty or all-NA columns when determining the result dtypes. To retain the old behavior, exclude the relevant entries before the concat operation.\n",
      "  en_data = pd.concat([en_data, en_part], axis=0)\n",
      "/tmp/ipykernel_3471238/602120242.py:19: FutureWarning: The behavior of DataFrame concatenation with empty or all-NA entries is deprecated. In a future version, this will no longer exclude empty or all-NA columns when determining the result dtypes. To retain the old behavior, exclude the relevant entries before the concat operation.\n",
      "  es_data = pd.concat([es_data, es_part], axis=0)\n",
      "/tmp/ipykernel_3471238/602120242.py:20: FutureWarning: The behavior of DataFrame concatenation with empty or all-NA entries is deprecated. In a future version, this will no longer exclude empty or all-NA columns when determining the result dtypes. To retain the old behavior, exclude the relevant entries before the concat operation.\n",
      "  en_data = pd.concat([en_data, en_part], axis=0)\n",
      "/tmp/ipykernel_3471238/602120242.py:19: FutureWarning: The behavior of DataFrame concatenation with empty or all-NA entries is deprecated. In a future version, this will no longer exclude empty or all-NA columns when determining the result dtypes. To retain the old behavior, exclude the relevant entries before the concat operation.\n",
      "  es_data = pd.concat([es_data, es_part], axis=0)\n",
      "/tmp/ipykernel_3471238/602120242.py:20: FutureWarning: The behavior of DataFrame concatenation with empty or all-NA entries is deprecated. In a future version, this will no longer exclude empty or all-NA columns when determining the result dtypes. To retain the old behavior, exclude the relevant entries before the concat operation.\n",
      "  en_data = pd.concat([en_data, en_part], axis=0)\n",
      "/tmp/ipykernel_3471238/602120242.py:19: FutureWarning: The behavior of DataFrame concatenation with empty or all-NA entries is deprecated. In a future version, this will no longer exclude empty or all-NA columns when determining the result dtypes. To retain the old behavior, exclude the relevant entries before the concat operation.\n",
      "  es_data = pd.concat([es_data, es_part], axis=0)\n",
      "/tmp/ipykernel_3471238/602120242.py:20: FutureWarning: The behavior of DataFrame concatenation with empty or all-NA entries is deprecated. In a future version, this will no longer exclude empty or all-NA columns when determining the result dtypes. To retain the old behavior, exclude the relevant entries before the concat operation.\n",
      "  en_data = pd.concat([en_data, en_part], axis=0)\n",
      "/tmp/ipykernel_3471238/602120242.py:19: FutureWarning: The behavior of DataFrame concatenation with empty or all-NA entries is deprecated. In a future version, this will no longer exclude empty or all-NA columns when determining the result dtypes. To retain the old behavior, exclude the relevant entries before the concat operation.\n",
      "  es_data = pd.concat([es_data, es_part], axis=0)\n",
      "/tmp/ipykernel_3471238/602120242.py:20: FutureWarning: The behavior of DataFrame concatenation with empty or all-NA entries is deprecated. In a future version, this will no longer exclude empty or all-NA columns when determining the result dtypes. To retain the old behavior, exclude the relevant entries before the concat operation.\n",
      "  en_data = pd.concat([en_data, en_part], axis=0)\n",
      "/tmp/ipykernel_3471238/602120242.py:19: FutureWarning: The behavior of DataFrame concatenation with empty or all-NA entries is deprecated. In a future version, this will no longer exclude empty or all-NA columns when determining the result dtypes. To retain the old behavior, exclude the relevant entries before the concat operation.\n",
      "  es_data = pd.concat([es_data, es_part], axis=0)\n",
      "/tmp/ipykernel_3471238/602120242.py:20: FutureWarning: The behavior of DataFrame concatenation with empty or all-NA entries is deprecated. In a future version, this will no longer exclude empty or all-NA columns when determining the result dtypes. To retain the old behavior, exclude the relevant entries before the concat operation.\n",
      "  en_data = pd.concat([en_data, en_part], axis=0)\n",
      "/tmp/ipykernel_3471238/602120242.py:19: FutureWarning: The behavior of DataFrame concatenation with empty or all-NA entries is deprecated. In a future version, this will no longer exclude empty or all-NA columns when determining the result dtypes. To retain the old behavior, exclude the relevant entries before the concat operation.\n",
      "  es_data = pd.concat([es_data, es_part], axis=0)\n",
      "/tmp/ipykernel_3471238/602120242.py:20: FutureWarning: The behavior of DataFrame concatenation with empty or all-NA entries is deprecated. In a future version, this will no longer exclude empty or all-NA columns when determining the result dtypes. To retain the old behavior, exclude the relevant entries before the concat operation.\n",
      "  en_data = pd.concat([en_data, en_part], axis=0)\n",
      "/tmp/ipykernel_3471238/602120242.py:19: FutureWarning: The behavior of DataFrame concatenation with empty or all-NA entries is deprecated. In a future version, this will no longer exclude empty or all-NA columns when determining the result dtypes. To retain the old behavior, exclude the relevant entries before the concat operation.\n",
      "  es_data = pd.concat([es_data, es_part], axis=0)\n",
      "/tmp/ipykernel_3471238/602120242.py:20: FutureWarning: The behavior of DataFrame concatenation with empty or all-NA entries is deprecated. In a future version, this will no longer exclude empty or all-NA columns when determining the result dtypes. To retain the old behavior, exclude the relevant entries before the concat operation.\n",
      "  en_data = pd.concat([en_data, en_part], axis=0)\n",
      "/tmp/ipykernel_3471238/602120242.py:19: FutureWarning: The behavior of DataFrame concatenation with empty or all-NA entries is deprecated. In a future version, this will no longer exclude empty or all-NA columns when determining the result dtypes. To retain the old behavior, exclude the relevant entries before the concat operation.\n",
      "  es_data = pd.concat([es_data, es_part], axis=0)\n",
      "/tmp/ipykernel_3471238/602120242.py:20: FutureWarning: The behavior of DataFrame concatenation with empty or all-NA entries is deprecated. In a future version, this will no longer exclude empty or all-NA columns when determining the result dtypes. To retain the old behavior, exclude the relevant entries before the concat operation.\n",
      "  en_data = pd.concat([en_data, en_part], axis=0)\n",
      "/tmp/ipykernel_3471238/602120242.py:19: FutureWarning: The behavior of DataFrame concatenation with empty or all-NA entries is deprecated. In a future version, this will no longer exclude empty or all-NA columns when determining the result dtypes. To retain the old behavior, exclude the relevant entries before the concat operation.\n",
      "  es_data = pd.concat([es_data, es_part], axis=0)\n",
      "/tmp/ipykernel_3471238/602120242.py:20: FutureWarning: The behavior of DataFrame concatenation with empty or all-NA entries is deprecated. In a future version, this will no longer exclude empty or all-NA columns when determining the result dtypes. To retain the old behavior, exclude the relevant entries before the concat operation.\n",
      "  en_data = pd.concat([en_data, en_part], axis=0)\n",
      "/tmp/ipykernel_3471238/602120242.py:19: FutureWarning: The behavior of DataFrame concatenation with empty or all-NA entries is deprecated. In a future version, this will no longer exclude empty or all-NA columns when determining the result dtypes. To retain the old behavior, exclude the relevant entries before the concat operation.\n",
      "  es_data = pd.concat([es_data, es_part], axis=0)\n",
      "/tmp/ipykernel_3471238/602120242.py:20: FutureWarning: The behavior of DataFrame concatenation with empty or all-NA entries is deprecated. In a future version, this will no longer exclude empty or all-NA columns when determining the result dtypes. To retain the old behavior, exclude the relevant entries before the concat operation.\n",
      "  en_data = pd.concat([en_data, en_part], axis=0)\n",
      "/tmp/ipykernel_3471238/602120242.py:19: FutureWarning: The behavior of DataFrame concatenation with empty or all-NA entries is deprecated. In a future version, this will no longer exclude empty or all-NA columns when determining the result dtypes. To retain the old behavior, exclude the relevant entries before the concat operation.\n",
      "  es_data = pd.concat([es_data, es_part], axis=0)\n",
      "/tmp/ipykernel_3471238/602120242.py:20: FutureWarning: The behavior of DataFrame concatenation with empty or all-NA entries is deprecated. In a future version, this will no longer exclude empty or all-NA columns when determining the result dtypes. To retain the old behavior, exclude the relevant entries before the concat operation.\n",
      "  en_data = pd.concat([en_data, en_part], axis=0)\n",
      "/tmp/ipykernel_3471238/602120242.py:19: FutureWarning: The behavior of DataFrame concatenation with empty or all-NA entries is deprecated. In a future version, this will no longer exclude empty or all-NA columns when determining the result dtypes. To retain the old behavior, exclude the relevant entries before the concat operation.\n",
      "  es_data = pd.concat([es_data, es_part], axis=0)\n",
      "/tmp/ipykernel_3471238/602120242.py:20: FutureWarning: The behavior of DataFrame concatenation with empty or all-NA entries is deprecated. In a future version, this will no longer exclude empty or all-NA columns when determining the result dtypes. To retain the old behavior, exclude the relevant entries before the concat operation.\n",
      "  en_data = pd.concat([en_data, en_part], axis=0)\n",
      "/tmp/ipykernel_3471238/602120242.py:19: FutureWarning: The behavior of DataFrame concatenation with empty or all-NA entries is deprecated. In a future version, this will no longer exclude empty or all-NA columns when determining the result dtypes. To retain the old behavior, exclude the relevant entries before the concat operation.\n",
      "  es_data = pd.concat([es_data, es_part], axis=0)\n",
      "/tmp/ipykernel_3471238/602120242.py:20: FutureWarning: The behavior of DataFrame concatenation with empty or all-NA entries is deprecated. In a future version, this will no longer exclude empty or all-NA columns when determining the result dtypes. To retain the old behavior, exclude the relevant entries before the concat operation.\n",
      "  en_data = pd.concat([en_data, en_part], axis=0)\n",
      "/tmp/ipykernel_3471238/602120242.py:19: FutureWarning: The behavior of DataFrame concatenation with empty or all-NA entries is deprecated. In a future version, this will no longer exclude empty or all-NA columns when determining the result dtypes. To retain the old behavior, exclude the relevant entries before the concat operation.\n",
      "  es_data = pd.concat([es_data, es_part], axis=0)\n",
      "/tmp/ipykernel_3471238/602120242.py:20: FutureWarning: The behavior of DataFrame concatenation with empty or all-NA entries is deprecated. In a future version, this will no longer exclude empty or all-NA columns when determining the result dtypes. To retain the old behavior, exclude the relevant entries before the concat operation.\n",
      "  en_data = pd.concat([en_data, en_part], axis=0)\n",
      "/tmp/ipykernel_3471238/602120242.py:19: FutureWarning: The behavior of DataFrame concatenation with empty or all-NA entries is deprecated. In a future version, this will no longer exclude empty or all-NA columns when determining the result dtypes. To retain the old behavior, exclude the relevant entries before the concat operation.\n",
      "  es_data = pd.concat([es_data, es_part], axis=0)\n",
      "/tmp/ipykernel_3471238/602120242.py:20: FutureWarning: The behavior of DataFrame concatenation with empty or all-NA entries is deprecated. In a future version, this will no longer exclude empty or all-NA columns when determining the result dtypes. To retain the old behavior, exclude the relevant entries before the concat operation.\n",
      "  en_data = pd.concat([en_data, en_part], axis=0)\n",
      "/tmp/ipykernel_3471238/602120242.py:19: FutureWarning: The behavior of DataFrame concatenation with empty or all-NA entries is deprecated. In a future version, this will no longer exclude empty or all-NA columns when determining the result dtypes. To retain the old behavior, exclude the relevant entries before the concat operation.\n",
      "  es_data = pd.concat([es_data, es_part], axis=0)\n",
      "/tmp/ipykernel_3471238/602120242.py:20: FutureWarning: The behavior of DataFrame concatenation with empty or all-NA entries is deprecated. In a future version, this will no longer exclude empty or all-NA columns when determining the result dtypes. To retain the old behavior, exclude the relevant entries before the concat operation.\n",
      "  en_data = pd.concat([en_data, en_part], axis=0)\n",
      "/tmp/ipykernel_3471238/602120242.py:19: FutureWarning: The behavior of DataFrame concatenation with empty or all-NA entries is deprecated. In a future version, this will no longer exclude empty or all-NA columns when determining the result dtypes. To retain the old behavior, exclude the relevant entries before the concat operation.\n",
      "  es_data = pd.concat([es_data, es_part], axis=0)\n",
      "/tmp/ipykernel_3471238/602120242.py:20: FutureWarning: The behavior of DataFrame concatenation with empty or all-NA entries is deprecated. In a future version, this will no longer exclude empty or all-NA columns when determining the result dtypes. To retain the old behavior, exclude the relevant entries before the concat operation.\n",
      "  en_data = pd.concat([en_data, en_part], axis=0)\n"
     ]
    }
   ],
   "source": [
    "es_data = pd.DataFrame()\n",
    "en_data = pd.DataFrame()\n",
    "\n",
    "for part in range(1, 21):\n",
    "    folder = f\"part_{part}/\"\n",
    "    files = os.listdir(folder)\n",
    "    \n",
    "    for file in files:\n",
    "        if file.endswith(\".csv\"):  \n",
    "            filepath = os.path.join(folder, file)\n",
    "            data_part = pd.read_csv(filepath, low_memory=False)\n",
    "            \n",
    "            es_part = data_part[data_part['lang'] == 'es']\n",
    "            es_size = es_part.shape[0]\n",
    "            \n",
    "            if es_size > 0:\n",
    "                en_part = data_part[data_part['lang'] == 'en'].sample(es_size, random_state=442)\n",
    "                \n",
    "                es_data = pd.concat([es_data, es_part], axis=0) \n",
    "                en_data = pd.concat([en_data, en_part], axis=0)\n",
    "\n",
    "es_data.reset_index(drop=True, inplace=True)\n",
    "en_data.reset_index(drop=True, inplace=True)"
   ]
  },
  {
   "cell_type": "code",
   "execution_count": 3,
   "id": "58dc288d-3f30-48ec-b8b7-498105508e9a",
   "metadata": {},
   "outputs": [
    {
     "name": "stdout",
     "output_type": "stream",
     "text": [
      "English tweets raw count:  372957 \n",
      "Spanish tweets raw count:  372957\n"
     ]
    }
   ],
   "source": [
    "print(\"English tweets raw count: \", en_data.shape[0], \"\\nSpanish tweets raw count: \", es_data.shape[0])"
   ]
  },
  {
   "cell_type": "code",
   "execution_count": 12,
   "id": "38e46e6a-476b-4d2e-861b-d77b94cf9007",
   "metadata": {},
   "outputs": [
    {
     "data": {
      "text/plain": [
       "370443"
      ]
     },
     "execution_count": 12,
     "metadata": {},
     "output_type": "execute_result"
    }
   ],
   "source": [
    "en_data.retweetedUserID.isna().sum()"
   ]
  },
  {
   "cell_type": "code",
   "execution_count": 13,
   "id": "9d204ff8-06d3-4674-ab51-9a1c35639818",
   "metadata": {},
   "outputs": [
    {
     "data": {
      "text/plain": [
       "371113"
      ]
     },
     "execution_count": 13,
     "metadata": {},
     "output_type": "execute_result"
    }
   ],
   "source": [
    "es_data.retweetedUserID.isna().sum()"
   ]
  },
  {
   "cell_type": "code",
   "execution_count": 11,
   "id": "459d6286-8638-4b9c-8ae3-05bf7947cfda",
   "metadata": {},
   "outputs": [
    {
     "data": {
      "text/plain": [
       "Index(['id', 'text', 'url', 'epoch', 'media', 'retweetedTweet',\n",
       "       'retweetedTweetID', 'retweetedUserID', 'id_str', 'lang', 'rawContent',\n",
       "       'replyCount', 'retweetCount', 'likeCount', 'quoteCount',\n",
       "       'conversationId', 'conversationIdStr', 'hashtags', 'mentionedUsers',\n",
       "       'links', 'viewCount', 'quotedTweet', 'in_reply_to_screen_name',\n",
       "       'in_reply_to_status_id_str', 'in_reply_to_user_id_str', 'location',\n",
       "       'cash_app_handle', 'user', 'date', '_type'],\n",
       "      dtype='object')"
      ]
     },
     "execution_count": 11,
     "metadata": {},
     "output_type": "execute_result"
    }
   ],
   "source": [
    "es_data.columns"
   ]
  },
  {
   "cell_type": "code",
   "execution_count": 9,
   "id": "57302a30-f899-43d1-8012-644c42fccc41",
   "metadata": {},
   "outputs": [],
   "source": [
    "# Keep relevant and non-empty columns\n",
    "columns_to_keep = [\n",
    "    'id', 'text', 'lang', 'epoch', 'hashtags', 'links', \n",
    "    'replyCount', 'retweetCount', 'likeCount', 'quoteCount', \n",
    "    'conversationId', 'mentionedUsers', 'user'\n",
    "]"
   ]
  },
  {
   "cell_type": "code",
   "execution_count": 10,
   "id": "8cfcf623-e53f-4f08-b1f9-404af6ff51d9",
   "metadata": {},
   "outputs": [],
   "source": [
    "en_data = en_data[columns_to_keep]\n",
    "es_data = es_data[columns_to_keep]\n"
   ]
  },
  {
   "cell_type": "code",
   "execution_count": 11,
   "id": "31d48699-010f-45ac-bda1-4bacb9d10cec",
   "metadata": {},
   "outputs": [],
   "source": [
    "def user_to_dict(user):\n",
    "    try:\n",
    "        # User metadata interested in\n",
    "        user_metadata = ['id_str', 'followersCount', 'friendsCount', 'statusesCount']\n",
    "        \n",
    "        metadata_dict = {}\n",
    "        \n",
    "        for metadata in user_metadata:\n",
    "            pattern = rf\"'{metadata}':\\s*('[^']*'|\\d+|True|False|None)\"\n",
    "            match = re.search(pattern, user)\n",
    "            \n",
    "            if match:\n",
    "                metadata_dict[metadata] = match.group(1)  # Extract the matched value\n",
    "            else:\n",
    "                metadata_dict[metadata] = None\n",
    "        \n",
    "        return metadata_dict\n",
    "    \n",
    "    except Exception as e:\n",
    "        print(\"Error occurred:\", e)\n",
    "        print(\"User data:\", user)\n",
    "        raise"
   ]
  },
  {
   "cell_type": "code",
   "execution_count": 12,
   "id": "7268721b-2f9a-4fab-8849-27da37b1ae4a",
   "metadata": {},
   "outputs": [],
   "source": [
    "en_data['user'] = en_data['user'].apply(user_to_dict)\n",
    "es_data['user'] = es_data['user'].apply(user_to_dict)\n"
   ]
  },
  {
   "cell_type": "code",
   "execution_count": 13,
   "id": "e2c2e7d9-e57a-41ef-bf29-b2f085a2c9fb",
   "metadata": {},
   "outputs": [],
   "source": [
    "# Flatten user metadata into separate columns\n",
    "user_metadata = ['id_str', 'followersCount', 'friendsCount', 'statusesCount']\n",
    "for meta in user_metadata:\n",
    "    en_data[meta] = en_data['user'].apply(lambda x: x.get(meta))\n",
    "    es_data[meta] = es_data['user'].apply(lambda x: x.get(meta))\n",
    "\n"
   ]
  },
  {
   "cell_type": "code",
   "execution_count": 14,
   "id": "7dfb22b7-0aee-4cc8-88e8-35217c4c6c03",
   "metadata": {},
   "outputs": [],
   "source": [
    "en_data.drop(columns=['user'], inplace=True)\n",
    "es_data.drop(columns=['user'], inplace=True)\n"
   ]
  },
  {
   "cell_type": "code",
   "execution_count": 15,
   "id": "b66a6839-0ecd-4aa3-8dbe-f64dc27fe1c5",
   "metadata": {},
   "outputs": [],
   "source": [
    "def convert_format(field):\n",
    "    return ast.literal_eval(field)\n",
    "\n",
    "# Convert string representation of lists into lists\n",
    "en_data['hashtags'] = en_data['hashtags'].apply(convert_format)\n",
    "en_data['links'] = en_data['links'].apply(convert_format)\n",
    "en_data['mentionedUsers'] = en_data['mentionedUsers'].apply(convert_format)\n",
    "\n",
    "es_data['hashtags'] = es_data['hashtags'].apply(convert_format)\n",
    "es_data['links'] = es_data['links'].apply(convert_format)\n",
    "es_data['mentionedUsers'] = es_data['mentionedUsers'].apply(convert_format)\n"
   ]
  },
  {
   "cell_type": "code",
   "execution_count": 31,
   "id": "ef5b30cf-4059-4e04-9722-b02053b8cef1",
   "metadata": {},
   "outputs": [
    {
     "data": {
      "text/plain": [
       "[{'indices': [28, 47], 'text': 'IStandWithKejriwal'}]"
      ]
     },
     "execution_count": 31,
     "metadata": {},
     "output_type": "execute_result"
    }
   ],
   "source": [
    "en_data['hashtags'][372956]"
   ]
  },
  {
   "cell_type": "markdown",
   "id": "4584d43d-8fda-4315-9bdf-a772510b6bd3",
   "metadata": {},
   "source": [
    "### 2. Data exploration"
   ]
  },
  {
   "cell_type": "markdown",
   "id": "48324fdb-2eba-49d6-b99e-653ac9ce3e56",
   "metadata": {},
   "source": [
    "#### 2.1 Popular hashtags"
   ]
  },
  {
   "cell_type": "code",
   "execution_count": 17,
   "id": "75a0ab20-d068-4a3e-b71c-8af6dd5dcda8",
   "metadata": {},
   "outputs": [],
   "source": [
    "# en_data = pd.read_csv(\"en.csv\")\n",
    "# es_data = pd.read_csv(\"es.csv\")\n",
    "# def convert_format(field):\n",
    "#     return ast.literal_eval(field)\n",
    "\n",
    "# en_data['hashtags'] = en_data['hashtags'].apply(convert_format)\n",
    "# en_data['links'] = en_data['links'].apply(convert_format)\n",
    "# en_data['mentionedUsers'] = en_data['mentionedUsers'].apply(convert_format)\n",
    "\n",
    "# es_data['hashtags'] = es_data['hashtags'].apply(convert_format)\n",
    "# es_data['links'] = es_data['links'].apply(convert_format)\n",
    "# es_data['mentionedUsers'] = es_data['mentionedUsers'].apply(convert_format)\n"
   ]
  },
  {
   "cell_type": "code",
   "execution_count": 18,
   "id": "421fa7d1-fbc1-422b-b74f-b5f81577355a",
   "metadata": {},
   "outputs": [],
   "source": [
    "from collections import Counter\n",
    "\n",
    "en_tags = []\n",
    "es_tags = []\n",
    "\n",
    "for hashtags in en_data['hashtags']:\n",
    "    if len(hashtags):\n",
    "        en_tags.extend(tag['text'] for tag in hashtags if 'text' in tag)\n",
    "        \n",
    "for hashtags in es_data['hashtags']:\n",
    "    if len(hashtags):\n",
    "        es_tags.extend(tag['text'] for tag in hashtags if 'text' in tag)\n",
    "        \n",
    "en_tag_freq = Counter(en_tags)\n",
    "es_tag_freq = Counter(es_tags)"
   ]
  },
  {
   "cell_type": "code",
   "execution_count": 23,
   "id": "e732c009-b3e9-4d66-9e95-dd9fa07bfce7",
   "metadata": {},
   "outputs": [
    {
     "data": {
      "text/plain": [
       "71955"
      ]
     },
     "execution_count": 23,
     "metadata": {},
     "output_type": "execute_result"
    }
   ],
   "source": [
    "sum(en_tag_freq.values()) "
   ]
  },
  {
   "cell_type": "code",
   "execution_count": 22,
   "id": "f43bff2b-1158-4d30-a24a-3202168767d5",
   "metadata": {},
   "outputs": [
    {
     "data": {
      "text/plain": [
       "109529"
      ]
     },
     "execution_count": 22,
     "metadata": {},
     "output_type": "execute_result"
    }
   ],
   "source": [
    "sum(es_tag_freq.values()) "
   ]
  },
  {
   "cell_type": "code",
   "execution_count": 24,
   "id": "c00588ef-6100-436b-8acc-506ced048d6f",
   "metadata": {},
   "outputs": [
    {
     "name": "stdout",
     "output_type": "stream",
     "text": [
      "\n",
      "Top 10 English Tags by Frequency:\n",
      "Trump2024 5180\n",
      "MAGA 4516\n",
      "Trump 2664\n",
      "Biden 2265\n",
      "BidenHarris2024 1351\n",
      "DonaldTrump 667\n",
      "maga 595\n",
      "Biden2024 555\n",
      "trump 515\n",
      "GOP 504\n",
      "\n",
      "Top 10 Spanish Tags by Frequency:\n",
      "Biden 4945\n",
      "Trump 3972\n",
      "Trump2024 3236\n",
      "EEUU 2892\n",
      "MAGA 1912\n",
      "Mundo 1795\n",
      "DonaldTrump 1766\n",
      "EstadosUnidos 1470\n",
      "Internacional 1402\n",
      "JoeBiden 1269\n"
     ]
    }
   ],
   "source": [
    "# total_en_tags = sum(en_tag_freq.values())  \n",
    "# total_es_tags = sum(es_tag_freq.values())  \n",
    "\n",
    "# en_tag_percent = Counter({tag: (count / total_en_tags) * 100 for tag, count in en_tag_freq.items()})\n",
    "# es_tag_percent = Counter({tag: (count / total_es_tags) * 100 for tag, count in es_tag_freq.items()})\n",
    "\n",
    "print(\"\\nTop 10 English Tags by Frequency:\")\n",
    "for tag, frequency in en_tag_freq.most_common(10):\n",
    "    print(f\"{tag} {frequency}\")\n",
    "\n",
    "print(\"\\nTop 10 Spanish Tags by Frequency:\")\n",
    "for tag, frequency in es_tag_freq.most_common(10):\n",
    "    print(f\"{tag} {frequency}\")"
   ]
  },
  {
   "cell_type": "markdown",
   "id": "d9a2ff2c-22a4-4033-9404-dccff7b8f15b",
   "metadata": {},
   "source": [
    "#### 2.2 Popular links"
   ]
  },
  {
   "cell_type": "code",
   "execution_count": 25,
   "id": "ea6967ac-3d39-4957-92ca-28fabe8bf805",
   "metadata": {},
   "outputs": [],
   "source": [
    "en_links = []\n",
    "es_links = []\n",
    "\n",
    "for links in en_data['links']:\n",
    "    if len(links):\n",
    "        en_links.extend(link['expanded_url'] for link in links if 'expanded_url' in link)\n",
    "        \n",
    "for links in es_data['links']:\n",
    "    if len(links):\n",
    "        es_links.extend(link['expanded_url'] for link in links if 'expanded_url' in link)\n",
    "        \n",
    "en_link_freq = Counter(en_links)\n",
    "es_link_freq = Counter(es_links)"
   ]
  },
  {
   "cell_type": "code",
   "execution_count": 27,
   "id": "602f3241-d532-4536-996b-9033b1d49b59",
   "metadata": {},
   "outputs": [
    {
     "name": "stdout",
     "output_type": "stream",
     "text": [
      "Total links shared in English data: 37842. Total links shared in Spanish data: 85300\n"
     ]
    }
   ],
   "source": [
    "total_en_links = sum(en_link_freq.values())  \n",
    "total_es_links = sum(es_link_freq.values())  \n",
    "print(f\"Total links shared in English data: {total_en_links}. Total links shared in Spanish data: {total_es_links}\")"
   ]
  },
  {
   "cell_type": "code",
   "execution_count": 30,
   "id": "ffcdaabf-b97b-411a-b607-7eae8ce47299",
   "metadata": {},
   "outputs": [
    {
     "name": "stdout",
     "output_type": "stream",
     "text": [
      "\n",
      "Top 10 English Links by Frequency:\n",
      "https://www.politico.com/live-updates/2024/07/08/congress/defiant-biden-tells-donors-were-done-with-the-debate-00166834 43\n",
      "https://x.com/DonaldToTheMoon/status/1814940269604684154 38\n",
      "https://dailym.ai/ios 37\n",
      "http://msn.com 24\n",
      "https://www.donaldjtrump.com/agenda47 22\n",
      "https://secure.actblue.com/donate/social-bfp-july-2024-v2 22\n",
      "https://www.foxnews.com/politics/federal-judge-blocks-biden-title-ix-rule-4-states-abuse-power 18\n",
      "http://bit.ly/news-net 17\n",
      "https://opr.as/share 17\n",
      "https://newsvendor.com 17\n",
      "\n",
      "Top 10 Spanish Links by Frequency:\n",
      "http://nmas.com.mx/foro-tv 95\n",
      "https://linktr.ee/whitehouse 90\n",
      "https://www.clarin.com/mundo/millonaria-batalla-donaciones-sacude-duelo-joe-biden-donald-trump_0_lTageeKP3H.html 84\n",
      "https://www.clarin.com/mundo/atentado-donald-trump-impacto-ataque-puede-tener-elecciones-presidenciales-noviembre_0_XkoXa4yAQa.html 50\n",
      "https://fbvo.short.gy/fAhuoh 44\n",
      "https://fbvo.short.gy/ANrsQI 43\n",
      "https://www.clarin.com/mundo/trump-retomo-campana-descarto-amenaza-democracia-burlo-coeficiente-intelectual-joe-biden_0_7wQLW9MiH4.html 42\n",
      "https://fbvo.short.gy/ygSUSl 42\n",
      "http://mvsnoticias.com 41\n",
      "https://www.eldiario.es/1_af72d6?utm_campaign=botonera-share&utm_medium=social&utm_source=twitter 41\n"
     ]
    }
   ],
   "source": [
    "# total_en_links = sum(en_link_freq.values())  \n",
    "# total_es_links = sum(es_link_freq.values())  \n",
    "\n",
    "# en_link_percent = Counter({link: (count / total_en_links) * 100 for link, count in en_link_freq.items()})\n",
    "# es_link_percent = Counter({link: (count / total_es_links) * 100 for link, count in es_link_freq.items()})\n",
    "\n",
    "print(\"\\nTop 10 English Links by Frequency:\")\n",
    "for link, freq in en_link_freq.most_common(10):\n",
    "    print(f\"{link} {freq}\")\n",
    "\n",
    "print(\"\\nTop 10 Spanish Links by Frequency:\")\n",
    "for link, freq in es_link_freq.most_common(10):\n",
    "    print(f\"{link} {freq}\")"
   ]
  },
  {
   "cell_type": "code",
   "execution_count": 20,
   "id": "d5da7cb1-9f16-43fe-8fae-fdf622ce2d6c",
   "metadata": {},
   "outputs": [
    {
     "name": "stdout",
     "output_type": "stream",
     "text": [
      "Unqiue users for downsampled English data: 227414\n"
     ]
    }
   ],
   "source": [
    "print(\"Unqiue users for downsampled English data:\",len(set(en_data['id_str']) ))"
   ]
  },
  {
   "cell_type": "code",
   "execution_count": 21,
   "id": "30ace936-c78c-4a50-8c70-f8eb20438537",
   "metadata": {},
   "outputs": [
    {
     "name": "stdout",
     "output_type": "stream",
     "text": [
      "Unqiue users for downsampled English data: 125909\n"
     ]
    }
   ],
   "source": [
    "print(\"Unqiue users for downsampled English data:\",len(set(es_data['id_str'])))"
   ]
  },
  {
   "cell_type": "markdown",
   "id": "67d45ccb-d616-4aaa-88b2-a1aafbbb23ce",
   "metadata": {},
   "source": [
    "#### Check the amount of bilingual posters (case study)"
   ]
  },
  {
   "cell_type": "code",
   "execution_count": 23,
   "id": "f1756855-fc9c-4f2b-8fbc-2c189b4be4a6",
   "metadata": {},
   "outputs": [],
   "source": [
    "users_en = set(en_data['id_str'])  \n",
    "users_es = set(es_data['id_str'])\n",
    "\n",
    "bilingual_posters = users_en.intersection(users_es)\n",
    "\n",
    "bilingual_posters = list(bilingual_posters)\n",
    "\n"
   ]
  },
  {
   "cell_type": "code",
   "execution_count": 24,
   "id": "8c57cf32-e5c3-4c77-8d9c-336df37159b6",
   "metadata": {},
   "outputs": [
    {
     "name": "stdout",
     "output_type": "stream",
     "text": [
      "7317 users posted in English and Spanish\n"
     ]
    }
   ],
   "source": [
    "print(len(bilingual_posters), \"users posted in English and Spanish\")"
   ]
  },
  {
   "cell_type": "code",
   "execution_count": 25,
   "id": "0b85e4f8-0cce-4b7a-91b9-f05ee890b8c0",
   "metadata": {},
   "outputs": [],
   "source": [
    "en_data.to_csv(\"en.csv\", index=False)\n",
    "es_data.to_csv(\"es.csv\", index=False)"
   ]
  },
  {
   "cell_type": "code",
   "execution_count": null,
   "id": "8c748866-1d6c-4ea4-a616-b546ef55c9c3",
   "metadata": {},
   "outputs": [],
   "source": []
  }
 ],
 "metadata": {
  "kernelspec": {
   "display_name": "Python 3 (ipykernel)",
   "language": "python",
   "name": "python3"
  },
  "language_info": {
   "codemirror_mode": {
    "name": "ipython",
    "version": 3
   },
   "file_extension": ".py",
   "mimetype": "text/x-python",
   "name": "python",
   "nbconvert_exporter": "python",
   "pygments_lexer": "ipython3",
   "version": "3.11.7"
  }
 },
 "nbformat": 4,
 "nbformat_minor": 5
}
