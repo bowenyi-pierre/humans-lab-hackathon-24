{
 "cells": [
  {
   "cell_type": "code",
   "execution_count": 113,
   "id": "89474fc0-8fc4-4cbc-a5c9-6e1aa1153ad5",
   "metadata": {},
   "outputs": [],
   "source": [
    "import pandas as pd\n",
    "import os\n",
    "import json\n",
    "import re\n",
    "import ast\n"
   ]
  },
  {
   "cell_type": "markdown",
   "id": "d3651e40-50e5-4999-b42d-4127715b5412",
   "metadata": {},
   "source": [
    "### 1. Preprocessing"
   ]
  },
  {
   "cell_type": "code",
   "execution_count": 2,
   "id": "05b1b5e1-f428-4160-a25d-3a23fece0a55",
   "metadata": {},
   "outputs": [],
   "source": [
    "p1_files = os.listdir(\"part_1/\")\n",
    "data_p1 = pd.DataFrame()\n",
    "for file in p1_files:\n",
    "    if file.endswith(\".csv\"):\n",
    "        data = pd.read_csv(\"part_1/\" + file, low_memory=False)\n",
    "        data_p1 = pd.concat([data_p1, data], axis=0)\n"
   ]
  },
  {
   "cell_type": "code",
   "execution_count": 3,
   "id": "901d4425-fb1c-47dc-aa1f-c7295d1a8536",
   "metadata": {},
   "outputs": [],
   "source": [
    "p2_files = os.listdir(\"part_2/\")\n",
    "data_p2 = pd.DataFrame()\n",
    "for file in p2_files:\n",
    "    if file.endswith(\".csv\"):\n",
    "        data = pd.read_csv(\"part_2/\" + file, low_memory=False)\n",
    "        data_p2 = pd.concat([data_p2, data], axis=0)\n"
   ]
  },
  {
   "cell_type": "code",
   "execution_count": 4,
   "id": "00d13c7a-721b-4bfb-a7c6-28bc310bd1f4",
   "metadata": {},
   "outputs": [],
   "source": [
    "p3_files = os.listdir(\"part_3/\")\n",
    "data_p3 = pd.DataFrame()\n",
    "for file in p3_files:\n",
    "    if file.endswith(\".csv\"):\n",
    "        data = pd.read_csv(\"part_3/\" + file, low_memory=False)\n",
    "        data_p3 = pd.concat([data_p3, data], axis=0)\n"
   ]
  },
  {
   "cell_type": "code",
   "execution_count": 5,
   "id": "50ef23cd-9105-4744-9178-fa3f022ad4b6",
   "metadata": {},
   "outputs": [],
   "source": [
    "p4_files = os.listdir(\"part_4/\")\n",
    "data_p4 = pd.DataFrame()\n",
    "for file in p4_files:\n",
    "    if file.endswith(\".csv\"):\n",
    "        data = pd.read_csv(\"part_4/\" + file, low_memory=False)\n",
    "        data_p4 = pd.concat([data_p4, data], axis=0)\n"
   ]
  },
  {
   "cell_type": "code",
   "execution_count": 6,
   "id": "fdea5ad2-7c59-40ba-817c-754a7f054948",
   "metadata": {},
   "outputs": [],
   "source": [
    "p5_files = os.listdir(\"part_5/\")\n",
    "data_p5 = pd.DataFrame()\n",
    "for file in p5_files:\n",
    "    if file.endswith(\".csv\"):\n",
    "        data = pd.read_csv(\"part_5/\" + file, low_memory=False)\n",
    "        data_p5 = pd.concat([data_p5, data], axis=0)\n"
   ]
  },
  {
   "cell_type": "code",
   "execution_count": 7,
   "id": "8feb1f29-10e0-4b27-b028-d102dda8675b",
   "metadata": {},
   "outputs": [
    {
     "name": "stdout",
     "output_type": "stream",
     "text": [
      "Top 3 language in part 1: lang\n",
      "en     883111\n",
      "qme     26206\n",
      "es      20886\n",
      "Name: count, dtype: int64\n",
      "Top 3 language in part 2: lang\n",
      "en     882757\n",
      "qme     26912\n",
      "es      17786\n",
      "Name: count, dtype: int64\n",
      "Top 3 language in part 3: lang\n",
      "en     859551\n",
      "qme     23708\n",
      "es      14482\n",
      "Name: count, dtype: int64\n",
      "Top 3 language in part 4: lang\n",
      "en     904990\n",
      "qme     22734\n",
      "es      17931\n",
      "Name: count, dtype: int64\n",
      "Top 3 language in part 5: lang\n",
      "en     891663\n",
      "qme     30762\n",
      "es      13910\n",
      "Name: count, dtype: int64\n"
     ]
    }
   ],
   "source": [
    "print(\"Top 3 language in part 1:\", data_p1.lang.value_counts()[0:3])\n",
    "print(\"Top 3 language in part 2:\", data_p2.lang.value_counts()[0:3])\n",
    "print(\"Top 3 language in part 3:\", data_p3.lang.value_counts()[0:3])\n",
    "print(\"Top 3 language in part 4:\", data_p4.lang.value_counts()[0:3])\n",
    "print(\"Top 3 language in part 5:\", data_p5.lang.value_counts()[0:3])\n"
   ]
  },
  {
   "cell_type": "markdown",
   "id": "e0dcacbf-3023-405c-ad57-f0a493d19ce5",
   "metadata": {},
   "source": [
    "### For simplicity and the RQ, we only consider \"en\" and \"es\" posts. (es is also the second most popular languages in the dataset) "
   ]
  },
  {
   "cell_type": "code",
   "execution_count": 8,
   "id": "7ef1fdc8-48a3-4b82-a062-f55c0aaf2d3d",
   "metadata": {},
   "outputs": [],
   "source": [
    "data_p1 = data_p1[(data_p1['lang'] == 'en') | (data_p1['lang'] == 'es')]\n",
    "data_p2 = data_p2[(data_p2['lang'] == 'en') | (data_p2['lang'] == 'es')]\n",
    "data_p3 = data_p3[(data_p3['lang'] == 'en') | (data_p3['lang'] == 'es')]\n",
    "data_p4 = data_p4[(data_p4['lang'] == 'en') | (data_p4['lang'] == 'es')]\n",
    "data_p5 = data_p5[(data_p5['lang'] == 'en') | (data_p5['lang'] == 'es')]\n"
   ]
  },
  {
   "cell_type": "code",
   "execution_count": 9,
   "id": "9b7eb1ce-2a9a-4be9-bff9-8fbcd60db639",
   "metadata": {},
   "outputs": [],
   "source": [
    "data_p1 = data_p1[data_p1['text'].notna()]\n",
    "data_p1 = data_p1[data_p1['text'].str.strip() != '']\n",
    "\n",
    "data_p2 = data_p2[data_p2['text'].notna()]\n",
    "data_p2 = data_p2[data_p2['text'].str.strip() != '']\n",
    "\n",
    "data_p3 = data_p3[data_p3['text'].notna()]\n",
    "data_p3 = data_p3[data_p3['text'].str.strip() != '']\n",
    "\n",
    "data_p4 = data_p4[data_p4['text'].notna()]\n",
    "data_p4 = data_p4[data_p4['text'].str.strip() != '']\n",
    "\n",
    "data_p5 = data_p5[data_p5['text'].notna()]\n",
    "data_p5 = data_p5[data_p5['text'].str.strip() != '']\n"
   ]
  },
  {
   "cell_type": "code",
   "execution_count": 44,
   "id": "7ac37d3d-feea-415a-b2e8-0957e6ea035e",
   "metadata": {},
   "outputs": [],
   "source": [
    "data = pd.DataFrame()"
   ]
  },
  {
   "cell_type": "code",
   "execution_count": 45,
   "id": "ac4a9522-1161-4ca9-a07e-8375d35980c6",
   "metadata": {},
   "outputs": [],
   "source": [
    "data = pd.concat([data, data_p1])"
   ]
  },
  {
   "cell_type": "code",
   "execution_count": 46,
   "id": "d41396ef-52b5-46d4-a4ad-e6b2201c5660",
   "metadata": {},
   "outputs": [],
   "source": [
    "data = pd.concat([data, data_p2])"
   ]
  },
  {
   "cell_type": "code",
   "execution_count": 47,
   "id": "cff266f0-6956-4c4d-a0f3-6f1955d138ba",
   "metadata": {},
   "outputs": [],
   "source": [
    "data = pd.concat([data, data_p3])"
   ]
  },
  {
   "cell_type": "code",
   "execution_count": 48,
   "id": "55b4aa18-0b70-4c61-9a4b-8efad0a5f810",
   "metadata": {},
   "outputs": [],
   "source": [
    "data = pd.concat([data, data_p4])"
   ]
  },
  {
   "cell_type": "code",
   "execution_count": 49,
   "id": "6ae5514c-04a6-4a96-8fb6-77e7710d21f7",
   "metadata": {},
   "outputs": [],
   "source": [
    "data = pd.concat([data, data_p5])"
   ]
  },
  {
   "cell_type": "code",
   "execution_count": 146,
   "id": "80d20e2e-ef01-4ee3-b6e3-e06fd35ec61a",
   "metadata": {},
   "outputs": [
    {
     "data": {
      "text/plain": [
       "(4507066, 30)"
      ]
     },
     "execution_count": 146,
     "metadata": {},
     "output_type": "execute_result"
    }
   ],
   "source": [
    "data.shape"
   ]
  },
  {
   "cell_type": "code",
   "execution_count": 50,
   "id": "44865ae9-fa48-4d66-9a65-89c32c634fd3",
   "metadata": {},
   "outputs": [],
   "source": [
    "data.reset_index(drop=True, inplace=True)\n"
   ]
  },
  {
   "cell_type": "code",
   "execution_count": 51,
   "id": "57302a30-f899-43d1-8012-644c42fccc41",
   "metadata": {},
   "outputs": [],
   "source": [
    "columns_to_keep = [\n",
    "    'id', 'text', 'lang', 'epoch', 'hashtags', 'links', \n",
    "    'replyCount', 'retweetCount', 'likeCount', 'quoteCount', \n",
    "    'conversationId', 'mentionedUsers', 'user'\n",
    "]\n",
    "data = data[columns_to_keep]\n"
   ]
  },
  {
   "cell_type": "code",
   "execution_count": 52,
   "id": "31d48699-010f-45ac-bda1-4bacb9d10cec",
   "metadata": {},
   "outputs": [],
   "source": [
    "def user_to_dict(user):\n",
    "    try:\n",
    "        # User metadata interested in\n",
    "        user_metadata = ['id_str', 'followersCount', 'friendsCount', 'statusesCount']\n",
    "        \n",
    "        metadata_dict = {}\n",
    "        \n",
    "        for metadata in user_metadata:\n",
    "            pattern = rf\"'{metadata}':\\s*('[^']*'|\\d+|True|False|None)\"\n",
    "            match = re.search(pattern, user)\n",
    "            \n",
    "            if match:\n",
    "                metadata_dict[metadata] = match.group(1)  # Extract the matched value\n",
    "            else:\n",
    "                metadata_dict[metadata] = None\n",
    "        \n",
    "        return metadata_dict\n",
    "    \n",
    "    except Exception as e:\n",
    "        print(\"Error occurred:\", e)\n",
    "        print(\"User data:\", user)\n",
    "        raise"
   ]
  },
  {
   "cell_type": "code",
   "execution_count": 53,
   "id": "7268721b-2f9a-4fab-8849-27da37b1ae4a",
   "metadata": {},
   "outputs": [],
   "source": [
    "data['user'] = data['user'].apply(user_to_dict)"
   ]
  },
  {
   "cell_type": "code",
   "execution_count": 60,
   "id": "e20f0729-1c76-4c20-9563-83f9e2817f81",
   "metadata": {},
   "outputs": [
    {
     "data": {
      "text/plain": [
       "'19692'"
      ]
     },
     "execution_count": 60,
     "metadata": {},
     "output_type": "execute_result"
    }
   ],
   "source": [
    "data.user[0]['followersCount']"
   ]
  },
  {
   "cell_type": "code",
   "execution_count": 62,
   "id": "e2c2e7d9-e57a-41ef-bf29-b2f085a2c9fb",
   "metadata": {},
   "outputs": [],
   "source": [
    "# Flatten user metadata into separate columns\n",
    "user_metadata = ['id_str', 'followersCount', 'friendsCount', 'statusesCount']\n",
    "for meta in user_metadata:\n",
    "    data[meta] = data['user'].apply(lambda x: x.get(meta))\n",
    "\n"
   ]
  },
  {
   "cell_type": "code",
   "execution_count": 65,
   "id": "7dfb22b7-0aee-4cc8-88e8-35217c4c6c03",
   "metadata": {},
   "outputs": [],
   "source": [
    "data.drop(columns=['user'], inplace=True)"
   ]
  },
  {
   "cell_type": "code",
   "execution_count": 78,
   "id": "1fe5adec-1fb9-406a-b398-ed7565f5314b",
   "metadata": {},
   "outputs": [
    {
     "data": {
      "text/plain": [
       "Index(['id', 'text', 'lang', 'epoch', 'hashtags', 'links', 'replyCount',\n",
       "       'retweetCount', 'likeCount', 'quoteCount', 'conversationId',\n",
       "       'mentionedUsers', 'id_str', 'followersCount', 'friendsCount',\n",
       "       'statusesCount'],\n",
       "      dtype='object')"
      ]
     },
     "execution_count": 78,
     "metadata": {},
     "output_type": "execute_result"
    }
   ],
   "source": [
    "data.columns"
   ]
  },
  {
   "cell_type": "code",
   "execution_count": 144,
   "id": "b28e3e8c-6867-4a8e-a642-7f59a2df06d7",
   "metadata": {},
   "outputs": [],
   "source": [
    "# data.to_csv(\"twitter_data.csv\",index=False)"
   ]
  },
  {
   "cell_type": "code",
   "execution_count": null,
   "id": "b66a6839-0ecd-4aa3-8dbe-f64dc27fe1c5",
   "metadata": {},
   "outputs": [],
   "source": [
    "def convert_format(field):\n",
    "    return ast.literal_eval(field)\n",
    "\n",
    "# Convert string representation of lists into lists\n",
    "data['hashtags'] = data['hashtags'].apply(convert_format)\n",
    "data['links'] = data['links'].apply(convert_format)\n",
    "data['mentionedUsers'] = data['mentionedUsers'].apply(convert_format)\n"
   ]
  },
  {
   "cell_type": "markdown",
   "id": "4584d43d-8fda-4315-9bdf-a772510b6bd3",
   "metadata": {},
   "source": [
    "### 2. Data exploration"
   ]
  },
  {
   "cell_type": "code",
   "execution_count": 94,
   "id": "914956e5-990e-4738-a94a-6d92931151c5",
   "metadata": {},
   "outputs": [
    {
     "data": {
      "text/plain": [
       "Index(['id', 'text', 'lang', 'epoch', 'hashtags', 'links', 'replyCount',\n",
       "       'retweetCount', 'likeCount', 'quoteCount', 'conversationId',\n",
       "       'mentionedUsers', 'id_str', 'followersCount', 'friendsCount',\n",
       "       'statusesCount'],\n",
       "      dtype='object')"
      ]
     },
     "execution_count": 94,
     "metadata": {},
     "output_type": "execute_result"
    }
   ],
   "source": [
    "en_data.columns"
   ]
  },
  {
   "cell_type": "code",
   "execution_count": 148,
   "id": "5bd3792e-3154-4661-84b7-90358f24119c",
   "metadata": {},
   "outputs": [],
   "source": [
    "en_data = data[data['lang'] == 'en']\n",
    "es_data = data[data['lang'] == 'es']"
   ]
  },
  {
   "cell_type": "code",
   "execution_count": 159,
   "id": "a26246f0-6ae3-4eb6-b78f-88c77a157a11",
   "metadata": {},
   "outputs": [
    {
     "name": "stdout",
     "output_type": "stream",
     "text": [
      "Overall tweet counts: 4507066\n",
      "English tweet counts: 4422071\n",
      "Spanish tweet counts: 84995\n"
     ]
    }
   ],
   "source": [
    "print(\"Overall tweet counts:\", data.shape[0])\n",
    "print(\"English tweet counts:\", en_data.shape[0])\n",
    "print(\"Spanish tweet counts:\", es_data.shape[0])"
   ]
  },
  {
   "cell_type": "markdown",
   "id": "48324fdb-2eba-49d6-b99e-653ac9ce3e56",
   "metadata": {},
   "source": [
    "#### 2.1 Popular hashtags"
   ]
  },
  {
   "cell_type": "code",
   "execution_count": 149,
   "id": "421fa7d1-fbc1-422b-b74f-b5f81577355a",
   "metadata": {},
   "outputs": [],
   "source": [
    "from collections import Counter\n",
    "\n",
    "en_tags = []\n",
    "es_tags = []\n",
    "\n",
    "for hashtags in en_data['hashtags']:\n",
    "    if len(hashtags):\n",
    "        en_tags.extend(tag['text'] for tag in hashtags if 'text' in tag)\n",
    "        \n",
    "for hashtags in es_data['hashtags']:\n",
    "    if len(hashtags):\n",
    "        es_tags.extend(tag['text'] for tag in hashtags if 'text' in tag)\n",
    "        \n",
    "en_tag_freq = Counter(en_tags)\n",
    "es_tag_freq = Counter(es_tags)"
   ]
  },
  {
   "cell_type": "code",
   "execution_count": 157,
   "id": "c00588ef-6100-436b-8acc-506ced048d6f",
   "metadata": {},
   "outputs": [
    {
     "name": "stdout",
     "output_type": "stream",
     "text": [
      "\n",
      "Top 10 English Tags by Frequency:\n",
      "Trump2024: 4.78%\n",
      "MAGA: 4.68%\n",
      "Biden: 2.64%\n",
      "Trump: 1.82%\n",
      "BidenHarris2024: 1.37%\n",
      "GOP: 0.86%\n",
      "FoxNews: 0.84%\n",
      "maga: 0.79%\n",
      "VoteBlue2024: 0.67%\n",
      "TRUMP2024: 0.65%\n",
      "\n",
      "Top 10 Spanish Tags by Frequency:\n",
      "Biden: 5.01%\n",
      "EEUU: 2.60%\n",
      "Mundo: 2.39%\n",
      "Trump: 1.48%\n",
      "JoeBiden: 1.30%\n",
      "EstadosUnidos: 1.15%\n",
      "Internacional: 1.14%\n",
      "Trump2024: 1.08%\n",
      "USA: 1.03%\n",
      "Internacionales: 1.00%\n"
     ]
    }
   ],
   "source": [
    "total_en_tags = sum(en_tag_freq.values())  \n",
    "total_es_tags = sum(es_tag_freq.values())  \n",
    "\n",
    "en_tag_percent = Counter({tag: (count / total_en_tags) * 100 for tag, count in en_tag_freq.items()})\n",
    "es_tag_percent = Counter({tag: (count / total_es_tags) * 100 for tag, count in es_tag_freq.items()})\n",
    "\n",
    "print(\"\\nTop 10 English Tags by Frequency %:\")\n",
    "for tag, percent in en_tag_percent.most_common(10):\n",
    "    print(f\"{tag}: {percent:.2f}%\")\n",
    "\n",
    "print(\"\\nTop 10 Spanish Tags by Frequency %:\")\n",
    "for tag, percent in es_tag_percent.most_common(10):\n",
    "    print(f\"{tag}: {percent:.2f}%\")"
   ]
  },
  {
   "cell_type": "markdown",
   "id": "d9a2ff2c-22a4-4033-9404-dccff7b8f15b",
   "metadata": {},
   "source": [
    "#### 2.2 Popular links"
   ]
  },
  {
   "cell_type": "code",
   "execution_count": 163,
   "id": "ea6967ac-3d39-4957-92ca-28fabe8bf805",
   "metadata": {},
   "outputs": [],
   "source": [
    "en_links = []\n",
    "es_links = []\n",
    "\n",
    "for links in en_data['links']:\n",
    "    if len(links):\n",
    "        en_links.extend(link['expanded_url'] for link in links if 'expanded_url' in link)\n",
    "        \n",
    "for links in es_data['links']:\n",
    "    if len(links):\n",
    "        es_links.extend(link['expanded_url'] for link in links if 'expanded_url' in link)\n",
    "        \n",
    "en_link_freq = Counter(en_links)\n",
    "es_link_freq = Counter(es_links)"
   ]
  },
  {
   "cell_type": "code",
   "execution_count": 164,
   "id": "ffcdaabf-b97b-411a-b607-7eae8ce47299",
   "metadata": {},
   "outputs": [
    {
     "name": "stdout",
     "output_type": "stream",
     "text": [
      "\n",
      "Top 10 English Links by Frequency %:\n",
      "https://www.foxnews.com/politics/biden-dhs-docs-suggested-trump-supporters-military-religious-people-likely-violent-terror-threats: 0.10%\n",
      "https://www.foxnews.com/politics/federal-judge-blocks-biden-title-ix-rule-4-states-abuse-power: 0.08%\n",
      "https://opr.as/share: 0.08%\n",
      "https://dailym.ai/ios: 0.08%\n",
      "https://www.foxnews.com/media/pelosi-calls-trumps-family-republican-party-stage-intervention-trump-cult-thug: 0.07%\n",
      "http://msn.com: 0.07%\n",
      "https://www.foxnews.com/politics/house-committee-subpoenas-15-biden-cabinet-secretaries-hand-over-docs-voter-mobilization-scheme: 0.07%\n",
      "http://Newsmax.com: 0.06%\n",
      "https://www.foxnews.com/us/rachel-morin-murder-illegal-immigrant-from-el-salvador-charged-rape-killing-maryland-mom-5: 0.06%\n",
      "https://www.foxnews.com/politics/president-biden-appears-freeze-white-house-juneteenth-event: 0.06%\n",
      "\n",
      "Top 10 Spanish Links by Frequency %:\n",
      "https://www.clarin.com/mundo/millonaria-batalla-donaciones-sacude-duelo-joe-biden-donald-trump_0_lTageeKP3H.html: 0.49%\n",
      "https://linktr.ee/whitehouse: 0.28%\n",
      "https://fbvo.short.gy/ANrsQI: 0.25%\n",
      "https://fbvo.short.gy/TdmiJh: 0.23%\n",
      "https://www.clarin.com/new-york-times-international-weekly/biden-razon-frenar-inmigracion_0_aPGSl2YGTx.html: 0.23%\n",
      "https://fbvo.short.gy/HLgzuC: 0.22%\n",
      "https://fbvo.short.gy/tuGr2V: 0.19%\n",
      "https://fbvo.short.gy/qBXl1C: 0.19%\n",
      "https://actualidad.rt.com/actualidad/512893-biden-concentracion-confusion-g7: 0.18%\n",
      "https://fbvo.short.gy/zRwLuO: 0.18%\n"
     ]
    }
   ],
   "source": [
    "total_en_links = sum(en_link_freq.values())  \n",
    "total_es_links = sum(es_link_freq.values())  \n",
    "\n",
    "en_link_percent = Counter({link: (count / total_en_links) * 100 for link, count in en_link_freq.items()})\n",
    "es_link_percent = Counter({link: (count / total_es_links) * 100 for link, count in es_link_freq.items()})\n",
    "\n",
    "print(\"\\nTop 10 English Links by Frequency %:\")\n",
    "for link, percent in en_link_percent.most_common(10):\n",
    "    print(f\"{link}: {percent:.2f}%\")\n",
    "\n",
    "print(\"\\nTop 10 Spanish Links by Frequency %:\")\n",
    "for link, percent in es_link_percent.most_common(10):\n",
    "    print(f\"{link}: {percent:.2f}%\")"
   ]
  },
  {
   "cell_type": "code",
   "execution_count": null,
   "id": "04008477-ff8f-4940-b29f-011bc727cc11",
   "metadata": {},
   "outputs": [],
   "source": []
  },
  {
   "cell_type": "markdown",
   "id": "67d45ccb-d616-4aaa-88b2-a1aafbbb23ce",
   "metadata": {},
   "source": [
    "#### Check the amount of bilingual posters (case study)"
   ]
  },
  {
   "cell_type": "code",
   "execution_count": 79,
   "id": "f1756855-fc9c-4f2b-8fbc-2c189b4be4a6",
   "metadata": {},
   "outputs": [],
   "source": [
    "df_en = data[data['lang'] == 'en']  \n",
    "df_es = data[data['lang'] == 'es']  \n",
    "\n",
    "users_en = set(df_en['id_str'])  \n",
    "users_es = set(df_es['id_str'])\n",
    "\n",
    "bilingual_posters = users_en.intersection(users_es)\n",
    "\n",
    "bilingual_posters = list(bilingual_posters)\n",
    "\n"
   ]
  },
  {
   "cell_type": "code",
   "execution_count": 82,
   "id": "8c57cf32-e5c3-4c77-8d9c-336df37159b6",
   "metadata": {},
   "outputs": [
    {
     "name": "stdout",
     "output_type": "stream",
     "text": [
      "6071 users posted in English and Spanish\n"
     ]
    }
   ],
   "source": [
    "print(len(bilingual_posters), \"users posted in English and Spanish\")"
   ]
  },
  {
   "cell_type": "code",
   "execution_count": null,
   "id": "f58b4aab-d778-467f-b609-2581213bbb59",
   "metadata": {},
   "outputs": [],
   "source": []
  }
 ],
 "metadata": {
  "kernelspec": {
   "display_name": "Python 3 (ipykernel)",
   "language": "python",
   "name": "python3"
  },
  "language_info": {
   "codemirror_mode": {
    "name": "ipython",
    "version": 3
   },
   "file_extension": ".py",
   "mimetype": "text/x-python",
   "name": "python",
   "nbconvert_exporter": "python",
   "pygments_lexer": "ipython3",
   "version": "3.11.7"
  }
 },
 "nbformat": 4,
 "nbformat_minor": 5
}
